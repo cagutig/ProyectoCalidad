{
 "cells": [
  {
   "cell_type": "markdown",
   "metadata": {
    "id": "YLE3Y7VOPn3G"
   },
   "source": [
    "# Proyecto Calidad de Datos Bancoomeva Cliente Persona Jurídica"
   ]
  },
  {
   "cell_type": "markdown",
   "metadata": {
    "id": "dm33nuYTPn3L"
   },
   "source": [
    "# Configuración e importe de paquetes"
   ]
  },
  {
   "cell_type": "markdown",
   "metadata": {},
   "source": [
    "se importan los paquetes de python necesarios"
   ]
  },
  {
   "cell_type": "code",
   "execution_count": 1,
   "metadata": {
    "id": "gGiDdRBNPn3M"
   },
   "outputs": [],
   "source": [
    "from pyspark.sql import SparkSession\n",
    "from pyspark.sql import functions\n",
    "from pyspark.sql.types import StructType\n",
    "from pyspark import SparkContext, SparkConf, SQLContext\n",
    "from pyspark.sql.types import FloatType, StringType, IntegerType, DateType\n",
    "from pyspark.sql.functions import udf, col, length, isnan, when, count\n",
    "import pyspark.sql.functions as f\n",
    "import os \n",
    "from datetime import datetime\n",
    "from pyspark.sql import types as t\n",
    "#from pandas_profiling import ProfileReport\n",
    "import matplotlib.pyplot as plt\n",
    "import numpy as np"
   ]
  },
  {
   "cell_type": "markdown",
   "metadata": {
    "id": "Tyk0YmZRPn3N"
   },
   "source": [
    "Configuración del controlador e inicio de sesion Spark"
   ]
  },
  {
   "cell_type": "code",
   "execution_count": 2,
   "metadata": {
    "id": "0r-yix1rPn3O"
   },
   "outputs": [],
   "source": [
    "path_jar_driver = '/home/jovyan/code/java_sqlServer/mssql-jdbc-12.4.2.jre8.jar'"
   ]
  },
  {
   "cell_type": "code",
   "execution_count": 3,
   "metadata": {},
   "outputs": [
    {
     "name": "stderr",
     "output_type": "stream",
     "text": [
      "/opt/conda/envs/vscode_pyspark/lib/python3.11/site-packages/pyspark/sql/context.py:113: FutureWarning: Deprecated in 3.0.0. Use SparkSession.builder.getOrCreate() instead.\n",
      "  warnings.warn(\n"
     ]
    }
   ],
   "source": [
    "#Configuración de la sesión\n",
    "conf=SparkConf() \\\n",
    "    .set('spark.driver.extraClassPath', path_jar_driver) \\\n",
    "    .set('spark.driver.memory', '8g')  # Ajusta el tamaño de la memoria del driver según sea necesario\n",
    "\n",
    "\n",
    "spark_context = SparkContext(conf=conf)\n",
    "sql_context = SQLContext(spark_context)\n",
    "spark = sql_context.sparkSession\n"
   ]
  },
  {
   "cell_type": "markdown",
   "metadata": {
    "id": "Xw96w3ywPn3R"
   },
   "source": [
    "# Conexión a fuente de datos y acceso a los datos"
   ]
  },
  {
   "cell_type": "markdown",
   "metadata": {},
   "source": [
    "### Detalles de la conexión a la base de datos SQL de Azure"
   ]
  },
  {
   "cell_type": "code",
   "execution_count": 4,
   "metadata": {},
   "outputs": [],
   "source": [
    "# Detalles de conexión a la base de datos SQL de Azure\n",
    "url = \"jdbc:sqlserver://sqlserver-calidadgobierno.database.windows.net:1433;database=sqldb-calidadgobierno\"\n",
    "usuario = \"sqladmin@sqlserver-calidadgobierno\"\n",
    "contraseña = \"y.HCuP4gJBb?)MS/6~W!+;\"\n",
    "driver = \"com.microsoft.sqlserver.jdbc.SQLServerDriver\""
   ]
  },
  {
   "cell_type": "markdown",
   "metadata": {},
   "source": [
    "### Función para convertir un Dataframe en una tabla para mi base de datos "
   ]
  },
  {
   "cell_type": "code",
   "execution_count": 5,
   "metadata": {},
   "outputs": [],
   "source": [
    "from pyspark.sql import DataFrame\n",
    "def cargar_dataframe_a_tabla(dataframe: DataFrame, nombre_tabla: str):\n",
    "    \"\"\"\n",
    "    Método para cargar un DataFrame en una tabla de una base de datos.\n",
    "\n",
    "    Parámetros:\n",
    "    - dataframe: DataFrame que se cargará en la tabla.\n",
    "    - nombre_tabla: Nombre de la tabla en la base de datos.\n",
    "    \"\"\"\n",
    "    # Escribe el DataFrame en la base de datos como una tabla\n",
    "    dataframe.write.jdbc(url=url, table=nombre_tabla, mode=\"overwrite\", properties={\"user\": usuario, \"password\": contraseña, \"driver\": driver})"
   ]
  },
  {
   "cell_type": "code",
   "execution_count": 6,
   "metadata": {},
   "outputs": [
    {
     "name": "stdout",
     "output_type": "stream",
     "text": [
      "+------+------+---------+--------------------+------+--------------------+----------+--------+--------------------+-----------+-----------+----------+-----------------+------------------------+------------------+-------------------+----------+---------------------+----------------------------+----------------------------+--------------------+---------------------+----------+-----------+-----------+-----------+-----------+-----------+-----------+-----------+------------------------------------------+------------------+-----------------+----+--------+---------------+-------+--------------------+--------------------+----------------+----------+--------------------+-------------------------------+-------------+---------------------+--------------------+----------------+--------------+----------+--------+---------+-------+---------+----------------------+--------------------+-------------+----------+--------------------+--------------------+-------------------+-------------+------------------+--------------------+-----------------+---------+------------------+----------+----------+------+------+----------+---------+\n",
      "|TIPCLI|TIPDOC|      NIT|              NOMBRE|TIPREP|           REP_LEGAL|NIT_REPRST| CIU_REP|         NOM_CIU_REP|COD_DEP_REP|NOM_PAI_REP| FECEXPREP|CIUDAD_EXPEDICION|NOMBRE_CIUDAD_EXPEDICION|NOM_DEP_EXPEDICIÓN|NOM_PAIS_EXPEDICIÓN|   TEL_REP|FECHA_DE_CONSTITUCION|CODIGO_LUGAR_DE_CONSTITUCION|NOMBRE_LUGAR_DE_CONSTITUCION|COD_DEP_CONSTITUCIÓN|NOM_PAIS_CONSTITUCIÓN|FEC_INGBCO|TOT_ACTIVOB|TOT_PASIVOB|TOT_PTRMNOB|TOT_VENTASB|TOT_GASTOSB|CAP_SOCIALB|OTR_INGRSOB|DETALLE_DE_OTROS_INGRESOS_NO_OPERACIONALES|INGRESOS_MENSUALES|EGRESOS_MENSUALES|CIIU|REGIONAL|CODIGO_REGIONAL|AGEHOMO|     CODIGO_OFICNA_D|        TIPO_EMPRESA|SECTOR_ECONOMICO|TEL_COMERC|  DIRECCION_COMERCIO|CODIGO_CIUDAD_DE_SEDE_PRINCIPAL|NUMERO_SOCIOS|IDENTIFICACION_SOCIO1|       NOMBRE_SOCIO1|TIPO_PRODUCTO_ME|ID_PRODUCTO_ME|ENTIDAD_ME|MONTO_ME|CIUDAD_ME|PAIS_ME|MONEDA_ME|REALIZA_OPERACIONES_ME|          TIP_VINCLC|CARGO_PUBLICO|CUAL_CARGO|FECINI_CARGO_PUBLICO|FECFIN_CARGO_PUBLICO|DESEMP_CARGO_ACTUAL|REP_LEGAL_ONG|TIENE_VINCULO_PEPS|   Dir_Representante|Posee_Cuentas_Ext|ESTGESCOM|VINCULACIONES_GURU| FECUAC_EF|    FECUAC|SCORER|Fuente|FechaCorte|id_activo|\n",
      "+------+------+---------+--------------------+------+--------------------+----------+--------+--------------------+-----------+-----------+----------+-----------------+------------------------+------------------+-------------------+----------+---------------------+----------------------------+----------------------------+--------------------+---------------------+----------+-----------+-----------+-----------+-----------+-----------+-----------+-----------+------------------------------------------+------------------+-----------------+----+--------+---------------+-------+--------------------+--------------------+----------------+----------+--------------------+-------------------------------+-------------+---------------------+--------------------+----------------+--------------+----------+--------+---------+-------+---------+----------------------+--------------------+-------------+----------+--------------------+--------------------+-------------------+-------------+------------------+--------------------+-----------------+---------+------------------+----------+----------+------+------+----------+---------+\n",
      "|     1|     3|900962442|CONSTRUCTORA PROG...|     1|CASTRO GONZALEZ D...|  86066178|50001000|VILLAVICENCIO (META)|         50|        COL|11/12/1998|         50001000|    VILLAVICENCIO (META)|                50|                COL|3108814088|            2/04/2016|                    50001000|        VILLAVICENCIO (META)|                  50|                  COL|20/04/2016|         32|          1|         50|         32|          1|         50|       NULL|                                      NULL|                 1|                1|4330|       5|         Bogota|   2901|2901 - Villavicencio|Sociedad Anonima ...|               9|3108814088|CL 15 5 64 ESTE P...|                       50001000|            1|             86066178|CASTRO GONZALEZ D...|               0|             0|      NULL|     0.0|     NULL|   NULL|     NULL|                     N|        Solo Cliente|            N|      NULL|                   0|                   0|               NULL|            N|                 N|         CR 19 18 63|                N| INACTIVO|                 0|20/04/2016|20/04/2016|  BAJO|Bodega|31/01/2024|        2|\n",
      "|     1|     3|860037381|COOPERATIVA EXTER...|     1|OJEDA DUQUE EDNA ...|  51868672|11001000|   BOGOTA D.C. (D.C)|         11|        COL|11/10/1985|         11001000|       BOGOTA D.C. (D.C)|                11|                COL|   7904702|           21/07/1970|                    11001000|           BOGOTA D.C. (D.C)|                  11|                  COL|29/11/2022|       1479|         63|       1417|        203|        183|       1335|          1|                                     OTROS|                17|               15|6492|       5|         Bogota|    512|     512 - Principal|ENTIDAD SIN ANIMO...|              34|   3419900|         CRA 1 12-41|                       11001000|            0|                 NULL|                NULL|               0|             0|      NULL|     0.0|     NULL|   NULL|     NULL|                     N|        Solo Cliente|            N|      NULL|                   0|                   0|                  N|            N|                 N|      CRA 21 159A 57|                N| INACTIVO|                 0|29/11/2022| 2/05/2023|  BAJO|Bodega|29/02/2024|        2|\n",
      "|     1|     3|901148829|AGENCIA PROMOTORA...|     1|MORENO TOVAR MIGU...|  71732398| 5045000|APARTADO (ANTIOQUIA)|          5|        COL|17/01/2018|          5001000|    MEDELLIN (ANTIOQUIA)|                 5|                COL|   8281783|           17/01/2018|                     5001000|        MEDELLIN (ANTIOQUIA)|                   5|                  COL|25/07/2023|       7977|       4336|       3641|       9275|       3863|         15|          1|                                  DIVERSOS|               772|              321|6621|       3|       Medellin|   3601|     3601 - Envigado|            LIMITADA|              17|3154482545|    CR 100 88 21 P10|                        5045000|            3|             71732398|MORENO TOVAR MIGU...|               0|             0|      NULL|     0.0|     NULL|   NULL|     NULL|                     N|        Solo Cliente|            N|      NULL|                   0|                   0|               NULL|            N|                 N|    CR 100 88 21 P10|                N|   ACTIVO|                 0|25/07/2023|18/12/2023|  BAJO|Bodega|31/12/2023|        2|\n",
      "|     1|     3|900228855|   OG MAQUITRANS SAS|     1|GALLEGO VARON OSC...|  93385275|73001000|     IBAGUE (TOLIMA)|         73|        COL| 3/07/1990|         73001000|         IBAGUE (TOLIMA)|                73|                COL|   2654725|           23/06/2008|                    73001000|             IBAGUE (TOLIMA)|                  73|                  COL|29/10/2021|      12793|       9731|       3062|      11928|       1449|       1000|         45|                           INDEMNIZACIONES|               994|              120|7730|       1|           Cali|   1301|       1301 - Ibague|            LIMITADA|              99|   2654725|CR 5 88 164 BRR E...|                       73001000|            1|             93385275|GALLEGO VARON OSC...|               0|             0|      NULL|     0.0|     NULL|   NULL|     NULL|                     N|        Solo Cliente|         NULL|      NULL|                   0|                   0|               NULL|         NULL|              NULL|ESTANCIA DEL VERG...|             NULL|   ACTIVO|                 0| 6/10/2022|26/01/2024|  BAJO|Bodega|31/01/2024|        2|\n",
      "|     1|     3|  1619328|CREATING BUILDING...|     1|NAVARRO MEDINA RI...|  79718863|    NULL|                NULL|         30|          0|26/07/2006|         11001000|       BOGOTA D.C. (D.C)|                11|                COL|      NULL|            2/06/2006|                    11001000|           BOGOTA D.C. (D.C)|                  11|                  COL| 4/08/2006|          6|       NULL|          0|          0|          0|          0|       NULL|                                      NULL|              NULL|             NULL|   0|       5|         Bogota|    505|505 - Centro Inte...|SOCIEDAD PRIVADA ...|               0|   2118824| CL 57 7-11 OF 14-05|                           NULL|            0|                 NULL|                NULL|               0|             0|      NULL|     0.0|     NULL|   NULL|     NULL|                     N|        Solo Cliente|         NULL|      NULL|                NULL|                NULL|               NULL|         NULL|              NULL|                NULL|             NULL| INACTIVO|                 0| 1/04/2013|25/04/2023|  BAJO|Bodega|31/12/2023|        2|\n",
      "|     1|     3|900962480|CONSTRUCTORA CASA...|     1|ZARATE CHAVARRIAG...|  79380150|11001000|   BOGOTA D.C. (D.C)|         11|        COL|16/08/1984|         11001000|       BOGOTA D.C. (D.C)|                11|                COL|   6124921|           20/04/2016|                    11001000|           BOGOTA D.C. (D.C)|                  11|                  COL|12/08/2016|       7704|       3792|       3912|       1026|        826|         90|        110|                               FINANCIEROS|               114|               91|4390|       5|         Bogota|    509|509 - Andino Avda 82|Sociedad Anonima ...|               9|   6202366|CRA 8 D 106 26 PI...|                       11001000|            2|             41693855|CLRA STELLA CASTILLO|               0|             0|      NULL|     0.0|     NULL|   NULL|     NULL|                     N|        Solo Cliente|            N|      NULL|                   0|                   0|               NULL|            N|                 N|     CRA 11 A 119 34|                N| INACTIVO|                 0|16/01/2019|16/01/2019|  BAJO|Bodega|31/01/2024|        2|\n",
      "|     1|     3|860037759|CONDIMENTOS LA MO...|     1|ALARCON PINILLA J...|  17136501|11001000|   BOGOTA D.C. (D.C)|         11|        COL|27/01/1967|         11001000|       BOGOTA D.C. (D.C)|                11|                COL|   7104224|            6/03/1973|                    11001000|           BOGOTA D.C. (D.C)|                  11|                  COL|14/07/2011|        372|        208|        164|        279|        238|         35|       NULL|                                      NULL|                46|               39|1051|       5|         Bogota|    514|514 - Plaza de la...|            LIMITADA|              31|   7104224|cra 69c   31  72 ...|                           NULL|            3|             17136501|ALARCON PINILLA J...|               0|             0|      NULL|     0.0|     NULL|   NULL|     NULL|                     N|        Solo Cliente|            N|      NULL|                   0|                   0|               NULL|            N|                 N|     CRA 91  19A  29|                N| INACTIVO|                 0| 1/04/2013|27/07/2016|  BAJO|Bodega|29/02/2024|        2|\n",
      "|     1|     3|900228986|SERVILOGISTICA IB...|     1| GUARIN ROJAS WILSON|  80354848|       0|DEFINIDA POR INST...|         30|          0| 3/06/2008|         73001000|         IBAGUE (TOLIMA)|                73|                COL|   2666714|            3/06/2008|                    73001000|             IBAGUE (TOLIMA)|                  73|                  COL|28/10/2008|         10|         10|          0|          0|          0|          0|       NULL|                                      NULL|              NULL|             NULL|4512|       1|           Cali|   1301|       1301 - Ibague|                OTRO|               0|   2666714|     cra.4b no.26-53|                           NULL|            0|                 NULL|                NULL|               0|             0|      NULL|     0.0|     NULL|   NULL|     NULL|                     N|        Solo Cliente|         NULL|      NULL|                NULL|                NULL|               NULL|         NULL|              NULL|CRA 4B N.26-53 HI...|             NULL| INACTIVO|                 0| 1/04/2013|30/12/2008|  BAJO|Bodega|31/01/2024|        2|\n",
      "|     1|     3|900680874|  ASESORES & BPO SAS|     1|JARAMILLO GALVAN ...|  32753361| 8001000|BARRANQUILLA (ATL...|          8|        COL|12/02/1991|          8001000|    BARRANQUILLA (ATL...|                 8|                COL|         1|           29/11/2013|                     8001000|        BARRANQUILLA (ATL...|                   8|                  COL|11/12/2013|        4,8|        3,4|        1,4|       10,3|       10,3|          1|          1|                                         1|                 1|                1|7020|       6|         Caribe|    801|801 - Barranquill...|Sociedad Anonima ...|              17|3148033161|        CRA 64 96 73|                        8001000|            1|             32753361|JARAMILLO GALVAN ...|               0|             0|      NULL|     0.0|     NULL|   NULL|     NULL|                     N|        Solo Cliente|            N|      NULL|                   0|                   0|               NULL|            N|                 N|    CLL 68 C  63  67|                N|   ACTIVO|                 0|23/06/2021|20/02/2023|  BAJO|Bodega|29/02/2024|        2|\n",
      "|     1|     3|900362050|  PANTHER DESIGN SAS|     1|MACIAS ACUna LAUR...|  52266645|11001000|   BOGOTA D.C. (D.C)|         11|        COL| 2/02/1995|         11001000|       BOGOTA D.C. (D.C)|                11|                COL|   3869103|            4/06/2010|                    11001000|           BOGOTA D.C. (D.C)|                  11|                  COL|13/06/2017|        700|        153|         50|        800|        720|         50|         12|                          NO OPERACIONALES|               831|              250|4330|       5|         Bogota|    510|      510 - Calle 80|Sociedad Anonima ...|               9|   6606574|CARRERA 69 R NUME...|                       11001000|            2|             52266645|MACIAS ACUNA LAUR...|               0|             0|      NULL|     0.0|     NULL|   NULL|     NULL|                     N|        Solo Cliente|            N|      NULL|                   0|                   0|               NULL|            N|                 N|CARRERA 68 B NUME...|                N| INACTIVO|                 0|13/06/2017|13/06/2017|  BAJO|Bodega|31/12/2023|        2|\n",
      "|     1|     3|901149031|M&A GESTION Y ASE...|     1|DAGUA VIVAS MARIELEN|  31792187|76834000|TULUA (VALLE DEL ...|         76|        COL|22/02/1999|         76834000|    TULUA (VALLE DEL ...|                76|                COL|3158420131|           23/01/2018|                    76834000|        TULUA (VALLE DEL ...|                  76|                  COL|27/06/2018|          1|          1|          2|          4|          2|          2|          1|                         VENTAS POR SERVIC|                 1|                1|7020|       1|           Cali|   1201|        1201 - Tulua|Sociedad Anonima ...|              31|   2333780|         CL 24 24 37|                           NULL|            2|             31792187|DAGUA VIVAS MARIELEN|               0|             0|      NULL|     0.0|     NULL|   NULL|     NULL|                     N|        Solo Cliente|            N|      NULL|                   0|                   0|               NULL|            N|                 N|         CL 24 24 37|                N| INACTIVO|                 0|27/06/2018|27/06/2018|  BAJO|Bodega|31/12/2023|        2|\n",
      "|     1|     3|900680894|SERVITRANSPODAS S...|     1|RESTREPO PAREJA G...|  31150982|76520000|PALMIRA (VALLE DE...|         76|        COL|24/03/1977|         76520000|    PALMIRA (VALLE DE...|                76|                COL|   2809424|            6/12/2013|                    76520000|        PALMIRA (VALLE DE...|                  76|                  COL|12/07/2016|        112|         11|        101|         12|         10|          1|          1|                                 GANANCIAS|                 2|                1| 161|       4|        Palmira|    401|     401 - Principal|Sociedad Anonima ...|              26|   2809424|       CL 37A  45-21|                       76520000|            1|             31150982|RESTREPO PAREJA G...|               0|             0|      NULL|     0.0|     NULL|   NULL|     NULL|                  NULL|        Solo Cliente|            N|      NULL|                   0|                   0|               NULL|            N|                 N|   CALLE 37A Ñ 45-21|             NULL| INACTIVO|                 0| 6/07/2023| 6/07/2023|  BAJO|Bodega|29/02/2024|        2|\n",
      "|     1|     3|900362094|BOTELLAS PLASTICA...|     1|ANEZ VILLEGAS PED...|  19195352|11001000|   BOGOTA D.C. (D.C)|         11|        COL|12/01/1972|         11001000|       BOGOTA D.C. (D.C)|                11|                COL|   4473111|            5/08/2014|                    11001000|           BOGOTA D.C. (D.C)|                  11|                  COL| 6/08/2014|       3243|       3971|        186|       3858|        406|        500|       NULL|                                      NULL|               322|               33|2599|       5|         Bogota|    560|560 - Banca Empre...|    SOCIEDAD ANONIMA|              26|   4473111|     CRA  68 B 12 66|                           NULL|            2|             19195352| PEDRO ANEZ VILLEGAS|               0|             0|      NULL|     0.0|     NULL|   NULL|     NULL|                  NULL|        Solo Cliente|            N|      NULL|                   0|                   0|               NULL|            N|                 N|      CRA 6 8B 12 66|                N| INACTIVO|                 0| 5/08/2014|06/03/2018|  BAJO|Bodega|31/12/2023|        2|\n",
      "|     1|     3|900681010|ATM DESARROLLO CI...|     1|TEJEIRO MEDINA AL...|  86048211|50001000|VILLAVICENCIO (META)|         50|        COL|13/12/1993|         50001000|    VILLAVICENCIO (META)|                50|                COL|3202839276|           19/09/2013|                    50001000|        VILLAVICENCIO (META)|                  50|                  COL| 9/01/2014|         30|          1|         29|         10|          1|          1|          1|                                        OT|                 1|                1|7111|       5|         Bogota|   2901|2901 - Villavicencio|Sociedad Anonima ...|               9|3202839276|CL 19 37 J 18 MZ ...|                           NULL|            1|             86048211|TEJEIRO MEDINA AL...|               0|             0|      NULL|     0.0|     NULL|   NULL|     NULL|                     N|        Solo Cliente|            N|      NULL|                   0|                   0|               NULL|            N|                 N|       CL 19 37 J 18|                N| INACTIVO|                 0|10/01/2014|10/01/2014|  BAJO|Bodega|29/02/2024|        2|\n",
      "|     1|     3|900681015|CONSORCIO JARDINE...|     1|ANGULO CORTES JOS...|  79418636|11001000|   BOGOTA D.C. (D.C)|         11|        COL|20/08/1985|         11001000|       BOGOTA D.C. (D.C)|                11|                COL|   3861790|           28/10/2013|                    11001000|           BOGOTA D.C. (D.C)|                  11|                  COL|13/12/2013|        800|          1|        800|       4100|       3200|        800|       NULL|                                      NULL|               341|             3200|4111|       5|         Bogota|    510|      510 - Calle 80|Union Temporal Co...|               9|   3861790|CRA 21 159 A 27 A...|                           NULL|            2|             79418636|ANGULO CORTES JOS...|               0|             0|      NULL|     0.0|     NULL|   NULL|     NULL|                     N|*No Cliente-No As...|         NULL|      NULL|                NULL|                NULL|               NULL|         NULL|              NULL|CRA 21 159 A 27 A...|                N| INACTIVO|                 0|13/12/2013|13/12/2013|  BAJO|Bodega|29/02/2024|        2|\n",
      "|     1|     9|193198654|    DISMEFAR DE JOAS|     1|ANDRADE VEGA LUIS...|         0|    NULL|                NULL|         30|          0| 1/01/2004|                0|    DEFINIDA POR INST...|                30|                  0|      NULL|            1/01/2004|                           0|        DEFINIDA POR INST...|                  30|                    0|21/04/2004|       NULL|       NULL|       NULL|       NULL|       NULL|       NULL|       NULL|                                      NULL|              NULL|             NULL|   0|       2|   Eje Cafetero|    601|601 - Armenia Pri...|SOCIEDAD PRIVADA ...|               0|      NULL|                NULL|                           NULL|            0|                 NULL|                NULL|               0|             0|      NULL|     0.0|     NULL|   NULL|     NULL|                     N|        Solo Cliente|         NULL|      NULL|                NULL|                NULL|               NULL|         NULL|              NULL|                NULL|             NULL| INACTIVO|                 0|      NULL|25/04/2023|  BAJO|Bodega|31/12/2023|        2|\n",
      "|     1|     3|900682163|SUMIRENT SALUD S....|     1|GARCES JURADO ANA...|  43871374| 5001000|MEDELLIN  (ANTIOQ...|          5|        COL| 5/11/1998|          5266000|    ENVIGADO (ANTIOQUIA)|                 5|                COL|   3410518|            9/12/2013|                     5266000|        ENVIGADO (ANTIOQUIA)|                   5|                  COL|31/01/2014|  310000000|    5000000|  310000000|   96000000|   42000000|   10000000|          1|                                         1|           8000000|          3500000|8621|       3|       Medellin|    304|  304 - Las Americas|Sociedad Anonima ...|              29|   3410518|Diag 75b No 2a 12...|                           NULL|            2|             43871374|GARCES JURADO ANA...|               0|             0|      NULL|     0.0|     NULL|   NULL|     NULL|                     N|        Solo Cliente|            N|      NULL|                   0|                   0|               NULL|            N|                 N|DIAG. 75 B NO 2A ...|                S|   ACTIVO|                 0| 4/02/2014| 4/02/2014|  BAJO|Bodega|29/02/2024|        2|\n",
      "|     1|     3|900682168|ALVARO CALDERON T...|     1|CALDERON TORO ALV...|  16625689|76834000|TULUA (VALLE DEL ...|         76|        COL|17/08/1977|         76001000|    CALI (VALLE DEL C...|                76|                COL|3148901168|            2/12/2013|                    76001000|        CALI (VALLE DEL C...|                  76|                  COL|12/12/2013|       6005|       4543|       1462|       1432|        668|          0|        133|                               FINANCIEROS|                19|               55|4390|       1|           Cali|   1201|        1201 - Tulua|Sociedad Anonima ...|               9|3148901168|        CL 116 23-06|                       76834000|            2|             16625689|CALDERON TORO ALV...|               0|             0|      NULL|     0.0|     NULL|   NULL|     NULL|                     N|        Solo Cliente|            N|      NULL|                   0|                   0|               NULL|            N|                 N|     CL 21  35 A- 07|                N|   ACTIVO|                 0|22/09/2023|26/01/2024|  BAJO|Bodega|29/02/2024|        2|\n",
      "|     1|     3|900682271|COLTRADING PETROL...|     1|BLANCO CORONEL MA...|1100892717|68001000|BUCARAMANGA (SANT...|         68|        COL|23/07/2009|         68615000|    RIONEGRO (SANTANDER)|                68|                COL|   6912882|           11/12/2013|                    68615000|        RIONEGRO (SANTANDER)|                  68|                  COL|14/09/2022|       4527|       3842|        685|       4676|       4616|         50|          2|                         BONO SOLIDARIO GO|               390|              385|4923|       3|       Medellin|   2101|  2101 - Bucaramanga|Sociedad Anonima ...|              16|   6912882|CR 34 51 80 OFIC ...|                       68001000|            1|             28333648|ANA JOAQUINA LIZA...|               0|             0|      NULL|     0.0|     NULL|   NULL|     NULL|                     N|        Solo Cliente|            N|      NULL|                   0|                   0|               NULL|            N|                 N|CR 34 51 80 OFIC ...|                N|   ACTIVO|                 0|14/09/2022|14/09/2022|  BAJO|Bodega|29/02/2024|        2|\n",
      "|     1|     3|900682356|DISTRIBUCIONES TE...|     1|SANCHEZ LEMOS JUA...|  16689248|76001000|CALI (VALLE DEL C...|         76|        COL|30/10/1981|         76001000|    CALI (VALLE DEL C...|                76|                COL|   3827550|           11/12/2013|                    76001000|        CALI (VALLE DEL C...|                  76|                  COL|25/09/2019|        215|        101|        114|        593|        246|         25|          1|                                        na|                49|                4|2819|       1|           Cali|    108|    108 - Chipichape|    SOCIEDAD ANONIMA|              31|   3827550|  cr 11d Ñ 33f  - 12|                       76001000|            1|             16689248|SANCHEZ LEMOS JUA...|               0|             0|      NULL|     0.0|        0|   NULL|        0|                     N|        Solo Cliente|            N|      NULL|                   0|                   0|               NULL|            N|                 N|  cr 11d Ñ 33f  - 12|                N| INACTIVO|                 0|13/09/2019|22/11/2022|  BAJO|Bodega|29/02/2024|        2|\n",
      "+------+------+---------+--------------------+------+--------------------+----------+--------+--------------------+-----------+-----------+----------+-----------------+------------------------+------------------+-------------------+----------+---------------------+----------------------------+----------------------------+--------------------+---------------------+----------+-----------+-----------+-----------+-----------+-----------+-----------+-----------+------------------------------------------+------------------+-----------------+----+--------+---------------+-------+--------------------+--------------------+----------------+----------+--------------------+-------------------------------+-------------+---------------------+--------------------+----------------+--------------+----------+--------+---------+-------+---------+----------------------+--------------------+-------------+----------+--------------------+--------------------+-------------------+-------------+------------------+--------------------+-----------------+---------+------------------+----------+----------+------+------+----------+---------+\n",
      "only showing top 20 rows\n",
      "\n",
      "El DataFrame tiene 57380 filas y 72 columnas.\n",
      "root\n",
      " |-- TIPCLI: integer (nullable = true)\n",
      " |-- TIPDOC: integer (nullable = true)\n",
      " |-- NIT: long (nullable = true)\n",
      " |-- NOMBRE: string (nullable = true)\n",
      " |-- TIPREP: integer (nullable = true)\n",
      " |-- REP_LEGAL: string (nullable = true)\n",
      " |-- NIT_REPRST: long (nullable = true)\n",
      " |-- CIU_REP: integer (nullable = true)\n",
      " |-- NOM_CIU_REP: string (nullable = true)\n",
      " |-- COD_DEP_REP: integer (nullable = true)\n",
      " |-- NOM_PAI_REP: string (nullable = true)\n",
      " |-- FECEXPREP: string (nullable = true)\n",
      " |-- CIUDAD_EXPEDICION: integer (nullable = true)\n",
      " |-- NOMBRE_CIUDAD_EXPEDICION: string (nullable = true)\n",
      " |-- NOM_DEP_EXPEDICIÓN: integer (nullable = true)\n",
      " |-- NOM_PAIS_EXPEDICIÓN: string (nullable = true)\n",
      " |-- TEL_REP: long (nullable = true)\n",
      " |-- FECHA_DE_CONSTITUCION: string (nullable = true)\n",
      " |-- CODIGO_LUGAR_DE_CONSTITUCION: integer (nullable = true)\n",
      " |-- NOMBRE_LUGAR_DE_CONSTITUCION: string (nullable = true)\n",
      " |-- COD_DEP_CONSTITUCIÓN: integer (nullable = true)\n",
      " |-- NOM_PAIS_CONSTITUCIÓN: string (nullable = true)\n",
      " |-- FEC_INGBCO: string (nullable = true)\n",
      " |-- TOT_ACTIVOB: string (nullable = true)\n",
      " |-- TOT_PASIVOB: string (nullable = true)\n",
      " |-- TOT_PTRMNOB: string (nullable = true)\n",
      " |-- TOT_VENTASB: string (nullable = true)\n",
      " |-- TOT_GASTOSB: string (nullable = true)\n",
      " |-- CAP_SOCIALB: string (nullable = true)\n",
      " |-- OTR_INGRSOB: string (nullable = true)\n",
      " |-- DETALLE_DE_OTROS_INGRESOS_NO_OPERACIONALES: string (nullable = true)\n",
      " |-- INGRESOS_MENSUALES: string (nullable = true)\n",
      " |-- EGRESOS_MENSUALES: string (nullable = true)\n",
      " |-- CIIU: integer (nullable = true)\n",
      " |-- REGIONAL: integer (nullable = true)\n",
      " |-- CODIGO_REGIONAL: string (nullable = true)\n",
      " |-- AGEHOMO: integer (nullable = true)\n",
      " |-- CODIGO_OFICNA_D: string (nullable = true)\n",
      " |-- TIPO_EMPRESA: string (nullable = true)\n",
      " |-- SECTOR_ECONOMICO: integer (nullable = true)\n",
      " |-- TEL_COMERC: string (nullable = true)\n",
      " |-- DIRECCION_COMERCIO: string (nullable = true)\n",
      " |-- CODIGO_CIUDAD_DE_SEDE_PRINCIPAL: integer (nullable = true)\n",
      " |-- NUMERO_SOCIOS: integer (nullable = true)\n",
      " |-- IDENTIFICACION_SOCIO1: string (nullable = true)\n",
      " |-- NOMBRE_SOCIO1: string (nullable = true)\n",
      " |-- TIPO_PRODUCTO_ME: integer (nullable = true)\n",
      " |-- ID_PRODUCTO_ME: string (nullable = true)\n",
      " |-- ENTIDAD_ME: string (nullable = true)\n",
      " |-- MONTO_ME: double (nullable = true)\n",
      " |-- CIUDAD_ME: string (nullable = true)\n",
      " |-- PAIS_ME: string (nullable = true)\n",
      " |-- MONEDA_ME: string (nullable = true)\n",
      " |-- REALIZA_OPERACIONES_ME: string (nullable = true)\n",
      " |-- TIP_VINCLC: string (nullable = true)\n",
      " |-- CARGO_PUBLICO: string (nullable = true)\n",
      " |-- CUAL_CARGO: string (nullable = true)\n",
      " |-- FECINI_CARGO_PUBLICO: string (nullable = true)\n",
      " |-- FECFIN_CARGO_PUBLICO: string (nullable = true)\n",
      " |-- DESEMP_CARGO_ACTUAL: string (nullable = true)\n",
      " |-- REP_LEGAL_ONG: string (nullable = true)\n",
      " |-- TIENE_VINCULO_PEPS: string (nullable = true)\n",
      " |-- Dir_Representante: string (nullable = true)\n",
      " |-- Posee_Cuentas_Ext: string (nullable = true)\n",
      " |-- ESTGESCOM: string (nullable = true)\n",
      " |-- VINCULACIONES_GURU: integer (nullable = true)\n",
      " |-- FECUAC_EF: string (nullable = true)\n",
      " |-- FECUAC: string (nullable = true)\n",
      " |-- SCORER: string (nullable = true)\n",
      " |-- Fuente: string (nullable = true)\n",
      " |-- FechaCorte: string (nullable = true)\n",
      " |-- id_activo: integer (nullable = true)\n",
      "\n"
     ]
    }
   ],
   "source": [
    "from pyspark.sql import SparkSession\n",
    "\n",
    "def leer_tabla_a_dataframe(url, tabla, usuario, contraseña, driver):\n",
    "\n",
    "    # Configurar la conexión a la base de datos\n",
    "    properties = {\n",
    "        \"user\": usuario,\n",
    "        \"password\": contraseña,\n",
    "        \"driver\": driver\n",
    "    }\n",
    "\n",
    "    # Leer la tabla y convertirla en un DataFrame\n",
    "    df = spark.read.jdbc(url=url, table=tabla, properties=properties)\n",
    "\n",
    "    return df\n",
    "\n",
    "\n",
    "# Nombre de la tabla que se desea leer\n",
    "nombre_tabla = \"Calidad.clienteJuridico2\"\n",
    "\n",
    "# Llamar a la función para leer la tabla y obtener el DataFrame\n",
    "df_spark = leer_tabla_a_dataframe(url, nombre_tabla, usuario, contraseña, driver)\n",
    "\n",
    "# Mostrar el DataFrame con el campo TEL_REP convertido a float\n",
    "df_spark.show()\n",
    "\n",
    "\n",
    "# Seleccionar los primeros 500 registros y sobrescribir el DataFrame original\n",
    "#df_spark = df_spark.limit(40)\n",
    "\n",
    "# Obtener el número de filas\n",
    "num_filas = df_spark.count()\n",
    "\n",
    "# Obtener el número de columnas\n",
    "num_columnas = len(df_spark.columns)\n",
    "\n",
    "print(f\"El DataFrame tiene {num_filas} filas y {num_columnas} columnas.\")\n",
    "\n",
    "# Mostrar el esquema del DataFrame obtenido\n",
    "df_spark.printSchema()"
   ]
  },
  {
   "cell_type": "code",
   "execution_count": null,
   "metadata": {},
   "outputs": [],
   "source": [
    "#df_spark = df_spark.filter(col(\"FechaCorte\") == \"29/02/2024\")\n",
    "\n",
    "# Mostrar el DataFrame filtrado\n",
    "#df_spark.show()\n",
    "\n",
    "#num_filas = df_spark.count()\n",
    "\n",
    "# Obtener el número de columnas\n",
    "#num_columnas = len(df_spark.columns)\n",
    "\n",
    "#print(f\"El DataFrame tiene {num_filas} filas y {num_columnas} columnas.\")"
   ]
  },
  {
   "cell_type": "markdown",
   "metadata": {},
   "source": [
    "# Extracción del Dataframe desde un archivo plano xlsb"
   ]
  },
  {
   "cell_type": "code",
   "execution_count": null,
   "metadata": {},
   "outputs": [],
   "source": [
    "#pip install pyxlsb\n",
    "# Leer el archivo CSV y crear un DataFrame\n",
    "#df_spark = spark.read.csv(\"/home/jovyan/code/Bancoomeva_Oficial/BD_ClientesPN_v001_20240131_final.csv\", header=True, sep=\";\" , inferSchema=True)\n",
    "\n",
    "# Mostrar el DataFrame\n",
    "#df_spark.show()\n",
    "\n",
    "# Obtener el número de filas/columnas\n",
    "#num_filas = df_spark.count()\n",
    "#num_columnas = len(df_spark.columns)\n",
    "\n",
    "#print(f\"El DataFrame tiene {num_filas} filas y {num_columnas} columnas.\")"
   ]
  },
  {
   "cell_type": "code",
   "execution_count": null,
   "metadata": {},
   "outputs": [],
   "source": [
    "#cargar_dataframe_a_tabla(df_spark,\"Calidad.ClienteOrigen2\")"
   ]
  },
  {
   "cell_type": "markdown",
   "metadata": {},
   "source": [
    "# Definición de Reglas/Filtros para la Calidad de los datos: "
   ]
  },
  {
   "cell_type": "markdown",
   "metadata": {},
   "source": [
    "## Campo REP_LEGAL"
   ]
  },
  {
   "cell_type": "markdown",
   "metadata": {},
   "source": [
    "Regla 1: Primer nombre y primer apellido deben ser obligatorios. Segundo nombre y segundo apellido pueden ser nulos."
   ]
  },
  {
   "cell_type": "code",
   "execution_count": null,
   "metadata": {},
   "outputs": [],
   "source": [
    "from pyspark.sql.functions import col, size, split\n",
    "\n",
    "REP_LEGAL_Regla_PrimerNombre_PrimerApellido = size(split(col('REP_LEGAL'), ' ')) < 2"
   ]
  },
  {
   "cell_type": "markdown",
   "metadata": {},
   "source": [
    "Regla 2: Campo no debe contener números (el dato contenga caracteres alfabeticos)"
   ]
  },
  {
   "cell_type": "code",
   "execution_count": null,
   "metadata": {},
   "outputs": [],
   "source": [
    "REP_LEGAL_Regla_NoNumeros = col('REP_LEGAL').rlike(r'\\d')"
   ]
  },
  {
   "cell_type": "markdown",
   "metadata": {},
   "source": [
    "Regla 3: Campo no debe contener caracteres especiales (a excepción de la Ñ)"
   ]
  },
  {
   "cell_type": "code",
   "execution_count": null,
   "metadata": {},
   "outputs": [],
   "source": [
    "REP_LEGAL_Regla_NoCaracteresEspeciales = col('REP_LEGAL').rlike(r'[^a-zA-ZñÑ\\s]')"
   ]
  },
  {
   "cell_type": "markdown",
   "metadata": {},
   "source": [
    "Regla 4: Validación de espacios entre segmento de caracteres(palabras)"
   ]
  },
  {
   "cell_type": "code",
   "execution_count": null,
   "metadata": {},
   "outputs": [],
   "source": [
    "REP_LEGAL_Regla_AlMenosUnEspacio = (\n",
    "    ~col('REP_LEGAL').rlike(r'\\s')  # Verifica si hay al menos un espacio en el campo\n",
    ")"
   ]
  },
  {
   "cell_type": "markdown",
   "metadata": {},
   "source": [
    "Regla 5: Que no exista solo un punto (.), coma (,), asteriscos (*)"
   ]
  },
  {
   "cell_type": "code",
   "execution_count": null,
   "metadata": {},
   "outputs": [],
   "source": [
    "# Regla para validar que el campo \"NOMCLI\" no contenga puntos, comas ni asteriscos\n",
    "REP_LEGAL_Regla_NoPuntosComasAsteriscos = col('REP_LEGAL').rlike(r'[.,*]')"
   ]
  },
  {
   "cell_type": "markdown",
   "metadata": {},
   "source": [
    "Regla 6: No debe contener sucesion del mismo carácter mas de 3 veces (XXXX, AAAAAA,etc.)"
   ]
  },
  {
   "cell_type": "code",
   "execution_count": null,
   "metadata": {},
   "outputs": [],
   "source": [
    "# Regla para validar que el campo \"NOMCLI\" no tenga una secuencia de caracteres repetidos más de tres veces\n",
    "REP_LEGAL_Regla_NoSecuenciaRepetida = col('REP_LEGAL').rlike(r'(.)\\1{3,}')"
   ]
  },
  {
   "cell_type": "markdown",
   "metadata": {},
   "source": [
    "Regla 7:  El campo no debe contener  una sola letra minúscula o mayúscula"
   ]
  },
  {
   "cell_type": "code",
   "execution_count": null,
   "metadata": {},
   "outputs": [],
   "source": [
    "# Regla para validar que el campo \"NOMCLI\" no tenga una sola letra en mayúscula o minúscula\n",
    "REP_LEGAL_Regla_NoUnaSolaLetra = ~col('REP_LEGAL').rlike(r'^(?![a-zA-Z]$).*$')"
   ]
  },
  {
   "cell_type": "markdown",
   "metadata": {},
   "source": [
    "Regla 8: El campo no debe tener con silabas compuestas por 2 letras, es decir, dos letras combinadas o repetidas de cualquier forma en minúscula o mayúscula"
   ]
  },
  {
   "cell_type": "code",
   "execution_count": null,
   "metadata": {},
   "outputs": [],
   "source": [
    "# Regla para validar que el campo \"NOMCLI\" no tenga sílabas compuestas por 2 letras repetidas\n",
    "REP_LEGAL_Regla_NoSilabasDosLetras = col('REP_LEGAL').rlike(r'\\b([a-zA-Z])\\1\\b')"
   ]
  },
  {
   "cell_type": "markdown",
   "metadata": {},
   "source": [
    "## Campo FECHA_DE_CONSTITUCION"
   ]
  },
  {
   "cell_type": "markdown",
   "metadata": {},
   "source": [
    "Regla 9: Campo no debe ser vacío o nulo"
   ]
  },
  {
   "cell_type": "code",
   "execution_count": null,
   "metadata": {},
   "outputs": [],
   "source": [
    "# Regla para validar que el campo \"FEC_NACMTO\" no sea vacío o nulo\n",
    "FECHA_DE_CONSTITUCION_Regla_NoVacio = (\n",
    "    col('FECHA_DE_CONSTITUCION').isNull() | (col('FECHA_DE_CONSTITUCION') == '')\n",
    ")"
   ]
  },
  {
   "cell_type": "markdown",
   "metadata": {},
   "source": [
    "Regla 10: No debe ser mayor a la fecha actual (Que no se una fecha en el futuro)"
   ]
  },
  {
   "cell_type": "code",
   "execution_count": null,
   "metadata": {},
   "outputs": [],
   "source": [
    "# Regla para validar que la fecha de nacimiento no es una fecha futura\n",
    "from pyspark.sql.functions import current_date, datediff, lit, to_date\n",
    "FECHA_DE_CONSTITUCION_Regla_NoFuturo = (\n",
    "    to_date(col('FECHA_DE_CONSTITUCION'), 'd/M/yyyy').cast('date') > current_date()\n",
    ")"
   ]
  },
  {
   "cell_type": "markdown",
   "metadata": {},
   "source": [
    "Regla 11: Debe ser mayor a 1900/01/01"
   ]
  },
  {
   "cell_type": "code",
   "execution_count": null,
   "metadata": {},
   "outputs": [],
   "source": [
    "# Regla para validar que la fecha de nacimiento sea mayor a 1900/01/01\n",
    "# Filtrar los registros donde la fecha NO es mayor que '1900-01-01'\n",
    "from pyspark.sql.functions import lit\n",
    "FECHA_DE_CONSTITUCION_Regla_MenorIgualQue1900 = (\n",
    "    to_date(col('FECHA_DE_CONSTITUCION'), 'd/M/yyyy').cast('date') < lit('1900-01-01').cast('date')\n",
    ")"
   ]
  },
  {
   "cell_type": "markdown",
   "metadata": {},
   "source": [
    "Regla 12: (FECHA NACIMIENTO -FECHA ACTUAL)/365 <=120 años)"
   ]
  },
  {
   "cell_type": "code",
   "execution_count": null,
   "metadata": {},
   "outputs": [],
   "source": [
    "from pyspark.sql.functions import col, datediff, current_date\n",
    "\n",
    "# Regla para validar que la fecha de nacimiento exceda los 120 años\n",
    "FECHA_DE_CONSTITUCION_Regla_Mayor120Anios = (\n",
    "    (datediff(current_date(),  to_date(col('FECHA_DE_CONSTITUCION'), 'd/M/yyyy').cast('date')) / 365) >= 120\n",
    ")"
   ]
  },
  {
   "cell_type": "markdown",
   "metadata": {},
   "source": [
    "Regla 13: No debe ser mayor a la fecha de ingreso"
   ]
  },
  {
   "cell_type": "code",
   "execution_count": null,
   "metadata": {},
   "outputs": [],
   "source": [
    "from pyspark.sql.functions import col, to_date\n",
    "FECHA_DE_CONSTITUCION_Regla_NoMayorFechaIngreso=  (\n",
    "    to_date(col('FECHA_DE_CONSTITUCION'), 'd/M/yyyy').cast('date') > to_date(col('FEC_INGBCO'),'d/M/yyyy').cast('date')\n",
    ")"
   ]
  },
  {
   "cell_type": "markdown",
   "metadata": {},
   "source": [
    "Regla 14: Estándar ISO8601Format YYYY-MM-DD (ejemplo: 2019-12-11)"
   ]
  },
  {
   "cell_type": "code",
   "execution_count": null,
   "metadata": {},
   "outputs": [],
   "source": [
    "from pyspark.sql.functions import col, datediff, to_date, regexp_extract\n",
    "# Definir una regla para validar fechas en diferentes formatos\n",
    "pattern = r'^\\d{1,2}[/-]\\d{1,2}[/-]\\d{4}$'  # Acepta formatos con uno o dos dígitos para día y mes\n",
    "FECHA_DE_CONSTITUCION_Regla_FormatoDiaMesAnio= (\n",
    "    col('FECHA_DE_CONSTITUCION').isNotNull() &  # Asegura que el valor no sea nulo\n",
    "    (regexp_extract(col('FECHA_DE_CONSTITUCION'), pattern, 0) == '')  # Valida el formato usando una expresión regular\n",
    ")"
   ]
  },
  {
   "cell_type": "markdown",
   "metadata": {},
   "source": [
    "## Campo CODIGO_LUGAR_DE_CONSTITUCION"
   ]
  },
  {
   "cell_type": "markdown",
   "metadata": {},
   "source": [
    "Regla 15: Campo no debe ser vacío o nulo"
   ]
  },
  {
   "cell_type": "code",
   "execution_count": null,
   "metadata": {},
   "outputs": [],
   "source": [
    "# Regla para verificar que el campo \"LUGNAC\" no sea vacío o nulo\n",
    "CODIGO_LUGAR_DE_CONSTITUCION_Regla_NoVacioONulo = col('CODIGO_LUGAR_DE_CONSTITUCION').isNull() | (col('CODIGO_LUGAR_DE_CONSTITUCION') == '')"
   ]
  },
  {
   "cell_type": "markdown",
   "metadata": {},
   "source": [
    "Regla 16: \"El código de lugar de nacimiento o constitucion debe pertenecer al rango de opciones validas en parámetros // Códigos que esten dentro de la arhivo \"\"cliciudad\"\" de la Finclidat. (Códigos DANE)\""
   ]
  },
  {
   "cell_type": "code",
   "execution_count": null,
   "metadata": {},
   "outputs": [
    {
     "name": "stdout",
     "output_type": "stream",
     "text": [
      "['CODPAI', 'CODDEP', 'INDICATIVO', 'CODCIU', 'NOMCIU', 'Codigo Centro Poblado Dane', 'DIRECCIONES', 'TELEFONOS', 'NOMBRE_EMPRESA', 'CARGO', 'ORIGEN DE FONDOS', 'CARACTERES ESPECIALES', 'NOMBRE_PROFESION', 'NOMBRE_PROFESION_SIN_NIVEL_ACADEMICO', 'CIU_BANCO1_ME', 'PAIS_BANCO1_ME', 'EMAIL', 'Codigo Pais Dane', 'Nacionalidad', 'CIIU', 'ISO4217', 'Codigo Departamento']\n"
     ]
    }
   ],
   "source": [
    "# Ahora carga el archivo CSV en PySpark\n",
    "ruta_csv= \"/home/jovyan/code/Bancoomeva_Oficial/ListaExternaValoresComparar.csv\"\n",
    "df_csv = spark.read.csv(ruta_csv, header=True, sep=';')\n",
    "\n",
    "\n",
    "nombre_primera_columna = 'CODCIU'\n",
    "\n",
    "print(df_csv.columns)\n",
    "\n",
    "# Seleccionar la primera columna del DataFrame por su nombre y obtener una lista de sus valores\n",
    "valores_primera_columna = [row[0] for row in df_csv.select(nombre_primera_columna).collect()]\n",
    "\n",
    "\n",
    "CODIGO_LUGAR_DE_CONSTITUCION_Regla_ValorPerteneceListaDane = (\n",
    "    ~col('CODIGO_LUGAR_DE_CONSTITUCION').isin(valores_primera_columna)\n",
    ")"
   ]
  },
  {
   "cell_type": "markdown",
   "metadata": {},
   "source": [
    "Regla 17: Sólo Numérico"
   ]
  },
  {
   "cell_type": "code",
   "execution_count": null,
   "metadata": {},
   "outputs": [],
   "source": [
    "# Regla para validar que el campo \"LUGNAC\" sea numérico\n",
    "CODIGO_LUGAR_DE_CONSTITUCION_Regla_SoloNumerico = ~col('CODIGO_LUGAR_DE_CONSTITUCION').cast('bigint').isNotNull()"
   ]
  },
  {
   "cell_type": "markdown",
   "metadata": {},
   "source": [
    "Regla 18: Diferente de 0 a 1"
   ]
  },
  {
   "cell_type": "code",
   "execution_count": null,
   "metadata": {},
   "outputs": [],
   "source": [
    "# Regla para validar que el campo \"LUGNAC\" sea diferente de 0 y 1\n",
    "CODIGO_LUGAR_DE_CONSTITUCION_Regla_IgualA01 = (col('CODIGO_LUGAR_DE_CONSTITUCION') == 0) | (col('CODIGO_LUGAR_DE_CONSTITUCION') == 1)"
   ]
  },
  {
   "cell_type": "markdown",
   "metadata": {},
   "source": [
    "## Campo TIPDOC"
   ]
  },
  {
   "cell_type": "markdown",
   "metadata": {},
   "source": [
    "Regla 19: Campo no debe ser vacío o nulo"
   ]
  },
  {
   "cell_type": "code",
   "execution_count": null,
   "metadata": {},
   "outputs": [],
   "source": [
    "# Regla para validar que el campo \"TIPDOC\" no sea vacío ni nulo\n",
    "TIPDOC_Regla_NuloOVacio_j = col('TIPDOC').isNull() | (col('TIPDOC') == '')"
   ]
  },
  {
   "cell_type": "markdown",
   "metadata": {},
   "source": [
    "## Campo NIT"
   ]
  },
  {
   "cell_type": "markdown",
   "metadata": {},
   "source": [
    "Regla 21: Campo no debe ser vacío o nulo"
   ]
  },
  {
   "cell_type": "code",
   "execution_count": null,
   "metadata": {},
   "outputs": [],
   "source": [
    "# Regla para validar que el campo NIT no sea vacío ni nulo\n",
    "NIT_Regla_NuloOVacio_j = col('NIT').isNull() | (col('NIT') == '')"
   ]
  },
  {
   "cell_type": "markdown",
   "metadata": {},
   "source": [
    "Regla 22: Valida que el número de documento y tipo de documento estén completos en los dos campos, si uno de los dos campos hace falta se etiqueta como NO VALIDO."
   ]
  },
  {
   "cell_type": "code",
   "execution_count": null,
   "metadata": {},
   "outputs": [],
   "source": [
    "# Regla para validar que ambos campos estén completos (no sea nulo o vacío)\n",
    "NIT_Regla_NoCompletosTIPDOC_j= (\n",
    "    (col('NIT').isNull() | (col('NIT') == '')) |  # Verifica si NIT es nulo o vacío\n",
    "    (col('TIPDOC').isNull() | (col('TIPDOC') == ''))  # Verifica si TIPDOC es nulo o vacío\n",
    ")"
   ]
  },
  {
   "cell_type": "markdown",
   "metadata": {},
   "source": [
    "Regla 23: Si el tipo de documento es Cedula de ciudadanía se valida que el número de documento sea de 6, 7 u 8 dígitos y puede comenzar con cualquier valor numérico\n"
   ]
  },
  {
   "cell_type": "code",
   "execution_count": null,
   "metadata": {},
   "outputs": [],
   "source": [
    "# Regla para validar el campo NIT si TIPDOC es igual a \"CC\" pero el número de documento no tiene 6, 7 u 8 dígitos\n",
    "NIT_Regla_Tipdoc_CC_NoTieneDigitosAdecuados_j = (\n",
    "     # Verifica si TIPDOC es igual a \"CC\"\n",
    "    (~col('NIT').rlike('^\\d{6}$') &  # Verifica que el NIT no tenga 6 dígitos\n",
    "     ~col('NIT').rlike('^\\d{7}$') &  # Verifica que el NIT no tenga 7 dígitos\n",
    "     ~col('NIT').rlike('^\\d{8}$') &  # Verifica que el NIT no tenga 8 dígitos\n",
    "     ~col('NIT').rlike('^\\d{9}$') &\n",
    "     ~col('NIT').rlike('^\\d{10}$')\n",
    "     )  \n",
    ")"
   ]
  },
  {
   "cell_type": "markdown",
   "metadata": {},
   "source": [
    "Regla 24: Si el tipo de documento es Cedula de ciudadanía se valida que el número de documento sea de 10 dígitos siempre y cuando éste comience por el digito 1.\n"
   ]
  },
  {
   "cell_type": "code",
   "execution_count": null,
   "metadata": {},
   "outputs": [],
   "source": [
    "# Filtro para seleccionar los registros con TIPDOC \"CC\", el primer valor del NIT es '1', pero no tiene 10 dígitos\n",
    "NIT_Regla_Tipdoc_CC_PrimerDigito1_NoTiene10Digitos_j = (\n",
    "    (col('TIPDOC') == '1') &  # Verifica si TIPDOC es igual a \"CC\"\n",
    "    col('NIT').rlike('^1') &  # Verifica si el primer valor del NIT es '1'\n",
    "    ~col('NIT').rlike('^1\\d{9}$')  # Verifica que el NIT no tenga 10 dígitos si comienza con \"1\"\n",
    ")"
   ]
  },
  {
   "cell_type": "markdown",
   "metadata": {},
   "source": [
    "Regla 26: Si Tipo de Identificacion es 'TI', el dato debe contener (11) caracteres númericos ó (10) caracteres alfanúmericos\n"
   ]
  },
  {
   "cell_type": "code",
   "execution_count": null,
   "metadata": {},
   "outputs": [],
   "source": [
    "\n",
    "NIT_Regla_Tipdoc_TI_PatronEspecifico_siInicia1_j = (\n",
    "    (col('TIPDOC') == '4') &  # Verifica si TIPDOC es igual a \"TI\" (Tarjeta de Identidad)\n",
    "    (col('NIT').rlike('^1')) &  # Verifica si el NIT inicia con '1'\n",
    "    (~col('NIT').rlike('^1\\d{9,10}$'))  # Verifica la longitud total del NIT\n",
    ")"
   ]
  },
  {
   "cell_type": "markdown",
   "metadata": {},
   "source": [
    "Regla 28:  Si el tipo de documento es Registro Civil puede contener 3 letras de la A-Z al inicio del número, seguido de un numero entre 7,8,9 o 10 dígitos.\n"
   ]
  },
  {
   "cell_type": "code",
   "execution_count": null,
   "metadata": {},
   "outputs": [],
   "source": [
    "# Regla para validar el campo NIT si TIPDOC es igual a \"Registro Civil\"\n",
    "NIT_Regla_Tipdoc_RegistroCivil_NoCumple_j =  (\n",
    "    (col('TIPDOC') == '6') &  # Verifica si TIPDOC es igual a \"Registro Civil\"\n",
    "    ~(col('NIT').rlike('^[A-Za-z0-9]{1,3}[0-9]{5,10}$'))  # Verifica el patrón del NIT modificado\n",
    ")"
   ]
  },
  {
   "cell_type": "markdown",
   "metadata": {},
   "source": [
    "Regla 29: Si Tipo de Identificacion es 'CE', el dato debe contener (6) caracteres alfanúmericos.\n"
   ]
  },
  {
   "cell_type": "code",
   "execution_count": null,
   "metadata": {},
   "outputs": [],
   "source": [
    "NIT_Regla_Longitud_CE_NoCumpleCondicion_j = (\n",
    "    (col('TIPDOC') == '2') &  # Verifica si TIPDOC es igual a \"CE\"\n",
    "    ~(col('NIT').rlike('^[0-9A-Za-z]{6}$'))  # NIT contiene exactamente 6 caracteres alfanuméricos\n",
    ")"
   ]
  },
  {
   "cell_type": "markdown",
   "metadata": {},
   "source": [
    "Regla 30: Si el tipo de documento es cedula de Extranjería, puede tener la letra E al inicio, seguido de un digito de 1 a 9 y continuar con dígitos de 0 a 9 con una longitud total de 5, 6 o 7 dígitos, para un total máximo de 9 caracteres\n"
   ]
  },
  {
   "cell_type": "code",
   "execution_count": null,
   "metadata": {},
   "outputs": [],
   "source": [
    "NIT_Regla_Tipdoc_CedulaExtranjeria_NoPatron_j = (\n",
    "    (col('TIPDOC') == '2') &  # Verifica si TIPDOC es igual a \"Cédula de Extranjería\"\n",
    "    col('NIT').rlike('^[A-Za-z0-9][1-9][0-9]{4,6}$') &  # Verifica el patrón del NIT modificado\n",
    "    (~(length(col('NIT')) >= 7) | ~(length(col('NIT')) <= 9))  # Regla para longitud total\n",
    ")"
   ]
  },
  {
   "cell_type": "markdown",
   "metadata": {},
   "source": [
    "Regla 32: Si el tipo de documento es Pasaporte el número de documento puede tener o no dos letras al inicio y continuar con dígitos de 0 a 9 con una longitud total de 6, 7, 8, 9 o 10 dígitos\n"
   ]
  },
  {
   "cell_type": "code",
   "execution_count": null,
   "metadata": {},
   "outputs": [],
   "source": [
    "NIT_Regla_Tipdoc_Pasaporte_NoCumplePatron_j = (\n",
    "    (col('TIPDOC') == '5') &  # Verifica si TIPDOC es igual a \"Pasaporte\"\n",
    "    ~(col('NIT').rlike('^(?:[A-Z]{2})?\\d{6,10}$'))  # Verificación del patrón específico del NIT para Pasaporte\n",
    ")"
   ]
  },
  {
   "cell_type": "markdown",
   "metadata": {},
   "source": [
    "Regla 33: Si el tipo de documento es NIT el número de documento debe comenzar por 8 o 9, seguido de 8 dígitos que pueden estar entre 0,9 y terminar con el digito de verificación.\n"
   ]
  },
  {
   "cell_type": "code",
   "execution_count": null,
   "metadata": {},
   "outputs": [],
   "source": [
    "# Filtro para registros donde TIPDOC es igual a \"NIT\" pero el campo NIT no sigue el patrón específico\n",
    "NIT_Regla_Tipdoc_NIT_NoCumplePatron_j = (\n",
    "    (col('TIPDOC') == '3') &  # Verifica si TIPDOC es igual a \"NIT\"\n",
    "    ~(col('NIT').rlike('^[89]\\\\d{8}'))  # Verificación del patrón específico del NIT para NIT\n",
    "  #  ~(col('NIT').rlike('^[89]\\\\d{8}'-\\\\$d')) Verificacion de digito \n",
    ")"
   ]
  },
  {
   "cell_type": "markdown",
   "metadata": {},
   "source": [
    "Regla 34: Permiso de Permanencia (PP), debe tener una longitud de 15 dígitos y todos deberán ser numéricos.\n"
   ]
  },
  {
   "cell_type": "code",
   "execution_count": null,
   "metadata": {},
   "outputs": [],
   "source": [
    "NIT_Regla_Tipdoc_PP_NoCumplePatron_j = (\n",
    "    (col('TIPDOC') == '9') &  # Verifica si TIPDOC es igual a \"PP\"\n",
    "    ~(col('NIT').rlike('^\\\\d{15}$'))  # Verificación de la longitud numérica del NIT para Permiso de Permanencia\n",
    ")"
   ]
  },
  {
   "cell_type": "markdown",
   "metadata": {},
   "source": [
    "Regla 35: Si Tipdoc = 7 entonces debe ser de longitud 9 y Debe ir 600.0000.000 a 799.999.999\n"
   ]
  },
  {
   "cell_type": "code",
   "execution_count": null,
   "metadata": {},
   "outputs": [],
   "source": [
    "# Filtro para registros donde TIPDOC es igual a \"7\" pero no cumple con la condición dada\n",
    "NIT_Regla_Tipdoc_7_NoCumpleCondicion_j = (\n",
    "    (col('TIPDOC') == '7') &  # Verifica si TIPDOC es igual a \"7\"\n",
    "    ~((col('NIT').rlike('^[0-9]{9}$')) &  # NIT contiene exactamente 9 caracteres numéricos\n",
    "      (col('NIT').between(600000000, 799999999)))  # NIT está en el rango especificado\n",
    ")"
   ]
  },
  {
   "cell_type": "markdown",
   "metadata": {},
   "source": [
    "Regla 37: Si Tipo de Identificacion es 'PA', el dato debe contener Minimo (6) y Maximo(16) caracteres alfanúmericos.\n"
   ]
  },
  {
   "cell_type": "code",
   "execution_count": null,
   "metadata": {},
   "outputs": [],
   "source": [
    "NIT_Regla_Longitud_PA_NoCumpleCondicion_j = (\n",
    "    (col('TIPDOC') == '5') &  # Verifica si TIPDOC es igual a \"PA\"\n",
    "    ~(col('NIT').rlike('^[0-9A-Za-z]{6,16}$'))  # NIT contiene entre 6 y 16 caracteres alfanuméricos\n",
    ")"
   ]
  },
  {
   "cell_type": "markdown",
   "metadata": {},
   "source": [
    "Regla 44: Campo debe ser único en la combinación tipo de identificación + nitcli\n"
   ]
  },
  {
   "cell_type": "code",
   "execution_count": null,
   "metadata": {},
   "outputs": [],
   "source": [
    "from pyspark.sql import functions as F\n",
    "from pyspark.sql import DataFrame\n",
    "\n",
    "def filtro_registros_duplicados_nit_tipdoc(df_spark: DataFrame) -> 'Column':\n",
    "    # Cálculo de registros con duplicados en la combinación de 'NIT' y 'TIPDOC'\n",
    "    NIT_Regla_unicidadCombinacionNitMasTipo = (\n",
    "        df_spark\n",
    "        .groupBy('NIT', 'TIPDOC','FechaCorte')\n",
    "        .agg(F.count('*').alias('conteo'))\n",
    "        .filter(\"conteo > 1\")\n",
    "    )\n",
    "\n",
    "    # Obtener una lista de 'NIT' que tienen duplicados en la combinación de 'NIT' y 'TIPDOC'\n",
    "    nits_con_duplicados = NIT_Regla_unicidadCombinacionNitMasTipo.select('NIT').collect()\n",
    "\n",
    "    # Convertir la lista de 'NIT' en una lista de valores para filtrar\n",
    "    lista_nits_con_duplicados = [row['NIT'] for row in nits_con_duplicados]\n",
    "\n",
    "    # Aplicar el filtro para seleccionar aquellos registros cuyo 'NIT' está en la lista de duplicados\n",
    "    filtro_unicidad = col('NIT').isin(lista_nits_con_duplicados)\n",
    "\n",
    "    return filtro_unicidad\n",
    "\n",
    "\n",
    "# Llamar a la función para obtener el filtro\n",
    "NIT_Regla_unicidadCombinacionNitMasTipo_j = filtro_registros_duplicados_nit_tipdoc(df_spark)"
   ]
  },
  {
   "cell_type": "markdown",
   "metadata": {},
   "source": [
    "Regla 45: Para el tipo CC la longitud no puede ser superior a 10 caracteres\n"
   ]
  },
  {
   "cell_type": "code",
   "execution_count": null,
   "metadata": {},
   "outputs": [],
   "source": [
    "NIT_Regla_Tipdoc_CC_LongitudExcedida_j =  (\n",
    "    (col('TIPDOC') == '1') &  # Verifica si TIPDOC es igual a \"CC\"\n",
    "    (col('NIT').rlike('^\\d{11,}$'))  # NIT contiene más de 10 caracteres numéricos\n",
    ")"
   ]
  },
  {
   "cell_type": "markdown",
   "metadata": {},
   "source": [
    "## Campo FECEXPREP"
   ]
  },
  {
   "cell_type": "markdown",
   "metadata": {},
   "source": [
    "Regla 45: Campo no debe estar vacío"
   ]
  },
  {
   "cell_type": "code",
   "execution_count": null,
   "metadata": {},
   "outputs": [],
   "source": [
    "# Regla para validar que el campo FECEXP no esté vacío\n",
    "FECEXPREP_Regla_NoVacio = (col('FECEXPREP').isNull() | (col('FECEXPREP') == ''))"
   ]
  },
  {
   "cell_type": "markdown",
   "metadata": {},
   "source": [
    "Regla 46: Campo no texto"
   ]
  },
  {
   "cell_type": "code",
   "execution_count": null,
   "metadata": {},
   "outputs": [],
   "source": [
    "FECEXPREP_Regla_NoEsTexto = (\n",
    "    col('FECEXPREP').rlike(r'[^\\d/]')\n",
    ")"
   ]
  },
  {
   "cell_type": "markdown",
   "metadata": {},
   "source": [
    "Regla 47: (FECHA expedición -FECHA ACTUAL)/365 <=120 años)"
   ]
  },
  {
   "cell_type": "code",
   "execution_count": null,
   "metadata": {},
   "outputs": [],
   "source": [
    "from pyspark.sql.functions import col, datediff, current_date\n",
    "\n",
    "# Regla para validar que la fecha de nacimiento exceda los 120 años\n",
    "FECEXPREP_Regla_DiferenciaMayorIgual120 = ((datediff(current_date(), to_date(col('FECEXPREP'), 'd/M/yyyy').cast('date') ) / 365) >= 120)"
   ]
  },
  {
   "cell_type": "markdown",
   "metadata": {},
   "source": [
    "Regla 48: Debe ser mayor a 19000101"
   ]
  },
  {
   "cell_type": "code",
   "execution_count": null,
   "metadata": {},
   "outputs": [],
   "source": [
    "from pyspark.sql.functions import to_date, col\n",
    "\n",
    "FECEXPREP_Regla_FechaAnterior1900  = ~(\n",
    "    to_date(col('FECEXPREP'), 'd/M/yyyy').cast('date') > lit('1900-01-01').cast('date')\n",
    ")"
   ]
  },
  {
   "cell_type": "markdown",
   "metadata": {},
   "source": [
    "## Campo CIUDAD_EXPEDICION"
   ]
  },
  {
   "cell_type": "markdown",
   "metadata": {},
   "source": [
    "Regla 49: Campo no debe estar vacío o nulo\n"
   ]
  },
  {
   "cell_type": "code",
   "execution_count": null,
   "metadata": {},
   "outputs": [],
   "source": [
    "# Regla para verificar que el campo \"CIUDAD_EXPEDICION\" no esté vacío o nulo\n",
    "CIUDAD_EXPEDICION_Regla_NoVacioONulo = col('CIUDAD_EXPEDICION').isNull() | (col('CIUDAD_EXPEDICION') == '')"
   ]
  },
  {
   "cell_type": "markdown",
   "metadata": {},
   "source": [
    "Regla 50: Diferente de 0 a 1"
   ]
  },
  {
   "cell_type": "code",
   "execution_count": null,
   "metadata": {},
   "outputs": [],
   "source": [
    "# Regla para verificar que el campo \"CIUDAD_EXPEDICION\" sea diferente de 0 y 1\n",
    "CIUDAD_EXPEDICION_Regla_No0o1 = (col('CIUDAD_EXPEDICION') == 0) | (col('CIUDAD_EXPEDICION') == 1)"
   ]
  },
  {
   "cell_type": "markdown",
   "metadata": {},
   "source": [
    "Regla 51: Solo Numerico"
   ]
  },
  {
   "cell_type": "code",
   "execution_count": null,
   "metadata": {},
   "outputs": [],
   "source": [
    "# Regla para verificar que el campo \"CIUDAD_EXPEDICION\" sea solo numérico\n",
    "CIUDAD_EXPEDICION_Regla_SoloNumerico = ~col('CIUDAD_EXPEDICION').cast('string').rlike('^[0-9]+$')"
   ]
  },
  {
   "cell_type": "markdown",
   "metadata": {},
   "source": [
    "Regla 52: El código de lugar de nacimiento o constitucion debe pertenecer al rango de opciones validas en parámetros"
   ]
  },
  {
   "cell_type": "code",
   "execution_count": null,
   "metadata": {},
   "outputs": [],
   "source": [
    "# Ahora carga el archivo CSV en PySpark\n",
    "ruta_csv= \"/home/jovyan/code/Bancoomeva_Oficial/ListaExternaValoresComparar.csv\"\n",
    "df_csv = spark.read.csv(ruta_csv, header=True, sep=';')\n",
    "\n",
    "\n",
    "nombre_primera_columna = 'CODCIU'\n",
    "\n",
    "\n",
    "# Seleccionar la primera columna del DataFrame por su nombre y obtener una lista de sus valores\n",
    "valores_primera_columna = [row[0] for row in df_csv.select(nombre_primera_columna).collect()]\n",
    "\n",
    "CIUDAD_EXPEDICION_Regla_ValorPerteneceListaDane = (\n",
    "    ~col('CIUDAD_EXPEDICION').isin(valores_primera_columna)\n",
    ")"
   ]
  },
  {
   "cell_type": "markdown",
   "metadata": {},
   "source": [
    "## Campo DIRECCION_COMERCIO"
   ]
  },
  {
   "cell_type": "markdown",
   "metadata": {},
   "source": [
    "Regla 53 Campo no debe estar vacío o nulo\n"
   ]
  },
  {
   "cell_type": "code",
   "execution_count": null,
   "metadata": {},
   "outputs": [],
   "source": [
    "# Regla para verificar que el campo \"DIRECCION_COMERCIO\" no esté vacío o nulo\n",
    "DIRECCION_COMERCIO_Regla_NoVacioONulo = col('DIRECCION_COMERCIO').isNull() | (col('DIRECCION_COMERCIO') == '')"
   ]
  },
  {
   "cell_type": "markdown",
   "metadata": {},
   "source": [
    "Regla 54 No se aceptan caracteres especiales a excepción de ( # - .) (Numeral, punto y guion medio) // No debe contener solo caracteres especiales ej:  guiones, “#”, “/”, entre  otros.\n"
   ]
  },
  {
   "cell_type": "code",
   "execution_count": null,
   "metadata": {},
   "outputs": [],
   "source": [
    "# Regla para verificar que el campo \"DIRECCION_COMERCIO\" no contiene caracteres especiales no permitidos\n",
    "DIRECCION_COMERCIO_Regla_NoCaracteresEspeciales = col('DIRECCION_COMERCIO').rlike(r'^[^#\\.\\-\\w]+$')"
   ]
  },
  {
   "cell_type": "markdown",
   "metadata": {},
   "source": [
    "Regla 55 La DIRECCION RESIDENCIA no debe estar en la Lista de Datos errados\n"
   ]
  },
  {
   "cell_type": "code",
   "execution_count": null,
   "metadata": {},
   "outputs": [],
   "source": [
    "# Ahora carga el archivo CSV en PySpark\n",
    "ruta_csv= \"/home/jovyan/code/Bancoomeva_Oficial/ListaExternaValoresComparar.csv\"\n",
    "df_csv = spark.read.csv(ruta_csv, header=True, sep=';')\n",
    "\n",
    "\n",
    "nombre_primera_columna = 'DIRECCIONES'\n",
    "\n",
    "\n",
    "# Seleccionar la primera columna del DataFrame por su nombre y obtener una lista de sus valores\n",
    "valores_segunda_columna = [row[0] for row in df_csv.select(nombre_primera_columna).collect()]\n",
    "\n",
    "DIRECCION_COMERCIO_Regla_ValorListaErrados = (\n",
    "    ~col('DIRECCION_COMERCIO').isin(valores_segunda_columna)\n",
    ")"
   ]
  },
  {
   "cell_type": "markdown",
   "metadata": {},
   "source": [
    "Regla 56 No debe ser solo numérico\n"
   ]
  },
  {
   "cell_type": "code",
   "execution_count": null,
   "metadata": {},
   "outputs": [],
   "source": [
    "# Regla para verificar que el campo \"DIRECCION_COMERCIO\" no sea solo numérico\n",
    "DIRECCION_COMERCIO_Regla_NoSoloNumeros = col('DIRECCION_COMERCIO').rlike('^[0-9]+$')"
   ]
  },
  {
   "cell_type": "markdown",
   "metadata": {},
   "source": [
    "Regla 57  No debe contener solo una palabra ej “avenida”; “calle”\n"
   ]
  },
  {
   "cell_type": "code",
   "execution_count": null,
   "metadata": {},
   "outputs": [],
   "source": [
    "from pyspark.sql.functions import col, size, split\n",
    "\n",
    "# Regla para verificar que el campo \"DIRECCION_COMERCIO\" no contenga solo una palabra\n",
    "DIRECCION_COMERCIO_Regla_NoSoloUnaPalabra = (\n",
    "    size(split(col('DIRECCION_COMERCIO'), ' ')) < 2  # Verifica si hay al menos dos palabras en el campo\n",
    ")"
   ]
  },
  {
   "cell_type": "markdown",
   "metadata": {},
   "source": [
    "Regla 58 No debe contener palabras como “no aplica”; “NO APLICA”\n"
   ]
  },
  {
   "cell_type": "code",
   "execution_count": null,
   "metadata": {},
   "outputs": [],
   "source": [
    "from pyspark.sql.functions import lower\n",
    "# Regla para verificar si el campo \"DIRECCION_COMERCIO\" contiene la palabra \"no aplica\"\n",
    "DIRECCION_COMERCIO_Regla_ContieneNoAplica = lower(col('DIRECCION_COMERCIO')).contains('no aplica')"
   ]
  },
  {
   "cell_type": "markdown",
   "metadata": {},
   "source": [
    "Regla 59 La DIRECCION RESIDENCIA no debe ser <= a 7 caracteres\n"
   ]
  },
  {
   "cell_type": "code",
   "execution_count": null,
   "metadata": {},
   "outputs": [],
   "source": [
    "# Regla para verificar que la longitud del campo \"DIRECCION_COMERCIO\" sea mayor que 7 caracteres\n",
    "DIRECCION_COMERCIO_Regla_LongitudMinima = length(col('DIRECCION_COMERCIO')) <= 7"
   ]
  },
  {
   "cell_type": "markdown",
   "metadata": {},
   "source": [
    "## Campo CODIGO_CIUDAD_DE_SEDE_PRINCIPAL"
   ]
  },
  {
   "cell_type": "markdown",
   "metadata": {},
   "source": [
    "Regla 60 Campo no debe ser vacío o nulo\n"
   ]
  },
  {
   "cell_type": "code",
   "execution_count": null,
   "metadata": {},
   "outputs": [],
   "source": [
    "# Regla para verificar que el campo \"CODIGO_CIUDAD_DE_SEDE_PRINCIPAL\" no sea vacío ni nulo\n",
    "CODIGO_CIUDAD_DE_SEDE_PRINCIPAL_Regla_NoVacioNiNulo =(col('CODIGO_CIUDAD_DE_SEDE_PRINCIPAL').isNull() | (col('CODIGO_CIUDAD_DE_SEDE_PRINCIPAL') == '')) "
   ]
  },
  {
   "cell_type": "markdown",
   "metadata": {},
   "source": [
    "Regla 61 Campo puede estar vacío, si no tiene diligenciado el campo Dirección de Residencia y Barrio de Residencia\n"
   ]
  },
  {
   "cell_type": "code",
   "execution_count": null,
   "metadata": {},
   "outputs": [],
   "source": [
    "CODIGO_CIUDAD_DE_SEDE_PRINCIPAL_Regla_NoVacioNiNulo_SinDireccionBarrioDiligenciado =(col('CODIGO_CIUDAD_DE_SEDE_PRINCIPAL').isNull() | (col('CODIGO_CIUDAD_DE_SEDE_PRINCIPAL') == '')) & ((col('DIRECCION_COMERCIO').isNotNull() | (col('DIRECCION_COMERCIO') != '')))"
   ]
  },
  {
   "cell_type": "markdown",
   "metadata": {},
   "source": [
    "Regla 62 Debe ser numérico\n"
   ]
  },
  {
   "cell_type": "code",
   "execution_count": null,
   "metadata": {},
   "outputs": [],
   "source": [
    "# Regla para verificar si el campo \"CODIGO_CIUDAD_DE_SEDE_PRINCIPAL\" es numérico\n",
    "CODIGO_CIUDAD_DE_SEDE_PRINCIPAL_Regla_EsNumerico = col('CODIGO_CIUDAD_DE_SEDE_PRINCIPAL').cast('bigint').isNull()"
   ]
  },
  {
   "cell_type": "markdown",
   "metadata": {},
   "source": [
    "Regla 63 Códigos de ciudad parametrizados DANE\n"
   ]
  },
  {
   "cell_type": "code",
   "execution_count": null,
   "metadata": {},
   "outputs": [],
   "source": [
    "# Ahora carga el archivo CSV en PySpark\n",
    "ruta_csv= \"/home/jovyan/code/Bancoomeva_Oficial/ListaExternaValoresComparar.csv\"\n",
    "df_csv = spark.read.csv(ruta_csv, header=True, sep=';')\n",
    "\n",
    "\n",
    "nombre_primera_columna = 'CODCIU'\n",
    "\n",
    "\n",
    "# Seleccionar la primera columna del DataFrame por su nombre y obtener una lista de sus valores\n",
    "valores_primera_columna = [row[0] for row in df_csv.select(nombre_primera_columna).collect()]\n",
    "\n",
    "CODIGO_CIUDAD_DE_SEDE_PRINCIPAL_Regla_ValorListaDane = (\n",
    "    ~col('CODIGO_CIUDAD_DE_SEDE_PRINCIPAL').isin(valores_primera_columna)\n",
    ")"
   ]
  },
  {
   "cell_type": "markdown",
   "metadata": {},
   "source": [
    "Regla 64 No debe estar definida con el codigo 0\n"
   ]
  },
  {
   "cell_type": "code",
   "execution_count": null,
   "metadata": {},
   "outputs": [],
   "source": [
    "CODIGO_CIUDAD_DE_SEDE_PRINCIPAL_Regla_ValorCodigoCero = (\n",
    "    col('CODIGO_CIUDAD_DE_SEDE_PRINCIPAL').isin(\"0\")\n",
    ")"
   ]
  },
  {
   "cell_type": "markdown",
   "metadata": {},
   "source": [
    "## Campo TEL_REP"
   ]
  },
  {
   "cell_type": "markdown",
   "metadata": {},
   "source": [
    "Regla 65: Campo no debe ser vacío o nulo\n"
   ]
  },
  {
   "cell_type": "code",
   "execution_count": null,
   "metadata": {},
   "outputs": [],
   "source": [
    "# Regla para verificar que el campo \"TEL_REP\" no es nulo ni vacío\n",
    "TEL_REP_Regla_NoNuloOVacio = col('TEL_REP').isNull() | (col('TEL_REP') == '')"
   ]
  },
  {
   "cell_type": "markdown",
   "metadata": {},
   "source": [
    "Regla 66 El campo debe ser numérico\n"
   ]
  },
  {
   "cell_type": "code",
   "execution_count": null,
   "metadata": {},
   "outputs": [],
   "source": [
    "# Regla para verificar que el campo \"TEL_REP\" es numérico\n",
    "TEL_REP_Regla_Numerico = ~col('TEL_REP').cast('bigint').rlike('^[0-9]+$')"
   ]
  },
  {
   "cell_type": "markdown",
   "metadata": {},
   "source": [
    "Regla 67 Debe tener 10 Caracteres\n"
   ]
  },
  {
   "cell_type": "code",
   "execution_count": null,
   "metadata": {},
   "outputs": [],
   "source": [
    "# Regla para validar que el campo \"TEL_REP\" tiene exactamente 10 caracteres\n",
    "from pyspark.sql.functions import length, col\n",
    "\n",
    "TEL_REP_Regla_Longitud10 = (length(col('TEL_REP')) != 10)\n"
   ]
  },
  {
   "cell_type": "markdown",
   "metadata": {},
   "source": [
    "Regla 68 El registro no debe ser menor al numero 999999999\n"
   ]
  },
  {
   "cell_type": "code",
   "execution_count": null,
   "metadata": {},
   "outputs": [],
   "source": [
    "# Regla para validar que el valor en \"TEL_REP\" no sea menor a \"999999999\"\n",
    "#TEL_REP_Regla_NoMenorA999M = col('TEL_REP').cast('bigint') <= 999999999"
   ]
  },
  {
   "cell_type": "markdown",
   "metadata": {},
   "source": [
    "Regla 68 \"El valor registrado en el campo debe ser mayor a \"\"1000000000\"\"\"\n"
   ]
  },
  {
   "cell_type": "code",
   "execution_count": null,
   "metadata": {},
   "outputs": [],
   "source": [
    "# Regla para validar que el valor en \"TEL_REP\" es mayor a \"1000000000\"\n",
    "#TEL_REP_Regla_MayorA1Billion = col('TEL_REP').cast('bigint') < 1000000000"
   ]
  },
  {
   "cell_type": "markdown",
   "metadata": {},
   "source": [
    "Regla 70 Debe empezar por 30 -  31 - 32 - 35 (parametrizable) si el país es Colombia\n"
   ]
  },
  {
   "cell_type": "code",
   "execution_count": null,
   "metadata": {},
   "outputs": [],
   "source": [
    "#TEL_REP_Regla_IniciaConParametroColombia = (col('NOM_PAIS_CONSTITUCIÓN') == '169') & ~(\n",
    "#    (col('TEL_REP').startswith('30')) |\n",
    "#    (col('TEL_REP').startswith('31')) |\n",
    " #   (col('TEL_REP').startswith('32')) |\n",
    "  #  (col('TEL_REP').startswith('35'))\n",
    "#)"
   ]
  },
  {
   "cell_type": "markdown",
   "metadata": {},
   "source": [
    "Regla 71  El campo no debe contener  una sola letra minúscula o mayúscula\n"
   ]
  },
  {
   "cell_type": "code",
   "execution_count": null,
   "metadata": {},
   "outputs": [],
   "source": [
    "# Regla para validar que \"TEL_REP\" no contenga una sola letra\n",
    "TEL_REP_Regla_NoUnaSolaLetra = col('TEL_REP').rlike(r'^[a-zA-Z]$')"
   ]
  },
  {
   "cell_type": "markdown",
   "metadata": {},
   "source": [
    "Regla 72 No debe contener oraciones como “no aplica”; “NO APLICA”\n"
   ]
  },
  {
   "cell_type": "code",
   "execution_count": null,
   "metadata": {},
   "outputs": [],
   "source": [
    "# Regla para validar que \"TEL_REP\" no contenga las oraciones \"no aplica\" o \"NO APLICA\"\n",
    "TEL_REP_Regla_NoNoAplica = col('TEL_REP').rlike(r'\\b(?:no\\s*aplica|NO\\s*APLICA)\\b')"
   ]
  },
  {
   "cell_type": "markdown",
   "metadata": {},
   "source": [
    "Regla 73 No texto\n"
   ]
  },
  {
   "cell_type": "code",
   "execution_count": null,
   "metadata": {},
   "outputs": [],
   "source": [
    "# Regla para validar que \"TEL_REP\" no contiene texto\n",
    "TEL_REP_Regla_NoTexto = col('TEL_REP').rlike(r'^[a-zA-Z]$')"
   ]
  },
  {
   "cell_type": "markdown",
   "metadata": {},
   "source": [
    "Regla 74 No estar en la lista de Datos errados\n"
   ]
  },
  {
   "cell_type": "code",
   "execution_count": null,
   "metadata": {},
   "outputs": [],
   "source": [
    "# Ahora carga el archivo CSV en PySpark\n",
    "ruta_csv= \"/home/jovyan/code/Bancoomeva_Oficial/ListaExternaValoresComparar.csv\"\n",
    "df_csv = spark.read.csv(ruta_csv, header=True, sep=';')\n",
    "\n",
    "\n",
    "nombre_tercera_columna = 'TELEFONOS'\n",
    "\n",
    "\n",
    "# Seleccionar la primera columna del DataFrame por su nombre y obtener una lista de sus valores\n",
    "valores_tercera_columna = [row[0] for row in df_csv.select(nombre_tercera_columna).collect()]\n",
    "\n",
    "TEL_REP_Regla_ValorListaErrados = (\n",
    "    ~col('TEL_REP').isin(valores_tercera_columna)\n",
    ")"
   ]
  },
  {
   "cell_type": "markdown",
   "metadata": {},
   "source": [
    "## Campo TEL_COMERC"
   ]
  },
  {
   "cell_type": "markdown",
   "metadata": {},
   "source": [
    "Regla 75 Es obligatorio sólo si no tiene TEL_REP\n"
   ]
  },
  {
   "cell_type": "code",
   "execution_count": null,
   "metadata": {},
   "outputs": [],
   "source": [
    "TEL_COMERC_Regla_VacioNuloSinTEL_REP = (col('TEL_REP').isNull() | (col('TEL_REP') == '')) & (col('TEL_COMERC').isNull() | (col('TEL_COMERC') == ''))"
   ]
  },
  {
   "cell_type": "markdown",
   "metadata": {},
   "source": [
    "Regla 76 Campo puede estar vacío, si no tiene diligenciado el campo Dirección Comercial y CODIGO_CIUDAD_DE_SEDE_PRINCIPAL\n"
   ]
  },
  {
   "cell_type": "code",
   "execution_count": null,
   "metadata": {},
   "outputs": [],
   "source": [
    "TEL_COMERC_Regla_vaciosConDirecciones = (\n",
    "    (col('TEL_COMERC').isNull() | (col('TEL_COMERC') == '')) &\n",
    "    ~(col('DIRECCION_COMERCIO').isNull() | (col('DIRECCION_COMERCIO') == '')) &\n",
    "    ~(col('CODIGO_CIUDAD_DE_SEDE_PRINCIPAL').isNull() | (col('CODIGO_CIUDAD_DE_SEDE_PRINCIPAL') == ''))\n",
    ")"
   ]
  },
  {
   "cell_type": "markdown",
   "metadata": {},
   "source": [
    "Regla 77 No se permiten en el registro ningún carácter diferente a un numero\n"
   ]
  },
  {
   "cell_type": "code",
   "execution_count": null,
   "metadata": {},
   "outputs": [],
   "source": [
    "# Regla para validar que \"TEL_COMERC\" contenga solo números\n",
    "TEL_COMERC_Regla_SoloNumeros = col('TEL_COMERC').rlike('[^0-9]')"
   ]
  },
  {
   "cell_type": "markdown",
   "metadata": {},
   "source": [
    "Regla 78 Debe ser mayor 7 digitos. \n"
   ]
  },
  {
   "cell_type": "code",
   "execution_count": null,
   "metadata": {},
   "outputs": [],
   "source": [
    "# Regla para validar la longitud del campo \"TEL_COMERC\" entre 7 y 10 caracteres\n",
    "TEL_COMERC_Regla_Longitud = (\n",
    "    (length(col('TEL_COMERC')) < 7) | (length(col('TEL_COMERC')) > 10)\n",
    ")"
   ]
  },
  {
   "cell_type": "markdown",
   "metadata": {},
   "source": [
    "Regla 79 El registro no debe ser menor al numero 999999\n"
   ]
  },
  {
   "cell_type": "code",
   "execution_count": null,
   "metadata": {},
   "outputs": [],
   "source": [
    "# Regla para validar si el campo \"TEL_COMERC\" no es menor a 999999\n",
    "TEL_COMERC_Regla_NoMenorQue999999 = (\n",
    "    col('TEL_COMERC') < 999999\n",
    ")"
   ]
  },
  {
   "cell_type": "markdown",
   "metadata": {},
   "source": [
    "Regla 80 \"el valor registrado en el campo debe ser mayor a \"\"1000000\"\"\"\n"
   ]
  },
  {
   "cell_type": "code",
   "execution_count": null,
   "metadata": {},
   "outputs": [],
   "source": [
    "# Regla para validar si el campo \"TEL_COMERC\" es mayor a 1000000\n",
    "TEL_COMERC_Regla_MayorQue1000000 = (\n",
    "    col('TEL_COMERC') < 1000000\n",
    ")"
   ]
  },
  {
   "cell_type": "markdown",
   "metadata": {},
   "source": [
    "Regla 81 Los teléfonos locales suministrado por los titulares deben contener el siguiente patrón: NXX-XXXX (siete caracteres numéricos), donde N son números del 2 al 8. Los números donde N es 9 están reservados para teléfonos públicos y X es cualquier número del 0 al 9.\n"
   ]
  },
  {
   "cell_type": "code",
   "execution_count": null,
   "metadata": {},
   "outputs": [],
   "source": [
    "# Regla para validar el patrón de números telefónicos\n",
    "TEL_COMERC_Regla_Patron = (\n",
    "    ~(col('TEL_COMERC').rlike(r'^[2-8]\\d{6}$|^[2-8]\\d{9}$'))\n",
    ")\n",
    "\n",
    "#Esta regla utiliza la expresión regular ^[2-8][0-9]{2}-[0-9]{4}$ para verificar si el número de teléfono tiene el patrón NXX-XXXX, \n",
    "# donde N es un número del 2 al 8, y X es cualquier dígito del 0 al 9."
   ]
  },
  {
   "cell_type": "markdown",
   "metadata": {},
   "source": [
    "Regla 82  El campo no debe contener  una sola letra minúscula o mayúscula\n"
   ]
  },
  {
   "cell_type": "code",
   "execution_count": null,
   "metadata": {},
   "outputs": [],
   "source": [
    "# Regla para verificar que el campo 'TEL_COMERC' no contiene una sola letra minúscula o mayúscula\n",
    "TEL_COMERC_Regla_NoLetraSola = col('TEL_COMERC').rlike(r'\\b[A-Za-z]\\b')"
   ]
  },
  {
   "cell_type": "markdown",
   "metadata": {},
   "source": [
    "Regla 83 No debe contener silabas con letras combinadas o repetidas de cualquier forma en minúscula o mayúscula\n"
   ]
  },
  {
   "cell_type": "code",
   "execution_count": null,
   "metadata": {},
   "outputs": [],
   "source": [
    "# Regla para verificar que el campo 'TEL_COMERC' no contiene sílabas con letras combinadas o repetidas\n",
    "TEL_COMERC_Regla_NoSilabasRepetidas = (\n",
    "    col('TEL_COMERC').rlike(r'([a-zA-ZáéíóúÁÉÍÓÚ]{2,})\\1') &\n",
    "    # Regla para verificar que el campo 'TEL_COMERC' no contiene letras\n",
    "    col('TEL_COMERC').rlike(r'[a-zA-ZáéíóúÁÉÍÓÚ]')\n",
    ")"
   ]
  },
  {
   "cell_type": "markdown",
   "metadata": {},
   "source": [
    "Regla 84 No debe contener oraciones como “no aplica”; “NO APLICA”\n"
   ]
  },
  {
   "cell_type": "code",
   "execution_count": null,
   "metadata": {},
   "outputs": [],
   "source": [
    "# Regla para verificar que el campo 'TEL_COMERC' no contiene las frases \"no aplica\" o \"NO APLICA\"\n",
    "TEL_COMERC_Regla_NoContieneNoAplica = (\n",
    "    col('TEL_COMERC').rlike(r'\\b(?:no aplica|NO APLICA)\\b')\n",
    ")"
   ]
  },
  {
   "cell_type": "markdown",
   "metadata": {},
   "source": [
    "## Campo NOM_PAIS_CONSTITUCIÓN"
   ]
  },
  {
   "cell_type": "markdown",
   "metadata": {},
   "source": [
    "Regla 85 Campo no debe estar vacío o nulo\n"
   ]
  },
  {
   "cell_type": "code",
   "execution_count": null,
   "metadata": {},
   "outputs": [],
   "source": [
    "NOM_PAIS_CONSTITUCIÓN_Regla_NoVacioNulo = col('NOM_PAIS_CONSTITUCIÓN').isNull() | (col('NOM_PAIS_CONSTITUCIÓN') == '')"
   ]
  },
  {
   "cell_type": "markdown",
   "metadata": {},
   "source": [
    "Regla 86 validar estándar ISO3166\n"
   ]
  },
  {
   "cell_type": "code",
   "execution_count": null,
   "metadata": {},
   "outputs": [],
   "source": [
    "# Ahora carga el archivo CSV en PySpark\n",
    "ruta_csv= \"/home/jovyan/code/Bancoomeva_Oficial/ListaExternaValoresComparar.csv\"\n",
    "df_csv = spark.read.csv(ruta_csv, header=True, sep=';')\n",
    "\n",
    "\n",
    "nombre_primera_columna = \"Codigo Pais Dane\"\n",
    "\n",
    "\n",
    "# Seleccionar la primera columna del DataFrame por su nombre y obtener una lista de sus valores\n",
    "valores_primera_columna = [row[0] for row in df_csv.select(nombre_primera_columna).collect()]\n",
    "\n",
    "NOM_PAIS_CONSTITUCIÓN_Regla_ValorListaDane = (\n",
    "    ~col('NOM_PAIS_CONSTITUCIÓN').isin(valores_primera_columna)\n",
    ")"
   ]
  },
  {
   "cell_type": "markdown",
   "metadata": {},
   "source": [
    "## Campo NOMBRE"
   ]
  },
  {
   "cell_type": "markdown",
   "metadata": {},
   "source": [
    "Regla 87 Campo no debe contener números\n"
   ]
  },
  {
   "cell_type": "code",
   "execution_count": null,
   "metadata": {},
   "outputs": [],
   "source": [
    "NOMBRE_Regla_NoNumeros = (\n",
    "    col('NOMBRE').rlike(r'\\d')  # Verifica que no haya ningún dígito numérico\n",
    ")"
   ]
  },
  {
   "cell_type": "markdown",
   "metadata": {},
   "source": [
    "Regla 88 Campo no debe contener caracteres especiales (a excepción de espacios)\n"
   ]
  },
  {
   "cell_type": "code",
   "execution_count": null,
   "metadata": {},
   "outputs": [],
   "source": [
    "# Regla para validar que \"NOMBRE\" no contenga caracteres especiales, excepto espacios\n",
    "NOMBRE_Regla_NoCaracteresEspeciales = (\n",
    "    col('NOMBRE').rlike(r'[^\\w\\sáéíóúüÁÉÍÓÚÜ]') &\n",
    "    ~col('NOMBRE').rlike(r'[ .ñÑ]')\n",
    ")"
   ]
  },
  {
   "cell_type": "markdown",
   "metadata": {},
   "source": [
    "Regla 89 Que no exista solo un punto (.), coma (,), asteriscos (*)\n"
   ]
  },
  {
   "cell_type": "code",
   "execution_count": null,
   "metadata": {},
   "outputs": [],
   "source": [
    "# Regla para validar que \"NOMBRE\" no contenga solo un punto, coma o asterisco\n",
    "NOMBRE_Regla_NoSoloPuntoComaAsterisco = (\n",
    "    col('NOMBRE').rlike(r'^[,*]$')  # No contiene solo un punto, coma o asterisco\n",
    ")"
   ]
  },
  {
   "cell_type": "markdown",
   "metadata": {},
   "source": [
    "Regla 90 No debe contener puntos, comas\n"
   ]
  },
  {
   "cell_type": "code",
   "execution_count": null,
   "metadata": {},
   "outputs": [],
   "source": [
    "NOMBRE_Regla_SinPuntosComas = (\n",
    "    col('NOMBRE').rlike(r',')  # Valida solo las comas\n",
    ")"
   ]
  },
  {
   "cell_type": "markdown",
   "metadata": {},
   "source": [
    "Regla 91 No debe contener sucesión del mismo carácter más de 3 veces (XXXX, AAAAAA,etc.)\n"
   ]
  },
  {
   "cell_type": "code",
   "execution_count": null,
   "metadata": {},
   "outputs": [],
   "source": [
    "# Regla para validar que \"NOMBRE\" no contenga una secuencia repetida de un mismo carácter más de tres veces\n",
    "NOMBRE_Regla_NoSecuenciaRepetida = (\n",
    "    col('NOMBRE').rlike(r'[^ ](.)\\1{3,}')  # Excluye secuencias repetidas de un mismo carácter más de tres veces, excepto espacios\n",
    ")"
   ]
  },
  {
   "cell_type": "markdown",
   "metadata": {},
   "source": [
    "Regla 92 Si contiene solo números, si contiene solo una sola letra minúscula o mayúscula\n"
   ]
  },
  {
   "cell_type": "code",
   "execution_count": null,
   "metadata": {},
   "outputs": [],
   "source": [
    "# Regla para validar que \"NOMBRE\" no contenga solo números ni una sola letra minúscula o mayúscula\n",
    "NOMBRE_Regla_NoSoloNumerosLetras = (\n",
    "    col('NOMBRE').rlike(r'^\\d+$') |  # No contiene solo números\n",
    "    col('NOMBRE').rlike(r'^[a-zA-Z]$')  # No contiene solo una letra minúscula o mayúscula\n",
    ")"
   ]
  },
  {
   "cell_type": "markdown",
   "metadata": {},
   "source": [
    "Regla 93 No debe estar en la lista de errados\n"
   ]
  },
  {
   "cell_type": "code",
   "execution_count": null,
   "metadata": {},
   "outputs": [],
   "source": [
    "# Ahora carga el archivo CSV en PySpark\n",
    "ruta_csv= \"/home/jovyan/code/Bancoomeva_Oficial/ListaExternaValoresComparar.csv\"\n",
    "df_csv = spark.read.csv(ruta_csv, header=True, sep=';')\n",
    "\n",
    "\n",
    "nombre_primera_columna = 'NOMBRE_EMPRESA'\n",
    "\n",
    "\n",
    "# Seleccionar la primera columna del DataFrame por su nombre y obtener una lista de sus valores\n",
    "valores_primera_columna = [row[0] for row in df_csv.select(nombre_primera_columna).collect()]\n",
    "\n",
    "NOMBRE_Regla_NoListaErrados = (\n",
    "    col('NOMBRE').isin(valores_primera_columna)\n",
    ")"
   ]
  },
  {
   "cell_type": "markdown",
   "metadata": {},
   "source": [
    "## Campo Dir_Representante"
   ]
  },
  {
   "cell_type": "markdown",
   "metadata": {},
   "source": [
    "Regla 94 No se aceptan caracteres especiales a excepción de ( # - .) (Numeral, punto y guion medio) // No debe contener solo caracteres especiales ej:  guiones, “#”, “/”, entre  otros.\n"
   ]
  },
  {
   "cell_type": "code",
   "execution_count": null,
   "metadata": {},
   "outputs": [],
   "source": [
    "# Regla para validar que \"Dir_Representante\" no tenga caracteres especiales no permitidos y no sea solo caracteres especiales\n",
    "Dir_Representante_Regla_CaracteresEspeciales = (\n",
    "    ~((col('NOMBRE').isNull()) | (col('NOMBRE') == '')) &\n",
    "    (\n",
    "        col('Dir_Representante').rlike(r'^[^a-zA-Z0-9#\\-\\.]+$') |  # Verifica que no contenga solo caracteres especiales\n",
    "        col('Dir_Representante').rlike(r'^[^\\w\\s#\\-\\.]+$')  # Verifica que no contenga caracteres especiales excepto (#, -, .)\n",
    "    )\n",
    ")\n"
   ]
  },
  {
   "cell_type": "markdown",
   "metadata": {},
   "source": [
    "Regla 95 No debe ser solo numérico\n"
   ]
  },
  {
   "cell_type": "code",
   "execution_count": null,
   "metadata": {},
   "outputs": [],
   "source": [
    "# Regla para verificar que \"Dir_Representante\" no sea solo numérico\n",
    "Dir_Representante_Regla_NoSoloNumerico = (\n",
    "    col('Dir_Representante').rlike('^[0-9]+$')\n",
    ")"
   ]
  },
  {
   "cell_type": "markdown",
   "metadata": {},
   "source": [
    "Regla 96 El campo no este diligenciado solo con silabas en minúscula o mayúscula de una a cuatro letras combinadas en cualquier orden\n"
   ]
  },
  {
   "cell_type": "code",
   "execution_count": null,
   "metadata": {},
   "outputs": [],
   "source": [
    "# Regla para verificar que \"Dir_Representante\" no esté diligenciado solo con silabas en minúscula o mayúscula de una a cuatro letras combinadas en cualquier orden\n",
    "Dir_Representante_Regla_NoSilabasEspecíficas = (\n",
    "    col('Dir_Representante').rlike(r'^(?=.*[a-zA-Z])(?!.*\\d)(?!.*[-!$%^&*()_+|~=`{}\\[\\]:\";<>?,.\\/])(?=.*[aeiou]{1,4})[a-zA-Z]{1,4}$')\n",
    ")\n",
    "#Reorna los registros que cumplan lo siguiente:\n",
    "#Contiene al menos una letra.\n",
    "#No contiene dígitos.\n",
    "#No contiene caracteres especiales, excepto letras y números.\n",
    "#Contiene entre 1 y 4 vocales.\n",
    "#Tiene entre 1 y 4 letras en total."
   ]
  },
  {
   "cell_type": "markdown",
   "metadata": {},
   "source": [
    "Regla 97  No debe contener solo una palabra ej “avenida”; “calle”\n"
   ]
  },
  {
   "cell_type": "code",
   "execution_count": null,
   "metadata": {},
   "outputs": [],
   "source": [
    "from pyspark.sql.functions import col, split, size\n",
    "# Regla para verificar que \"Dir_Representante\" no contenga solo una palabra\n",
    "Dir_Representante_Regla_NoSoloUnaPalabra = (\n",
    "    (~col('Dir_Representante').isNull()) &  # Verifica que no sea nulo\n",
    "    ~(col('Dir_Representante') == '') &    # Verifica que no esté vacío\n",
    "    (size(split(col('Dir_Representante'), ' ')) < 2)  # Verifica si hay al menos dos palabras en el campo\n",
    ")"
   ]
  },
  {
   "cell_type": "markdown",
   "metadata": {},
   "source": [
    "Regla 98 No debe contener palabras como “no aplica”; “NO APLICA”\n"
   ]
  },
  {
   "cell_type": "code",
   "execution_count": null,
   "metadata": {},
   "outputs": [],
   "source": [
    "from pyspark.sql.functions import lower\n",
    "# Regla para verificar que \"Dir_Representante\" no contenga las palabras \"no aplica\" o \"NO APLICA\"\n",
    "Dir_Representante_Regla_ContieneNoAplica = (\n",
    "    lower(col('Dir_Representante')).rlike(r'\\bno\\s*aplica\\b')  # Verifica la presencia de \"no aplica\" en cualquier caso\n",
    ")"
   ]
  },
  {
   "cell_type": "markdown",
   "metadata": {},
   "source": [
    "Regla 99 Si contiene solo números, si contiene solo una sola letra minúscula o mayúscula\n"
   ]
  },
  {
   "cell_type": "code",
   "execution_count": null,
   "metadata": {},
   "outputs": [],
   "source": [
    "# Regla para verificar que \"TOT_ACTIVOB\" no contenga solo números o una sola letra\n",
    "Dir_Representante_Regla_NoSoloNumerosNiUnaLetra = (\n",
    "    col('Dir_Representante').rlike(r'^\\d+$|^[a-zA-Z]$')  # Verifica que no contenga solo números o una sola letra\n",
    ")"
   ]
  },
  {
   "cell_type": "markdown",
   "metadata": {},
   "source": [
    "Regla 100 La DIRECCION RESIDENCIA no debe ser <= a 7 caracteres\n"
   ]
  },
  {
   "cell_type": "code",
   "execution_count": null,
   "metadata": {},
   "outputs": [],
   "source": [
    "# Regla para verificar que \"Dir_Representante\" tenga una longitud mayor a 7 caracteres\n",
    "Dir_Representante_Regla_LongitudMayorA7 = (\n",
    "    length(col('Dir_Representante')) <= 7  # Verifica si la longitud es mayor a 7 caracteres\n",
    ")"
   ]
  },
  {
   "cell_type": "markdown",
   "metadata": {},
   "source": [
    "## Campo CIU_REP"
   ]
  },
  {
   "cell_type": "markdown",
   "metadata": {},
   "source": [
    "Regla 101 Códigos de ciudad parametrizados DANE\n"
   ]
  },
  {
   "cell_type": "code",
   "execution_count": null,
   "metadata": {},
   "outputs": [],
   "source": [
    "# Ahora carga el archivo CSV en PySpark\n",
    "ruta_csv= \"/home/jovyan/code/Bancoomeva_Oficial/ListaExternaValoresComparar.csv\"\n",
    "df_csv = spark.read.csv(ruta_csv, header=True, sep=';')\n",
    "\n",
    "\n",
    "nombre_primera_columna = 'CODCIU'\n",
    "\n",
    "\n",
    "# Seleccionar la primera columna del DataFrame por su nombre y obtener una lista de sus valores\n",
    "valores_primera_columna = [row[0] for row in df_csv.select(nombre_primera_columna).collect()]\n",
    "\n",
    "CIU_REP_Regla_ValorListaDane = (\n",
    "    ~col('CIU_REP').isin(valores_primera_columna)\n",
    ")"
   ]
  },
  {
   "cell_type": "markdown",
   "metadata": {},
   "source": [
    "## Campo CIIU"
   ]
  },
  {
   "cell_type": "markdown",
   "metadata": {},
   "source": [
    "Regla 102 Debe estar diligenciado (no presenten valor en cero  0  o NULL).\n"
   ]
  },
  {
   "cell_type": "code",
   "execution_count": null,
   "metadata": {},
   "outputs": [],
   "source": [
    "CIIU_Regla_NoCeroONuloOVacio = (\n",
    "    col('CIIU').isNull() |  # Verifica que \"CIIU\" no sea nulo\n",
    "    (col('CIIU') == '') |     # Verifica que \"CIIU\" no esté vacío\n",
    "    (col('CIIU') == 0)        # Verifica que \"CIIU\" no sea cero\n",
    ")"
   ]
  },
  {
   "cell_type": "markdown",
   "metadata": {},
   "source": [
    "Regla 103 Se debería validar el código enviado con el que se encuentre parametrizado en Golden Record. (Debe ser la versión actualizada DANE, v4)\n"
   ]
  },
  {
   "cell_type": "code",
   "execution_count": null,
   "metadata": {},
   "outputs": [],
   "source": [
    "ruta_csv= \"/home/jovyan/code/Bancoomeva_Oficial/ListaExternaValoresComparar.csv\"\n",
    "df_csv = spark.read.csv(ruta_csv, header=True, sep=';')\n",
    "\n",
    "\n",
    "nombre_primera_columna = 'CIIU'\n",
    "\n",
    "\n",
    "# Seleccionar la primera columna del DataFrame por su nombre y obtener una lista de sus valores\n",
    "valores_primera_columna = [row[0] for row in df_csv.select(nombre_primera_columna).collect()]\n",
    "\n",
    "\n",
    "CIIU_Regla_ValorListaCIIU = (\n",
    "    ~col('CIIU').isin(valores_primera_columna)\n",
    ")"
   ]
  },
  {
   "cell_type": "markdown",
   "metadata": {},
   "source": [
    "## Campo TOT_VENTASB"
   ]
  },
  {
   "cell_type": "markdown",
   "metadata": {},
   "source": [
    "Regla No debe contener ceros"
   ]
  },
  {
   "cell_type": "code",
   "execution_count": null,
   "metadata": {},
   "outputs": [],
   "source": [
    "TOT_VENTASB_Regla_Cero = (\n",
    "    col('TOT_VENTASB').isin(0)  # Verifica que \"TOT_VENTASB\" sea 0\n",
    ")"
   ]
  },
  {
   "cell_type": "markdown",
   "metadata": {},
   "source": [
    "Regla 104 No deben estar en 0 (cero), nulo, 1 (uno)"
   ]
  },
  {
   "cell_type": "code",
   "execution_count": null,
   "metadata": {},
   "outputs": [],
   "source": [
    "# Regla para verificar que \"TOT_VENTASB\" no sea 0, 1, nulo o vacío\n",
    "TOT_VENTASB_Regla_NoUnoNuloOVacio = (\n",
    "    col('TOT_VENTASB').isin(1) |  # Verifica que \"TOT_VENTASB\" no sea 0 ni 1\n",
    "    col('TOT_VENTASB').isNull() |  # Verifica que \"TOT_VENTASB\" no sea nulo\n",
    "    (col('TOT_VENTASB') == '')       # Verifica que \"TOT_VENTASB\" no esté vacío\n",
    ")"
   ]
  },
  {
   "cell_type": "markdown",
   "metadata": {},
   "source": [
    "Regla 105 \"Si el campo \"\" Descrip_Actividad_Economica\"\" por “Asalariado”, \"\"Pensionado\"\", y \"\"Empleado Público\"\", se debe validar que el campo \"\"Ingreso\"\" esté diligenciado (no vacio)\"\n"
   ]
  },
  {
   "cell_type": "code",
   "execution_count": null,
   "metadata": {},
   "outputs": [],
   "source": [
    "# Regla para verificar que \"TOT_VENTASB\" no es vacío o nulo si \"ACT_ECNCA\" tiene ciertos valores\n",
    "TOT_VENTASB_Regla_NoVacioConActividadesEspecificas = (\n",
    "    (\n",
    "        (col('CIIU').isin(10, 20, 8423, 7511, 7512, 7515, 8423)) &\n",
    "        (col('TOT_VENTASB').isNull())  # Verifica que \"TOT_VENTASB\" no sea vacío o nulo\n",
    "    ) | (\n",
    "        (col('CIIU').isin(10, 20, 8423, 7511, 7512, 7515, 8423)) &\n",
    "        (col('TOT_VENTASB') == '')  \n",
    "    )\n",
    ")"
   ]
  },
  {
   "cell_type": "markdown",
   "metadata": {},
   "source": [
    "Regla 106 \"Si el campo \"\" Descrip_Actividad_Economica\"\" por “Asalariado”, \"\"Pensionado\"\", y \"\"Empleado Público\"\", se debe validar que el campo \"\"Ingreso\"\" esté diligenciado con números (no texto- ni caracteres especiales)\"\n"
   ]
  },
  {
   "cell_type": "code",
   "execution_count": null,
   "metadata": {},
   "outputs": [],
   "source": [
    "# Regla para verificar que \"TOT_VENTASB\" contiene solo números si \"ACT_ECNCA\" tiene ciertos valores\n",
    "TOT_VENTASB_Regla_NumeroConActividadesEspecificas = (\n",
    "    col('CIIU').isin(10, 20, 8423, 7511, 7512, 7515, 8423) &\n",
    "    col('TOT_VENTASB').cast('float').isNull()  # Verifica que 'TOT_VENTASBB' no consista solo en números\n",
    ")\n",
    "  "
   ]
  },
  {
   "cell_type": "markdown",
   "metadata": {},
   "source": [
    "Regla 107 Campo numérico\n"
   ]
  },
  {
   "cell_type": "code",
   "execution_count": null,
   "metadata": {},
   "outputs": [],
   "source": [
    "TOT_VENTASB_Regla_EsNumerico = (\n",
    "    ~col('TOT_VENTASB').rlike('^[0-9]+([,][0-9]+)?([Ee][+-]?[0-9]+)?$')\n",
    ")"
   ]
  },
  {
   "cell_type": "markdown",
   "metadata": {},
   "source": [
    "Regla 108 No deben estar  < 10% SMMLV, es decir que no cuentan con ningún ingreso\n"
   ]
  },
  {
   "cell_type": "code",
   "execution_count": null,
   "metadata": {},
   "outputs": [],
   "source": [
    "# Valor del SMLV\n",
    "#smlv = 1160000\n",
    "\n",
    "# Regla para verificar que \"TOT_VENTASB\" no sea menor al 10% del SMLV\n",
    "TOT_VENTASB_Regla_NoMenorQueCienMil = (\n",
    "    col('TOT_VENTASB') <= 0.1  # Verifica que \"TOT_VENTASB\" sea al menos el 10% del SMLV\n",
    ")"
   ]
  },
  {
   "cell_type": "markdown",
   "metadata": {},
   "source": [
    "Regla 109 \"Si el campo \"\" Descrip_Actividad_Economica\"\" por “Asalariado”, \"\"Pensionado\"\", y \"\"Empleado Público\"\", el valor registrado en el campo debe ser mayor al SMLV (salario mínimo legal vigente- campo parametrizable) y menos a 100000002\"\n"
   ]
  },
  {
   "cell_type": "code",
   "execution_count": null,
   "metadata": {},
   "outputs": [],
   "source": [
    "# Valor del SMLV\n",
    "#smlv = 1160000  # Puedes cambiar este valor según el SMLV actual\n",
    "\n",
    "# Regla para validar el campo \"TOT_VENTASB\" con condiciones sobre \"ACT_ECNCA\", es decir, sobre el codigo CIIU\n",
    "#TOT_VENTASB_Regla_mayorSMLV_menor100M = (\n",
    "   # (\n",
    "    #    (col('CIIU').isin(10, 20, 8423, 7511, 7512, 7515, 8423)) &\n",
    "    #    (col('TOT_VENTASB') < smlv)  # Si 'TOT_VENTASB' es menor que el valor de SMLV\n",
    "    #) | (\n",
    "    #    (col('CIIU').isin(10, 20, 8423, 7511, 7512, 7515, 8423)) &\n",
    "    #    (col('TOT_VENTASB') > 100000000)  # Si 'TOT_VENTASB' es mayor que 100 millones\n",
    "    #)\n",
    "#)"
   ]
  },
  {
   "cell_type": "markdown",
   "metadata": {},
   "source": [
    "## Campo OTR_INGRSOB"
   ]
  },
  {
   "cell_type": "markdown",
   "metadata": {},
   "source": [
    "Regla 110 Campo numérico\n"
   ]
  },
  {
   "cell_type": "code",
   "execution_count": null,
   "metadata": {},
   "outputs": [],
   "source": [
    "# Regla para verificar si el campo \"OTR_INGRSOB\" es numérico\n",
    "OTR_INGRSOB_Regla_EsNumerico = (\n",
    "    col('OTR_INGRSOB').isNotNull() &  # Verifica que el campo no sea nulo\n",
    "    (col('OTR_INGRSOB') != '') &  # Verifica que el campo no esté vacío\n",
    "    ~(col('OTR_INGRSOB').cast('string').\\\n",
    "        rlike('^\\\\d+(,\\\\d+)?$'))  # Verifica que el campo no sea numérico con coma como separador decimal\n",
    ")"
   ]
  },
  {
   "cell_type": "markdown",
   "metadata": {},
   "source": [
    "Regla 111 \"El campo otro ingreso se calificará como “cumple” si está vacio  o contener el caracter especial guion (-), una vez o varias veces (------), de igual forma puede contener silabas como \"\"na\"\", \"\"NA\"\", o \"\"no aplica\"\" , o \"\"NO APLICA\"\"\"\n"
   ]
  },
  {
   "cell_type": "code",
   "execution_count": null,
   "metadata": {},
   "outputs": [],
   "source": [
    "# Regla para validar condiciones específicas en un campo, permitiendo que esté vacío\n",
    "from pyspark.sql.functions import col\n",
    "\n",
    "OTR_INGRSOB_Regla_CumpleCondiciones = (\n",
    "    (col('OTR_INGRSOB') != '0') &  # No es cero\n",
    "    (col('OTR_INGRSOB') != '') &  # No es vacío\n",
    "    (~col('OTR_INGRSOB').rlike(r'-+')) &  # No contiene el carácter guion (-) una o varias veces\n",
    "    (~col('OTR_INGRSOB').rlike(r'^-?\\d+(\\.\\d+)?$')) &  # No es un valor numérico\n",
    "    (~col('OTR_INGRSOB').rlike(r'\\b(?:na|NA|no aplica|NO APLICA)\\b'))  # No contiene palabras específicas\n",
    ")"
   ]
  },
  {
   "cell_type": "markdown",
   "metadata": {},
   "source": [
    "Regla 112 No debe contener silabas o letras en minúscula o mayúscula combinadas en cualquier orden\n"
   ]
  },
  {
   "cell_type": "code",
   "execution_count": null,
   "metadata": {},
   "outputs": [],
   "source": [
    "# Regla para validar que \"OTR_INGRSOB\" no contenga texto\n",
    "OTR_INGRSOB_Regla_NoTexto = col('OTR_INGRSOB').isNotNull() & col('OTR_INGRSOB').cast(\"float\").isNull()"
   ]
  },
  {
   "cell_type": "markdown",
   "metadata": {},
   "source": [
    "## Campo DETALLE_DE_OTROS_INGRESOS_NO_OPERACIONALES"
   ]
  },
  {
   "cell_type": "markdown",
   "metadata": {},
   "source": [
    "Regla 113 Si el campo “Otro_Ingreso” para valores mayores a cero, en estos casos el campo “descripcion_otros_ingresos” debe estar diligenciado solo con texto\n"
   ]
  },
  {
   "cell_type": "code",
   "execution_count": null,
   "metadata": {},
   "outputs": [],
   "source": [
    "# Definir una expresión regular para verificar que DETALLE_DE_OTROS_INGRESOS_NO_OPERACIONALES no contenga dígitos\n",
    "pattern = r'\\D+'  # Esta expresión regular seleccionará cualquier secuencia que no sea un dígito\n",
    "\n",
    "DETALLE_DE_OTROS_INGRESOS_NO_OPERACIONALES_Regla_TextoSinDigitos = (\n",
    "    col('DETALLE_DE_OTROS_INGRESOS_NO_OPERACIONALES').isNotNull() &  # Asegura que DETALLE_DE_OTROS_INGRESOS_NO_OPERACIONALES no sea nulo\n",
    "    (col('OTR_INGRSOB') > 0) &  # Verifica que OTR_INGRSO sea mayor que cero\n",
    "    ~(regexp_extract(col('DETALLE_DE_OTROS_INGRESOS_NO_OPERACIONALES').cast(\"string\"), pattern, 0) != '')  # Verifica que DETALLE_DE_OTROS_INGRESOS_NO_OPERACIONALES no contenga dígitos\n",
    ")"
   ]
  },
  {
   "cell_type": "markdown",
   "metadata": {},
   "source": [
    "## Campo TOT_GASTOSB"
   ]
  },
  {
   "cell_type": "markdown",
   "metadata": {},
   "source": [
    "Regla no Cero"
   ]
  },
  {
   "cell_type": "code",
   "execution_count": null,
   "metadata": {},
   "outputs": [],
   "source": [
    "TOT_GASTOSB_Regla_Cero = (\n",
    "    col('TOT_GASTOSB').isin(0)  # Verifica que \"TOT_GASTOSB\" sea 0\n",
    ")"
   ]
  },
  {
   "cell_type": "markdown",
   "metadata": {},
   "source": [
    "Regla 114 El campo debe ser numérico\n"
   ]
  },
  {
   "cell_type": "code",
   "execution_count": null,
   "metadata": {},
   "outputs": [],
   "source": [
    "# Regla para validar que \"TOT_GASTOSB\" sea numérico\n",
    "TOT_GASTOSB_Regla_SerNumerico =  (\n",
    "   ~col('TOT_GASTOSB').rlike('^-?(\\d+(\\.\\d*)?|\\.\\d+)([eE][-+]?\\d+)?$')\n",
    ")"
   ]
  },
  {
   "cell_type": "markdown",
   "metadata": {},
   "source": [
    "Regla 115 No deben estar en 0 (cero), nulo, 1 (uno)\n"
   ]
  },
  {
   "cell_type": "code",
   "execution_count": null,
   "metadata": {},
   "outputs": [],
   "source": [
    "# Regla para validar que \"TOT_GASTOSB\" no sea 0, 1, nulo o vacío\n",
    "TOT_GASTOSB_Regla_NoUnoNuloVacio = (\n",
    "    col('TOT_GASTOSB').isNull() |               # Verifica que \"TOT_GASTOSB\" no sea nulo\n",
    "    (col('TOT_GASTOSB') == '') |                  # Verifica que \"TOT_GASTOSBSBSB\" no esté vacío                  # Verifica que \"TOT_GASTOSB\" no sea igual a 0\n",
    "    (col('TOT_GASTOSB') == 1)                      # Verifica que \"TOT_GASTOSB\" no sea igual a 1\n",
    ")"
   ]
  },
  {
   "cell_type": "markdown",
   "metadata": {},
   "source": [
    "Regla 116 No deben estar  < 10% SMMLV, es decir que no cuentan con ningún egreso\n"
   ]
  },
  {
   "cell_type": "code",
   "execution_count": null,
   "metadata": {},
   "outputs": [],
   "source": [
    "# Valor del Salario Mínimo Mensual Legal Vigente (SMMLV)\n",
    "#SMMLV = 1160000  # Por ejemplo, el SMMLV en Colombia es 1.160.000 pesos\n",
    "\n",
    "# Calcular el 10% del SMMLV\n",
    "limite_egreso = 0.1  # 10% del SMMLV\n",
    "\n",
    "# Regla para validar que \"TOT_GASTOSB\" no esté por debajo del 10% del SMMLV\n",
    "TOT_GASTOSB_Regla_NoMenorQueCienMil = (\n",
    "    col('TOT_GASTOSB') <= limite_egreso  # Verifica que el valor sea mayor o igual al 10% del SMMLV\n",
    ")"
   ]
  },
  {
   "cell_type": "markdown",
   "metadata": {},
   "source": [
    "## Campo TOT_PASIVOB\n"
   ]
  },
  {
   "cell_type": "markdown",
   "metadata": {},
   "source": [
    "Regla 117 Debe ser mayor a 0\n"
   ]
  },
  {
   "cell_type": "code",
   "execution_count": null,
   "metadata": {},
   "outputs": [],
   "source": [
    "# Regla para validar que \"VALOR_PASIVOS\" sea mayor que cero\n",
    "TOT_PASIVOB_Regla_MayorQueCero = (\n",
    "    col('TOT_PASIVOB') < 0  # Verifica que el valor sea mayor que cero\n",
    ")"
   ]
  },
  {
   "cell_type": "markdown",
   "metadata": {},
   "source": [
    "Regla 118 No deben estar en nulo o 1 (uno)\n"
   ]
  },
  {
   "cell_type": "code",
   "execution_count": null,
   "metadata": {},
   "outputs": [],
   "source": [
    "# Regla para validar que \"VALOR_PASIVOS\" no sea 0, 1, nulo o vacío\n",
    "TOT_PASIVOB_Regla_NoUnoNuloVacio = (\n",
    "    col('TOT_PASIVOB').isNull() |               # Verifica que \"VALOR_PASIVOS\" no sea nulo\n",
    "    (col('TOT_PASIVOB') == '') |                  # Verifica que \"VALOR_PASIVOS\" no esté vacío\n",
    "    (col('TOT_PASIVOB') == 1)                      # Verifica que \"VALOR_PASIVOS\" no sea igual a 1\n",
    ")"
   ]
  },
  {
   "cell_type": "markdown",
   "metadata": {},
   "source": [
    "## Campo TOT_ACTIVOB"
   ]
  },
  {
   "cell_type": "markdown",
   "metadata": {},
   "source": [
    "Regla 119 El campo debe ser numérico\n"
   ]
  },
  {
   "cell_type": "code",
   "execution_count": null,
   "metadata": {},
   "outputs": [],
   "source": [
    "# Regla para validar que \"TOT_ACTIVOB\" sea numérico\n",
    "TOT_ACTIVOB_Regla_SerNumerico = ~col('TOT_ACTIVOB').rlike('^-?(\\d+(\\.\\d*)?|\\.\\d+)([eE][-+]?\\d+)?$')"
   ]
  },
  {
   "cell_type": "markdown",
   "metadata": {},
   "source": [
    "Regla 120 No deben estar en 0 (cero), nulo, 1 (uno)\n"
   ]
  },
  {
   "cell_type": "code",
   "execution_count": null,
   "metadata": {},
   "outputs": [],
   "source": [
    "# Regla para validar que \"TOT_ACTIVOBB\" no sea 0, nulo, 1 o vacío\n",
    "TOT_ACTIVOB_Regla_NoCeroNuloUnoVacio = (\n",
    "    col('TOT_ACTIVOB').isNull() |                # Verifica que \"TOT_ACTIVOBBBB\" no sea nulo\n",
    "    (col('TOT_ACTIVOB') == '') |                   # Verifica que \"TOT_ACTIVOB\" no esté vacío\n",
    "    (col('TOT_ACTIVOB') == '0') |                    # Verifica que \"TOT_ACTIVOB\" no sea igual a 0\n",
    "    (col('TOT_ACTIVOB') == '1')                      # Verifica que \"TOT_ACTIVOB\" no sea igual a 1\n",
    ")"
   ]
  },
  {
   "cell_type": "markdown",
   "metadata": {},
   "source": [
    "Regla 121 No deben estar  < 10% SMMLV, es decir que no cuentan con ningún activo\n"
   ]
  },
  {
   "cell_type": "code",
   "execution_count": null,
   "metadata": {},
   "outputs": [],
   "source": [
    "# Valor del Salario Mínimo Mensual Legal Vigente (SMMLV)\n",
    "#SMMLV = 1160000  # Valor del SMMLV en pesos colombianos\n",
    "\n",
    "# Calcular el 10% del SMMLV\n",
    "limite_activos = 0.1  # 10% del SMMLV\n",
    "\n",
    "# Regla para validar que \"TOT_ACTIVOB\" no esté por debajo del 10% del SMMLV\n",
    "TOT_ACTIVOB_Regla_MayorQueCienMil = (\n",
    "    col('TOT_ACTIVOB') <= limite_activos  # Verifica que el valor sea mayor o igual al 10% del SMMLV\n",
    ")"
   ]
  },
  {
   "cell_type": "markdown",
   "metadata": {},
   "source": [
    "Regl 122 No debe contener silabas o letras en minúscula o mayúscula combinadas en cualquier orden\n"
   ]
  },
  {
   "cell_type": "code",
   "execution_count": null,
   "metadata": {},
   "outputs": [],
   "source": [
    "import re\n",
    "\n",
    "# Regla para validar que \"TOT_ACTIVOB\" no contenga silabas o letras en minúscula o mayúscula combinadas\n",
    "TOT_ACTIVOB_Regla_NoSilabas = (\n",
    "    col('TOT_ACTIVOB').rlike(r'.*([aeiouAEIOU]{2,}|[a-zA-Z]{2,}).*') &  # Verifica la ausencia de combinaciones de letras o sílabas\n",
    "    col('TOT_ACTIVOB').rlike(r'[^\\d]')  # Verifica que el campo no contenga ningún carácter que no sea un dígito\n",
    ")"
   ]
  },
  {
   "cell_type": "markdown",
   "metadata": {},
   "source": [
    "## Campo REALIZA_OPERACIONES_ME"
   ]
  },
  {
   "cell_type": "markdown",
   "metadata": {},
   "source": [
    "Regla 123 Campo no debe ser vacío o nulo\n"
   ]
  },
  {
   "cell_type": "code",
   "execution_count": null,
   "metadata": {},
   "outputs": [],
   "source": [
    "# Regla para validar que \"REALIZA_OPERACIONES_ME\" no sea nulo ni vacío\n",
    "REALIZA_OPERACIONES_ME_Regla_NoNuloNoVacio = (\n",
    "    col('REALIZA_OPERACIONES_ME').isNull() |  # Verifica que \"REALIZA_OPERACIONES_ME\" no sea nulo\n",
    "    (col('REALIZA_OPERACIONES_ME') == '')       # Verifica que \"REALIZA_OPERACIONES_ME\" no esté vacío\n",
    ")"
   ]
  },
  {
   "cell_type": "markdown",
   "metadata": {},
   "source": [
    "Regla 124 Debe ser Si o No solamente\n"
   ]
  },
  {
   "cell_type": "code",
   "execution_count": null,
   "metadata": {},
   "outputs": [],
   "source": [
    "# Regla para validar que \"REALIZA_OPERACIONES_ME\" tenga solo los valores \"Si\" o \"No\"\n",
    "REALIZA_OPERACIONES_ME_Regla_ValoresPermitidos = (\n",
    "    ~col('REALIZA_OPERACIONES_ME').isin('S', 'N')  # Verifica si el valor está en la lista especificada\n",
    ")"
   ]
  },
  {
   "cell_type": "markdown",
   "metadata": {},
   "source": [
    "## Campo TIPO_PRODUCTO_ME"
   ]
  },
  {
   "cell_type": "markdown",
   "metadata": {},
   "source": [
    "Regla 125 Obligatario si el campo REALIZA_OPERACIONES_ME es SI\n"
   ]
  },
  {
   "cell_type": "code",
   "execution_count": null,
   "metadata": {},
   "outputs": [],
   "source": [
    "# Regla para validar que \"TIPPRD1\" no sea nulo ni vacío si \"INDMONE\" es \"Si\"\n",
    "TIPO_PRODUCTO_ME_Regla_NoNuloNoVacioConIndicadorSi = (\n",
    "    (col('REALIZA_OPERACIONES_ME') == 'S') &                    # Verifica que \"INDMONE\" sea \"Si\"\n",
    "    (col('TIPO_PRODUCTO_ME').isNull() |  (col('TIPO_PRODUCTO_ME') == ''))              # Asegura que \"TIPPRD1\" no sea nulo\n",
    "                                                                 # Asegura que \"TIPPRD1\" no esté vacío\n",
    ")"
   ]
  },
  {
   "cell_type": "markdown",
   "metadata": {},
   "source": [
    "Regla 126 Debe estar dentro de los parametros de las opciones a seleccionar\n"
   ]
  },
  {
   "cell_type": "code",
   "execution_count": null,
   "metadata": {},
   "outputs": [],
   "source": [
    "TIPO_PRODUCTO_ME_Regla_ValoresPermitidos = (\n",
    "    ~col('TIPO_PRODUCTO_ME').isin('0', '1', '2','3','4')  # Verifica si el valor está en la lista especificada\n",
    ")"
   ]
  },
  {
   "cell_type": "markdown",
   "metadata": {},
   "source": [
    "## Campo ENTIDAD_ME"
   ]
  },
  {
   "cell_type": "markdown",
   "metadata": {},
   "source": [
    "Regla 127 Obligatorio si operaciones en el exterior\n"
   ]
  },
  {
   "cell_type": "code",
   "execution_count": null,
   "metadata": {},
   "outputs": [],
   "source": [
    "# Regla para validar que \"ENTIDAD_ME\" no sea nulo ni vacío\n",
    "ENTIDAD_ME_Regla_NoNuloNoVacio = (\n",
    "    (col('REALIZA_OPERACIONES_ME') == 'S') & \n",
    "    (\n",
    "        (col('ENTIDAD_ME').isNull() |          # Asegura que \"ENTIDAD_ME\" no sea nulo\n",
    "        (col('ENTIDAD_ME') == '') ) \n",
    "                 )             # Asegura que \"ENTIDAD_ME\" no esté vacío\n",
    ")   "
   ]
  },
  {
   "cell_type": "markdown",
   "metadata": {},
   "source": [
    "Regla 128 Lista de monedas (listado)\n"
   ]
  },
  {
   "cell_type": "code",
   "execution_count": null,
   "metadata": {},
   "outputs": [],
   "source": [
    "# Ahora carga el archivo CSV en PySpark\n",
    "ruta_csv= \"/home/jovyan/code/Bancoomeva_Oficial/ListaExternaValoresComparar.csv\"\n",
    "df_csv = spark.read.csv(ruta_csv, header=True, sep=';')\n",
    "\n",
    "\n",
    "nombre_primera_columna = 'ISO4217'\n",
    "\n",
    "\n",
    "# Seleccionar la primera columna del DataFrame por su nombre y obtener una lista de sus valores\n",
    "valores_primera_columna = [row[0] for row in df_csv.select(nombre_primera_columna).collect()]\n",
    "\n",
    "ENTIDAD_ME_Regla_ListaISO = (\n",
    "    ~col('ENTIDAD_ME').isin(valores_primera_columna)\n",
    ")"
   ]
  },
  {
   "cell_type": "markdown",
   "metadata": {},
   "source": [
    "Regla 129 \"Si  el campo \"\"Cuentas_Exterior\"\" en los campos marcados con el número 1, para estos casos se debe validar que el campo “Moneda” esté diligenciado con texto (no números- ni caracteres especiales)\"\n"
   ]
  },
  {
   "cell_type": "code",
   "execution_count": null,
   "metadata": {},
   "outputs": [],
   "source": [
    "ENTIDAD_ME_Regla_NoTexto = (\n",
    "    (col('Posee_Cuentas_Ext') == 'S') & (\n",
    "        (col('ENTIDAD_ME').rlike('[^a-zA-Z]'))\n",
    "    )\n",
    ")"
   ]
  },
  {
   "cell_type": "markdown",
   "metadata": {},
   "source": [
    "## Campo PAIS_ME"
   ]
  },
  {
   "cell_type": "markdown",
   "metadata": {},
   "source": [
    "Regla 130 \"Si  el campo \"\"Cuentas_Exterior\"\" en los campos marcados con el número 1, para estos casos se debe validar que el campo “Pais” esté diligenciado con texto (no números- ni caracteres especiales)\"\n"
   ]
  },
  {
   "cell_type": "code",
   "execution_count": null,
   "metadata": {},
   "outputs": [],
   "source": [
    "# Regla para validar que \"PAIS_ME\" contenga texto si \"INDMONE\" es \"Si\"\n",
    "PAIS_ME_Regla_TextoConIndicadorSi =  (\n",
    "    (col('Posee_Cuentas_Ext') == 'S') & (\n",
    "        (col('PAIS_ME').rlike('[^a-zA-Z]'))\n",
    "    )\n",
    ")"
   ]
  },
  {
   "cell_type": "markdown",
   "metadata": {},
   "source": [
    "Regla 131 Obligatorio si operaciones en el exterior\n"
   ]
  },
  {
   "cell_type": "code",
   "execution_count": null,
   "metadata": {},
   "outputs": [],
   "source": [
    "\n",
    "PAIS_ME_Regla_NoNuloNoVacio = (\n",
    "    (col('REALIZA_OPERACIONES_ME') == 'S') & \n",
    "    (\n",
    "    (col('PAIS_ME').isNull() |             #\n",
    "    (col('PAIS_ME') == '') )   \n",
    "               )               #\n",
    ")"
   ]
  },
  {
   "cell_type": "markdown",
   "metadata": {},
   "source": [
    "Regla 132 Lista códigos países\n"
   ]
  },
  {
   "cell_type": "code",
   "execution_count": null,
   "metadata": {},
   "outputs": [],
   "source": [
    "# Ahora carga el archivo CSV en PySpark\n",
    "ruta_csv= \"/home/jovyan/code/Bancoomeva_Oficial/ListaExternaValoresComparar.csv\"\n",
    "df_csv = spark.read.csv(ruta_csv, header=True, sep=';')\n",
    "\n",
    "\n",
    "nombre_primera_columna = 'Codigo Pais Dane'\n",
    "\n",
    "\n",
    "# Seleccionar la primera columna del DataFrame por su nombre y obtener una lista de sus valores\n",
    "valores_primera_columna = [row[0] for row in df_csv.select(nombre_primera_columna).collect()]\n",
    "\n",
    "PAIS_ME_Regla_ListaPaises = (\n",
    "    ~col('PAIS_ME').isin(valores_primera_columna)\n",
    ")"
   ]
  },
  {
   "cell_type": "markdown",
   "metadata": {},
   "source": [
    "## Campo COD_DEP_CONSTITUCIÓN"
   ]
  },
  {
   "cell_type": "markdown",
   "metadata": {},
   "source": [
    "Regla 133 \"Si el campo \"\"Cuentas_Exterior\"\" en los campos marcados con el número 1, para estos casos se debe validar que el campo “Ciudad” esté diligenciado (no vacio)\"\n"
   ]
  },
  {
   "cell_type": "code",
   "execution_count": null,
   "metadata": {},
   "outputs": [],
   "source": [
    "# Regla para validar que \"COD_DEP_CONSTITUCIÓN\" no sea nulo ni vacío\n",
    "COD_DEP_CONSTITUCIÓN_Regla_NoNuloNoVacio = (\n",
    "    (col('Posee_Cuentas_Ext') == 'S') & (\n",
    "    col('COD_DEP_CONSTITUCIÓN').isNull() |          # Asegura que \"COD_DEP_CONSTITUCIÓN\" no sea nulo\n",
    "    (col('COD_DEP_CONSTITUCIÓN') == '')        \n",
    "                  )              # Asegura que \"COD_DEP_CONSTITUCIÓN\" no esté vacío\n",
    ")"
   ]
  },
  {
   "cell_type": "markdown",
   "metadata": {},
   "source": [
    "Regla 134 \"Si  el campo \"\"Cuentas_Exterior\"\" en los campos marcados con el número 1, para estos casos se debe validar que el campo “Ciudad” esté diligenciado con texto (no números- ni caracteres especiales)\"\n"
   ]
  },
  {
   "cell_type": "code",
   "execution_count": null,
   "metadata": {},
   "outputs": [],
   "source": [
    "from pyspark.sql.functions import col, regexp_extract\n",
    "\n",
    "# Regla para validar que \"COD_DEP_CONSTITUCIÓN\" contenga texto si \"INDMONE\" es \"Si\"\n",
    "COD_DEP_CONSTITUCIÓN_Regla_TextoConIndicadorSi = (\n",
    "    (col('Posee_Cuentas_Ext') == 'S') & (                                             # Verifica que \"INDMONE\" sea \"Si\"\n",
    "    (col('COD_DEP_CONSTITUCIÓN').isNull() |                                      # Asegura que \"COD_DEP_CONSTITUCIÓN\" no sea nulo\n",
    "    (col('COD_DEP_CONSTITUCIÓN') == '') |                                           # Asegura que \"COD_DEP_CONSTITUCIÓN\" no esté vacío\n",
    "    (col('COD_DEP_CONSTITUCIÓN').rlike('[^a-zA-Z]')))\n",
    ")\n",
    ")"
   ]
  },
  {
   "cell_type": "markdown",
   "metadata": {},
   "source": [
    "## Campo CUAL_CARGO"
   ]
  },
  {
   "cell_type": "markdown",
   "metadata": {},
   "source": [
    "Regla 135 Solo es Obligatorio si es PEPS\n"
   ]
  },
  {
   "cell_type": "code",
   "execution_count": null,
   "metadata": {},
   "outputs": [],
   "source": [
    "CUAL_CARGO_Regla_NoNuloVacio_PEPS_Juridicos = (\n",
    "    (\n",
    "    (col('FECINI_CARGO_PUBLICO') == 'S') & \n",
    "    (col('CUAL_CARGO').isNull() | (col('CUAL_CARGO') == ''))\n",
    "    )|\n",
    "    (\n",
    "    (col('FECFIN_CARGO_PUBLICO') == 'S') & \n",
    "    (col('CUAL_CARGO').isNull() | (col('CUAL_CARGO') == ''))       \n",
    "    )|\n",
    "    (\n",
    "    (col('DESEMP_CARGO_ACTUAL') == 'S') & \n",
    "    (col('CUAL_CARGO').isNull() | (col('CUAL_CARGO') == ''))      \n",
    "    )\n",
    ")"
   ]
  },
  {
   "cell_type": "markdown",
   "metadata": {},
   "source": [
    "Regla 136 No se encuentre en lista de errados\n"
   ]
  },
  {
   "cell_type": "code",
   "execution_count": null,
   "metadata": {},
   "outputs": [],
   "source": [
    "# Ahora carga el archivo CSV en PySpark\n",
    "ruta_csv= \"/home/jovyan/code/Bancoomeva_Oficial/ListaExternaValoresComparar.csv\"\n",
    "df_csv = spark.read.csv(ruta_csv, header=True, sep=';')\n",
    "\n",
    "\n",
    "nombre_primera_columna = 'CARGO'\n",
    "\n",
    "\n",
    "# Seleccionar la primera columna del DataFrame por su nombre y obtener una lista de sus valores\n",
    "valores_primera_columna = [row[0] for row in df_csv.select(nombre_primera_columna).collect()]\n",
    "\n",
    "CUAL_CARGO_Regla_NoListaErrados_Juridicos = (\n",
    "    (\n",
    "    (\n",
    "    (col('FECINI_CARGO_PUBLICO') == 'S') & \n",
    "    ((col('CUAL_CARGO').isin(valores_primera_columna)))\n",
    "    )|\n",
    "    (\n",
    "    (col('FECFIN_CARGO_PUBLICO') == 'S') & \n",
    "    ((col('CUAL_CARGO').isin(valores_primera_columna)))       \n",
    "    )|\n",
    "    (\n",
    "    (col('DESEMP_CARGO_ACTUAL') == 'S') & \n",
    "    ((col('CUAL_CARGO').isin(valores_primera_columna)))      \n",
    "    )\n",
    ")\n",
    ")"
   ]
  },
  {
   "cell_type": "markdown",
   "metadata": {},
   "source": [
    "## Campo FECINI_CARGO_PUBLICO"
   ]
  },
  {
   "cell_type": "markdown",
   "metadata": {},
   "source": [
    "Regla 137 No debe estar vacio/nulo/cero si tiene cargo publico\n"
   ]
  },
  {
   "cell_type": "code",
   "execution_count": null,
   "metadata": {},
   "outputs": [],
   "source": [
    "FECINI_CARGO_PUBLICO_Regla_NoVacioPEPS_Juridicos =(\n",
    "    (\n",
    "    (col('CARGO_PUBLICO') == 'S') & \n",
    "    (col('FECINI_CARGO_PUBLICO').isNull() | (col('FECINI_CARGO_PUBLICO') == ''))\n",
    "    )|\n",
    "    (\n",
    "    (col('DESEMP_CARGO_ACTUAL') == 'S') & \n",
    "    (col('FECINI_CARGO_PUBLICO').isNull() | (col('FECINI_CARGO_PUBLICO') == ''))\n",
    "    )\n",
    ")"
   ]
  },
  {
   "cell_type": "markdown",
   "metadata": {},
   "source": [
    "Regla 138 Debe ser una fecha después del 01/01/1900\n"
   ]
  },
  {
   "cell_type": "code",
   "execution_count": null,
   "metadata": {},
   "outputs": [],
   "source": [
    "from pyspark.sql.functions import col, to_date\n",
    "from pyspark.sql.functions import lit\n",
    "\n",
    "FECINI_CARGO_PUBLICO_Regla_FechaDespues1900_Juridicos = (\n",
    "    (\n",
    "    (col('CARGO_PUBLICO') == 'S') & \n",
    "    (~(regexp_extract(col('FECINI_CARGO_PUBLICO'), pattern, 0) == '') & ~(to_date(col('FECINI_CARGO_PUBLICO'), 'd/M/yyyy').cast('date') > lit('1900-01-01').cast('date'))  )\n",
    "    )|\n",
    "    (\n",
    "    (col('DESEMP_CARGO_ACTUAL') == 'S') & \n",
    "    (~(regexp_extract(col('FECINI_CARGO_PUBLICO'), pattern, 0) == '') & ~(to_date(col('FECINI_CARGO_PUBLICO'), 'd/M/yyyy').cast('date') > lit('1900-01-01').cast('date'))   )\n",
    "    )    \n",
    ")"
   ]
  },
  {
   "cell_type": "markdown",
   "metadata": {},
   "source": [
    "Regla 139 Estándar Format DD -MM-YYYY (ejemplo: 11-12-2024) \n"
   ]
  },
  {
   "cell_type": "code",
   "execution_count": null,
   "metadata": {},
   "outputs": [],
   "source": [
    "from pyspark.sql.functions import col, regexp_extract\n",
    "# Definir una regla para validar fechas en diferentes formatos\n",
    "pattern = r'^\\d{1,2}[/-]\\d{1,2}[/-]\\d{4}$'  # Acepta formatos con uno o dos dígitos para día y mes\n",
    "FECINI_CARGO_PUBLICO_Regla_FormatoDiaMesAnio_Juridicos= (\n",
    "\n",
    "        (\n",
    "    (col('CARGO_PUBLICO') == 'S') & \n",
    "    ((regexp_extract(col('FECINI_CARGO_PUBLICO'), pattern, 0) == ''))\n",
    "    )|\n",
    "    (\n",
    "    (col('DESEMP_CARGO_ACTUAL') == 'S') & \n",
    "    ((regexp_extract(col('FECINI_CARGO_PUBLICO'), pattern, 0) == '') )\n",
    "    )\n",
    ")"
   ]
  },
  {
   "cell_type": "markdown",
   "metadata": {},
   "source": [
    "## Campo FECFIN_CARGO_PUBLICO"
   ]
  },
  {
   "cell_type": "markdown",
   "metadata": {},
   "source": [
    "Regla 140 Debe ser una fecha después del 01/01/1900 en caso de que esté diligenciada\n"
   ]
  },
  {
   "cell_type": "code",
   "execution_count": null,
   "metadata": {},
   "outputs": [],
   "source": [
    "from pyspark.sql.functions import col, to_date\n",
    "from pyspark.sql.functions import lit\n",
    "\n",
    "\n",
    "FECFIN_CARGO_PUBLICO_Regla_FechaDespues1900_Juridicos = (\n",
    "    (col('CARGO_PUBLICO') == 'S') &           # Asegura que \"FECINI_CARGO_PUBLICO\" no sea nulo\n",
    "    (col('DESEMP_CARGO_ACTUAL') == 'N') &\n",
    "    ~(to_date(col('FECFIN_CARGO_PUBLICO'), 'd/M/yyyy').cast('date') > lit('1900-01-01').cast('date'))  \n",
    ")"
   ]
  },
  {
   "cell_type": "markdown",
   "metadata": {},
   "source": [
    "Regla 141 Estándar Format DD -MM-YYYY (ejemplo: 11-12-2024) \n"
   ]
  },
  {
   "cell_type": "code",
   "execution_count": null,
   "metadata": {},
   "outputs": [],
   "source": [
    "from pyspark.sql.functions import col, datediff, to_date, regexp_extract\n",
    "# Definir una regla para validar fechas en diferentes formatos\n",
    "pattern = r'^\\d{1,2}[/-]\\d{1,2}[/-]\\d{4}$'  # Acepta formatos con uno o dos dígitos para día y mes\n",
    "FECFIN_CARGO_PUBLICO_Regla_FormatoDiaMesAnio_Juridicos= (\n",
    "    \n",
    "    col('FECFIN_CARGO_PUBLICO').isNotNull() &  # Asegura que el valor no sea nulo\n",
    "    (col('FECFIN_CARGO_PUBLICO') != 0) &\n",
    "    (regexp_extract(col('FECFIN_CARGO_PUBLICO'), pattern, 0) == '')  # Valida el formato usando una expresión regular\n",
    ")"
   ]
  },
  {
   "cell_type": "markdown",
   "metadata": {},
   "source": [
    "## Campo REP_LEGAL_ONG"
   ]
  },
  {
   "cell_type": "markdown",
   "metadata": {},
   "source": [
    "Regla 142 Campo no vacio o nulo\n"
   ]
  },
  {
   "cell_type": "code",
   "execution_count": null,
   "metadata": {},
   "outputs": [],
   "source": [
    "REP_LEGAL_ONG_Regla_NoVaciosNuloPEPS_Juridicos =(\n",
    "    (\n",
    "    (col('REP_LEGAL_ONG').isNull() | (col('REP_LEGAL_ONG') == ''))\n",
    "    )|\n",
    "    (\n",
    "    (col('REP_LEGAL_ONG').isNull() | (col('REP_LEGAL_ONG') == ''))  \n",
    "    )\n",
    ")"
   ]
  },
  {
   "cell_type": "markdown",
   "metadata": {},
   "source": [
    "Regla 143 Sí o No\n"
   ]
  },
  {
   "cell_type": "code",
   "execution_count": null,
   "metadata": {},
   "outputs": [],
   "source": [
    "# Valores permitidos para el campo \"REP_LEGAL_ONG\"\n",
    "valores_permitidos = ['S', 'N']\n",
    "\n",
    "# Regla para validar que \"REP_LEGAL_ONG\" contenga solo los valores permitidos\n",
    "REP_LEGAL_ONG_Regla_ValoresPermitidos_Juridicos = (\n",
    "    ~col('REP_LEGAL_ONG').isin(valores_permitidos)  # Asegura que \"REP_LEGAL_ONG\" contenga solo los valores permitidos\n",
    ")"
   ]
  },
  {
   "cell_type": "markdown",
   "metadata": {},
   "source": [
    "## Campo CARGO_PUBLICO"
   ]
  },
  {
   "cell_type": "markdown",
   "metadata": {},
   "source": [
    "Regla 144 No vacio o nulo si desempeña cargo publico o tiene fecha inicio cargo publico\n"
   ]
  },
  {
   "cell_type": "code",
   "execution_count": null,
   "metadata": {},
   "outputs": [],
   "source": [
    "CARGO_PUBLICO_Regla_ObligatorioPEPS_Juriicos = (\n",
    "\n",
    "    (\n",
    "        (col('DESEMP_CARGO_ACTUAL') == 'S') & \n",
    "        (col('CARGO_PUBLICO').isNull() | (col('CARGO_PUBLICO') == '')) \n",
    "     ) |\n",
    "        \n",
    "    (   (col('FECINI_CARGO_PUBLICO') == 'S') & \n",
    "        (col('CARGO_PUBLICO').isNull() | (col('CARGO_PUBLICO') == '')) \n",
    "    ) \n",
    "\n",
    ")"
   ]
  },
  {
   "cell_type": "markdown",
   "metadata": {},
   "source": [
    "Regla 145 Sí o No\n"
   ]
  },
  {
   "cell_type": "code",
   "execution_count": null,
   "metadata": {},
   "outputs": [],
   "source": [
    "# Valores permitidos para el campo \"CARGO_PUBLICO\"\n",
    "valores_permitidos = ['S', 'N']\n",
    "\n",
    "CARGO_PUBLICO_Regla_ValoresPermitidos_Juridicos = (\n",
    "\n",
    "    (\n",
    "        (col('DESEMP_CARGO_ACTUAL') == 'S') & \n",
    "        (col('CARGO_PUBLICO').isNull() | (col('CARGO_PUBLICO') == '') | ~col('CARGO_PUBLICO').isin(valores_permitidos) ) \n",
    "     ) |\n",
    "        \n",
    "    (   (col('FECINI_CARGO_PUBLICO') == 'S') & \n",
    "        (col('CARGO_PUBLICO').isNull() | (col('CARGO_PUBLICO') == '') | ~col('CARGO_PUBLICO').isin(valores_permitidos)) \n",
    "    ) \n",
    "\n",
    ")"
   ]
  },
  {
   "cell_type": "markdown",
   "metadata": {},
   "source": [
    "## Campo TIENE_VINCULO_PEPS"
   ]
  },
  {
   "cell_type": "markdown",
   "metadata": {},
   "source": [
    "Regla 146 Campo vacio o nulo\n"
   ]
  },
  {
   "cell_type": "code",
   "execution_count": null,
   "metadata": {},
   "outputs": [],
   "source": [
    "TIENE_VINCULO_PEPS_Regla_NoVaciosNuloPEPS_Juridico = (\n",
    "    ((col('TIENE_VINCULO_PEPS').isNull() | (col('TIENE_VINCULO_PEPS') == '')) &\n",
    "    (col('DESEMP_CARGO_ACTUAL') == 'S')) \n",
    ")"
   ]
  },
  {
   "cell_type": "markdown",
   "metadata": {},
   "source": [
    "Regla 147 Sí o No\n"
   ]
  },
  {
   "cell_type": "code",
   "execution_count": null,
   "metadata": {},
   "outputs": [],
   "source": [
    "# Valores permitidos para el campo \"TIENE_VINCULO_PEPS\"\n",
    "valores_permitidos = ['S', 'N']\n",
    "\n",
    "# Regla para validar que \"TIENE_VINCULO_PEPS\" contenga solo los valores permitidos\n",
    "TIENE_VINCULO_PEPS_Regla_ValoresPermitidos_Juridico = (\n",
    "    ~col('TIENE_VINCULO_PEPS').isin(valores_permitidos)  # Asegura que \"TIENE_VINCULO_PEPS\" contenga solo los valores permitidos\n",
    ")"
   ]
  },
  {
   "cell_type": "markdown",
   "metadata": {},
   "source": [
    "## SCORER"
   ]
  },
  {
   "cell_type": "markdown",
   "metadata": {},
   "source": [
    "Regla 148 Alto o Bajo\n"
   ]
  },
  {
   "cell_type": "code",
   "execution_count": null,
   "metadata": {},
   "outputs": [],
   "source": [
    "valores_permitidos = ['ALTO', 'BAJO', 'Alto', 'Bajo', 'alto', 'bajo']\n",
    "\n",
    "# Regla para validar que \"SCORER\" contenga solo los valores permitidos\n",
    "SCORER_Regla_ValoresPermitidos_Juridico = (\n",
    "    ~col('SCORER').isin(valores_permitidos)  # Asegura que \"SCORER\" contenga solo los valores permitidos\n",
    ")"
   ]
  },
  {
   "cell_type": "markdown",
   "metadata": {},
   "source": [
    "## FEC_INGBCO"
   ]
  },
  {
   "cell_type": "markdown",
   "metadata": {},
   "source": [
    "Regla 149 Alto o Bajo\n",
    " "
   ]
  },
  {
   "cell_type": "code",
   "execution_count": null,
   "metadata": {},
   "outputs": [],
   "source": [
    "from pyspark.sql.functions import lit,col, to_date \n",
    "FEC_INGBCO_Regla_FechaDespues1900_Juridico = ~(                    # Asegura que \"FEC_INGBCO\" no sea nulo\n",
    "    to_date(col('FEC_INGBCO'), 'd/M/yyyy').cast('date') > lit('1900-01-01').cast('date')                # Asegura que \"FEC_INGBCO\" sea después del 01/01/1900\n",
    ")"
   ]
  },
  {
   "cell_type": "markdown",
   "metadata": {},
   "source": [
    "Regla 150 Estándar Format DD -MM-YYYY (ejemplo: 11-12-2024) \n"
   ]
  },
  {
   "cell_type": "code",
   "execution_count": null,
   "metadata": {},
   "outputs": [],
   "source": [
    "from pyspark.sql.functions import col, datediff, to_date, regexp_extract\n",
    "# Definir una regla para validar fechas en diferentes formatos\n",
    "pattern = r'^\\d{1,2}[/-]\\d{1,2}[/-]\\d{4}$'  # Acepta formatos con uno o dos dígitos para día y mes\n",
    "FEC_INGBCO_Regla_FormatoDiaMesAnio_Juridico= (\n",
    "    col('FEC_INGBCO').isNotNull() &  # Asegura que el valor no sea nulo\n",
    "    (regexp_extract(col('FEC_INGBCO'), pattern, 0) == '')  # Valida el formato usando una expresión regular\n",
    ")"
   ]
  },
  {
   "cell_type": "markdown",
   "metadata": {},
   "source": [
    "## Campo Fecuac"
   ]
  },
  {
   "cell_type": "markdown",
   "metadata": {},
   "source": [
    "Regla 151 Estándar Format DD-MM-YYYY (ejemplo: 11-12-2024) \n"
   ]
  },
  {
   "cell_type": "code",
   "execution_count": null,
   "metadata": {},
   "outputs": [],
   "source": [
    "from pyspark.sql.functions import col, regexp_extract\n",
    "\n",
    "# Definir una regla para validar fechas en diferentes formatos\n",
    "pattern = r'^\\d{1,2}[/-]\\d{1,2}[/-]\\d{4}$'  # Acepta formatos con uno o dos dígitos para día y mes\n",
    "FECUAC_Regla_FormatoAnioMesDia= (\n",
    "    col('FECUAC').isNotNull() &  # Asegura que el valor no sea nulo\n",
    "    (regexp_extract(col('FECUAC'), pattern, 0) == '')  # Valida el formato usando una expresión regular\n",
    ")"
   ]
  },
  {
   "cell_type": "markdown",
   "metadata": {},
   "source": [
    "Regla 152 Actualización de Datos según riesgo Sarlaft\n"
   ]
  },
  {
   "cell_type": "code",
   "execution_count": null,
   "metadata": {},
   "outputs": [],
   "source": [
    "from pyspark.sql.functions import datediff, to_date, col\n",
    "\n",
    "\n",
    "FECUAC_Regla_CoherenciaSegunRiesgo =(\n",
    "    (col('FECUAC').isNull()) |  \n",
    "    (col('FECUAC_EF').isNull()) | \n",
    "     \n",
    "    (\n",
    "        ((col(\"SCORER\") == \"ALTO\") & (datediff(to_date(col('FechaCorte'), 'd/M/yyyy'), to_date(col('FECUAC'), 'd/M/yyyy')) > 365) |\n",
    "         (col(\"SCORER\") == \"ALTO\") & (datediff(to_date(col('FechaCorte'), 'd/M/yyyy'), to_date(col('FECUAC_EF'), 'd/M/yyyy')) > 365))\n",
    "        | \n",
    "        ((col(\"SCORER\") == \"BAJO\") & (datediff(to_date(col('FechaCorte'), 'd/M/yyyy'), to_date(col('FECUAC'), 'd/M/yyyy')) > (365 * 3)) |\n",
    "         (col(\"SCORER\") == \"BAJO\") & (datediff(to_date(col('FechaCorte'), 'd/M/yyyy'), to_date(col('FECUAC_EF'), 'd/M/yyyy')) > (365 * 3)))\n",
    "    )\n",
    ")"
   ]
  },
  {
   "cell_type": "markdown",
   "metadata": {},
   "source": [
    "Regla 153 la fecha de vinculación-Ingreso del asociado no debe ser mayor a la fecha de actualización en el BUC  fecuact\n"
   ]
  },
  {
   "cell_type": "code",
   "execution_count": null,
   "metadata": {},
   "outputs": [],
   "source": [
    "from pyspark.sql.functions import col, to_date\n",
    "\n",
    "# Regla para validar que \"FECUACT\" sea menor que \"FECUAC_EF\"\n",
    "FECUAC_Regla_MenorQueUltFecIng = (\n",
    "    col('FECUAC').isNotNull() &                        # Asegura que el valor de \"FECUACT\" no sea nulo\n",
    "    col('FEC_INGBCO').isNotNull() &                    # Asegura que el valor de \"FECUAC_EF\" no sea nulo\n",
    "    (to_date(col('FECUAC'), 'd/M/yyyy').cast('date') < to_date(col('FEC_INGBCO'), 'd/M/yyyy'))               # Asegura que \"FECUACT\" sea menor que \"FECUAC_EF\"\n",
    ")"
   ]
  },
  {
   "cell_type": "markdown",
   "metadata": {},
   "source": [
    "Regla 154 mayor a19640303\n"
   ]
  },
  {
   "cell_type": "code",
   "execution_count": null,
   "metadata": {},
   "outputs": [],
   "source": [
    "from pyspark.sql.functions import col, to_date, lit\n",
    "\n",
    "# Regla para la columna \"FECUACT\"\n",
    "FECUAC_Regla_MayorQue1964 = (\n",
    "    (col('FECUAC').isNotNull() | (col('FECUAC') == '')) &  # Asegura que el valor no sea nulo\n",
    "    (to_date(col('FECUAC'), 'd/M/yyyy') < lit('1964-03-03').cast('date'))  # Verifica si la fecha es mayor a '1964-03-03'\n",
    ")"
   ]
  },
  {
   "cell_type": "markdown",
   "metadata": {},
   "source": [
    "### Campo FECUAC_EF"
   ]
  },
  {
   "cell_type": "markdown",
   "metadata": {},
   "source": [
    "Rega 155 mayor a19640303\n",
    "\n"
   ]
  },
  {
   "cell_type": "code",
   "execution_count": null,
   "metadata": {},
   "outputs": [],
   "source": [
    "from pyspark.sql.functions import col, to_date, lit\n",
    "FECUAC_EF_Regla_MayorQue1964 = (\n",
    "    (col('FECUAC_EF').isNotNull() | (col('FECUAC_EF') == '')) &  # Asegura que el valor no sea nulo\n",
    "    (to_date(col('FECUAC_EF'), 'd/M/yyyy') < lit('1964-03-03').cast('date'))  # Verifica si la fecha es mayor a '1964-03-03'\n",
    ")"
   ]
  },
  {
   "cell_type": "markdown",
   "metadata": {},
   "source": [
    "Regla 156 la fecha de ingreso del banco FEC_INGBCO no debe ser mayor a la fecha de actualización de datos financieros FECUAC_EF\n"
   ]
  },
  {
   "cell_type": "code",
   "execution_count": null,
   "metadata": {},
   "outputs": [],
   "source": [
    "from pyspark.sql.functions import col, to_date\n",
    "\n",
    "FECUAC_EF_Regla_NoMayorFechaFECUACT=  (\n",
    "    to_date(col('FECUAC_EF'), 'd/M/yyyy').cast('date') < to_date(col('FEC_INGBCO'),'d/M/yyyy').cast('date')\n",
    ")"
   ]
  },
  {
   "cell_type": "markdown",
   "metadata": {},
   "source": [
    "Regla 157 Estándar Format DD -MM-YYYY (ejemplo: 11-12-2024) \n"
   ]
  },
  {
   "cell_type": "code",
   "execution_count": null,
   "metadata": {},
   "outputs": [],
   "source": [
    "from pyspark.sql.functions import col, datediff, to_date, regexp_extract\n",
    "# Definir una regla para validar fechas en diferentes formatos\n",
    "pattern = r'^\\d{1,2}[/-]\\d{1,2}[/-]\\d{4}$'  # Acepta formatos con uno o dos dígitos para día y mes\n",
    "FECUAC_EF_Regla_FormatoDiaMesAnio = (\n",
    "    col('FECUAC_EF').isNotNull() &  # Asegura que el valor no sea nulo\n",
    "    (regexp_extract(col('FECUAC_EF'), pattern, 0) == '')  # Valida el formato usando una expresión regular\n",
    ")"
   ]
  },
  {
   "cell_type": "markdown",
   "metadata": {},
   "source": [
    "## Campo NOM_PAI_REP"
   ]
  },
  {
   "cell_type": "markdown",
   "metadata": {},
   "source": [
    "Regla 158 Campo no debe estar vacío o nulo\n"
   ]
  },
  {
   "cell_type": "code",
   "execution_count": null,
   "metadata": {},
   "outputs": [],
   "source": [
    "NOM_PAI_REP_Regla_NoNuloNoVacio = (\n",
    "    col('NOM_PAI_REP').isNull() |  # Asegura que el valor no sea nulo\n",
    "    (col('NOM_PAI_REP') == '')       # Asegura que el valor no esté vacío\n",
    ")"
   ]
  },
  {
   "cell_type": "markdown",
   "metadata": {},
   "source": [
    "Regla 159 Validación de Tabla de países (hay una versión inicial en Golden Record); validar estándar ISO3166\n"
   ]
  },
  {
   "cell_type": "code",
   "execution_count": null,
   "metadata": {},
   "outputs": [],
   "source": [
    "# Ahora carga el archivo CSV en PySpark\n",
    "ruta_csv= \"/home/jovyan/code/Bancoomeva_Oficial/ListaExternaValoresComparar.csv\"\n",
    "df_csv = spark.read.csv(ruta_csv, header=True, sep=';')\n",
    "\n",
    "\n",
    "nombre_primera_columna = 'Codigo Pais Dane'\n",
    "\n",
    "\n",
    "# Seleccionar la primera columna del DataFrame por su nombre y obtener una lista de sus valores\n",
    "valores_primera_columna = [row[0] for row in df_csv.select(nombre_primera_columna).collect()]\n",
    "\n",
    "NOM_PAI_REP_Regla_ListaPaises = (\n",
    "    ~col('NOM_PAI_REP').isin(valores_primera_columna)\n",
    ")"
   ]
  },
  {
   "cell_type": "markdown",
   "metadata": {},
   "source": [
    "## Campo COD_DEP_REP"
   ]
  },
  {
   "cell_type": "markdown",
   "metadata": {},
   "source": [
    "Regla 160 Campo no debe ser vacío o nulo\n"
   ]
  },
  {
   "cell_type": "code",
   "execution_count": null,
   "metadata": {},
   "outputs": [],
   "source": [
    "COD_DEP_REP_Regla_NoNuloNoVacio = (\n",
    "    col('COD_DEP_REP').isNull() |  # Asegura que el valor no sea nulo\n",
    "    (col('COD_DEP_REP') == '')       # Asegura que el valor no esté vacío\n",
    ")"
   ]
  },
  {
   "cell_type": "markdown",
   "metadata": {},
   "source": [
    "Regla 161 \"El código de lugar de nacimiento o constitucion debe pertenecer al rango de opciones validas en parámetros // Códigos que esten dentro de la arhivo \"\"cliciudad\"\" de la Finclidat. (Códigos DANE)\"\n"
   ]
  },
  {
   "cell_type": "code",
   "execution_count": null,
   "metadata": {},
   "outputs": [],
   "source": [
    "# Ahora carga el archivo CSV en PySpark\n",
    "ruta_csv= \"/home/jovyan/code/Bancoomeva_Oficial/ListaExternaValoresComparar.csv\"\n",
    "df_csv = spark.read.csv(ruta_csv, header=True, sep=';')\n",
    "\n",
    "\n",
    "nombre_primera_columna = 'CODDEP'\n",
    "\n",
    "\n",
    "# Seleccionar la primera columna del DataFrame por su nombre y obtener una lista de sus valores\n",
    "valores_primera_columna = [row[0] for row in df_csv.select(nombre_primera_columna).collect()]\n",
    "\n",
    "COD_DEP_REP_Regla_ListaDepartamentos = (\n",
    "    ~col('COD_DEP_REP').isin(valores_primera_columna)\n",
    ")"
   ]
  },
  {
   "cell_type": "markdown",
   "metadata": {},
   "source": [
    "Regla 162 Sólo Numérico\n"
   ]
  },
  {
   "cell_type": "code",
   "execution_count": null,
   "metadata": {},
   "outputs": [],
   "source": [
    "COD_DEP_REP_Regla_SoloValoresNumericos = ~col('COD_DEP_REP').rlike('^[0-9]+$')"
   ]
  },
  {
   "cell_type": "markdown",
   "metadata": {},
   "source": [
    "Regla 163 Diferente de 0 a 1\n"
   ]
  },
  {
   "cell_type": "code",
   "execution_count": null,
   "metadata": {},
   "outputs": [],
   "source": [
    "COD_DEP_REP_Regla_DiferenteCeroUno = col('COD_DEP_REP').isin('0', '1')"
   ]
  },
  {
   "cell_type": "markdown",
   "metadata": {},
   "source": [
    "## Campo ESTGESCOM"
   ]
  },
  {
   "cell_type": "markdown",
   "metadata": {},
   "source": [
    "Regla 164 Campo no debe ser vacío o nulo\n"
   ]
  },
  {
   "cell_type": "code",
   "execution_count": null,
   "metadata": {},
   "outputs": [],
   "source": [
    "ESTGESCOM_Regla_NoNuloNoVacio_jurididico = (\n",
    "    col('ESTGESCOM').isNull() |  # Asegura que el valor no sea nulo\n",
    "    (col('ESTGESCOM') == '')       # Asegura que el valor no esté vacío\n",
    ")"
   ]
  },
  {
   "cell_type": "markdown",
   "metadata": {},
   "source": [
    "Regla 165 El valor del ESTGESCOM debe ser ACTIVO o INACTIVO\n"
   ]
  },
  {
   "cell_type": "code",
   "execution_count": null,
   "metadata": {},
   "outputs": [],
   "source": [
    "ESTGESCOM_Regla_EsActivoInactivo_Juridico = ~col('ESTGESCOM').isin('ACTIVO', 'INACTIVO')"
   ]
  },
  {
   "cell_type": "markdown",
   "metadata": {},
   "source": [
    "Regla 166 No es Numérico\n"
   ]
  },
  {
   "cell_type": "code",
   "execution_count": null,
   "metadata": {},
   "outputs": [],
   "source": [
    "ESTGESCOM_Regla_NoEsNumerico_Juridico = (col('ESTGESCOM').cast(\"float\").isNotNull())"
   ]
  },
  {
   "cell_type": "markdown",
   "metadata": {},
   "source": [
    "Regla 167 Diferente de 0 a 1\n"
   ]
  },
  {
   "cell_type": "code",
   "execution_count": null,
   "metadata": {},
   "outputs": [],
   "source": [
    "ESTGESCOM_Regla_EsDiferenteCeroUno_Juridico = (col('ESTGESCOM') == 0) | (col('ESTGESCOM') == 1)"
   ]
  },
  {
   "cell_type": "markdown",
   "metadata": {},
   "source": [
    "## Campo NOM_DEP_EXPEDICIÓN"
   ]
  },
  {
   "cell_type": "markdown",
   "metadata": {},
   "source": [
    "Regla 168"
   ]
  },
  {
   "cell_type": "code",
   "execution_count": null,
   "metadata": {},
   "outputs": [],
   "source": [
    "# Ahora carga el archivo CSV en PySpark\n",
    "ruta_csv= \"/home/jovyan/code/Bancoomeva_Oficial/ListaExternaValoresComparar.csv\"\n",
    "df_csv = spark.read.csv(ruta_csv, header=True, sep=';')\n",
    "\n",
    "\n",
    "nombre_primera_columna = 'CODDEP'\n",
    "\n",
    "\n",
    "# Seleccionar la primera columna del DataFrame por su nombre y obtener una lista de sus valores\n",
    "valores_primera_columna = [row[0] for row in df_csv.select(nombre_primera_columna).collect()]\n",
    "\n",
    "NOM_DEP_EXPEDICIÓN_Regla_ListaDepartamentos = (\n",
    "    ~col('NOM_DEP_EXPEDICIÓN').isin(valores_primera_columna)\n",
    ")"
   ]
  },
  {
   "cell_type": "markdown",
   "metadata": {},
   "source": [
    "## Campo TIPCLI"
   ]
  },
  {
   "cell_type": "markdown",
   "metadata": {},
   "source": [
    "Regla 169 Campo no debe ser vacío o nulo\n"
   ]
  },
  {
   "cell_type": "code",
   "execution_count": null,
   "metadata": {},
   "outputs": [],
   "source": [
    "TIPCLI_Regla_NoNuloNoVacio = (\n",
    "    col('TIPCLI').isNull() |  # Asegura que el valor no sea nulo\n",
    "    (col('TIPCLI') == '')       # Asegura que el valor no esté vacío\n",
    ")"
   ]
  },
  {
   "cell_type": "markdown",
   "metadata": {},
   "source": [
    "Regla 170 \"El campo solo puede tener valores de (Persona Natural \"\"2\"\", Persona Jurídica \"\"1\"\")\"\n"
   ]
  },
  {
   "cell_type": "code",
   "execution_count": null,
   "metadata": {},
   "outputs": [],
   "source": [
    "TIPCLI_Regla_PerteneceLista = (\n",
    "    ~col('TIPCLI').isin('2', '1' )\n",
    ")"
   ]
  },
  {
   "cell_type": "markdown",
   "metadata": {},
   "source": [
    "## Campo TIP_VINCLC"
   ]
  },
  {
   "cell_type": "markdown",
   "metadata": {},
   "source": [
    "Regla 171 Campo no debe ser vacío o nulo\n"
   ]
  },
  {
   "cell_type": "code",
   "execution_count": null,
   "metadata": {},
   "outputs": [],
   "source": [
    "TIP_VINCLC_Regla_NoNuloNoVacio = (\n",
    "    col('TIP_VINCLC').isNull() |  # Asegura que el valor no sea nulo\n",
    "    (col('TIP_VINCLC') == '')       # Asegura que el valor no esté vacío\n",
    ")"
   ]
  },
  {
   "cell_type": "markdown",
   "metadata": {},
   "source": [
    "Regla 172 El campo solo puede tener valores de (Solo Asociado, Solo Cliente, Mixto (Asociado-Cliente), No Cliente - No Asociado\n"
   ]
  },
  {
   "cell_type": "code",
   "execution_count": null,
   "metadata": {},
   "outputs": [],
   "source": [
    "TIP_VINCLC_Regla_PerteneceLista = (\n",
    "    ~col('TIP_VINCLC').isin('*No Cliente-No Asociado*', 'Mixto (Asociado/Cliente)', 'Solo Asociado', 'Solo Cliente')\n",
    ")"
   ]
  },
  {
   "cell_type": "markdown",
   "metadata": {},
   "source": [
    "## Campo REGIONAL\n"
   ]
  },
  {
   "cell_type": "markdown",
   "metadata": {},
   "source": [
    "Regla 173 Campo no debe ser vacío o nulo\n"
   ]
  },
  {
   "cell_type": "code",
   "execution_count": null,
   "metadata": {},
   "outputs": [],
   "source": [
    "REGIONAL_Regla_NoNuloNoVacio_Juridico = (\n",
    "    col('REGIONAL').isNull() |  # Asegura que el valor no sea nulo\n",
    "    (col('REGIONAL') == '')       # Asegura que el valor no esté vacío\n",
    ")"
   ]
  },
  {
   "cell_type": "markdown",
   "metadata": {},
   "source": [
    "Regla 174 \"El campo solo puede tener valores de ( Bogota \"\"5\"\" Cali \"\"1\"\" Eje Cafetero \"\"2\"\" Medellin \"\"3\"\" Palmira \"\"4\"\" Caribe \"\"6\"\" Negocios Dirección Nacional \"\"9\"\")\"\n"
   ]
  },
  {
   "cell_type": "code",
   "execution_count": null,
   "metadata": {},
   "outputs": [],
   "source": [
    "REGIONAL_Regla_PerteneceLista_Juridico  = (\n",
    "    ~col('REGIONAL').isin('1', '2', '3', '4', '5', '6', '9')\n",
    ")"
   ]
  },
  {
   "cell_type": "markdown",
   "metadata": {},
   "source": [
    "## Campo AGEHOMO"
   ]
  },
  {
   "cell_type": "markdown",
   "metadata": {},
   "source": [
    "Regla 175 Campo no debe ser vacío o nulo\n"
   ]
  },
  {
   "cell_type": "code",
   "execution_count": null,
   "metadata": {},
   "outputs": [],
   "source": [
    "AGEHOMO_Regla_NoNuloNoVacio_Juridico = (\n",
    "    col('AGEHOMO').isNull() |  # Asegura que el valor no sea nulo\n",
    "    (col('AGEHOMO') == '')       # Asegura que el valor no esté vacío\n",
    ")"
   ]
  },
  {
   "cell_type": "markdown",
   "metadata": {},
   "source": [
    "## Campo DESEMP_CARGO_ACTUAL"
   ]
  },
  {
   "cell_type": "markdown",
   "metadata": {},
   "source": [
    "Regla 176 Obligatorio si tiene Cargo Publico o fecha de inicio de cargo publico\n"
   ]
  },
  {
   "cell_type": "code",
   "execution_count": null,
   "metadata": {},
   "outputs": [],
   "source": [
    "from pyspark.sql.functions import col, to_date, lit\n",
    "DESEMP_CARGO_ACTUAL_Regla_ObligatorioPEPS_Juridico = (\n",
    "\n",
    "    (\n",
    "        (col('CARGO_PUBLICO') == 'S') & \n",
    "        (col('DESEMP_CARGO_ACTUAL').isNull() | (col('DESEMP_CARGO_ACTUAL') == '')) \n",
    "     ) |\n",
    "        \n",
    "    (   (col('FECINI_CARGO_PUBLICO') == 'S') & \n",
    "        (col('DESEMP_CARGO_ACTUAL').isNull() | (col('DESEMP_CARGO_ACTUAL') == '')) \n",
    "    ) \n",
    ")"
   ]
  },
  {
   "cell_type": "markdown",
   "metadata": {},
   "source": [
    "## Campo COD_DEP_CONSTITUCIÓN"
   ]
  },
  {
   "cell_type": "markdown",
   "metadata": {},
   "source": [
    "Regla 177 Campo no debe ser vacío o nulo\n"
   ]
  },
  {
   "cell_type": "code",
   "execution_count": null,
   "metadata": {},
   "outputs": [],
   "source": [
    "COD_DEP_CONSTITUCIÓN_Regla_NoVaciosNulos = (\n",
    "    col('COD_DEP_CONSTITUCIÓN').isNull() |  # Asegura que el valor no sea nulo\n",
    "    (col('COD_DEP_CONSTITUCIÓN') == '')    # Asegura que el valor no esté vacío\n",
    ")"
   ]
  },
  {
   "cell_type": "markdown",
   "metadata": {},
   "source": [
    "Regla 178 Códigos departamento parametrizados DANE\n"
   ]
  },
  {
   "cell_type": "code",
   "execution_count": null,
   "metadata": {},
   "outputs": [],
   "source": [
    "# Cargar el archivo CSV en PySpark\n",
    "ruta_csv = \"/home/jovyan/code/Bancoomeva_Oficial/ListaExternaValoresComparar.csv\"\n",
    "df_csv = spark.read.csv(ruta_csv, header=True, sep=';')\n",
    "\n",
    "# Seleccionar la primera columna del DataFrame por su nombre y obtener una lista de sus valores\n",
    "nombre_primera_columna = 'CODDEP'\n",
    "valores_primera_columna = [row[0] for row in df_csv.select(nombre_primera_columna).collect()]\n",
    "\n",
    "# Definir el filtro para el campo COD_DEP_CONSTITUCIÓN\n",
    "COD_DEP_CONSTITUCIÓN_Regla_ListaDepartamentos = (\n",
    "    ~col('COD_DEP_CONSTITUCIÓN').isin(valores_primera_columna)\n",
    ")"
   ]
  },
  {
   "cell_type": "markdown",
   "metadata": {},
   "source": [
    "## Campo NUMERO_SOCIOS"
   ]
  },
  {
   "cell_type": "markdown",
   "metadata": {},
   "source": [
    "Regla 179 Sólo Numérico\n"
   ]
  },
  {
   "cell_type": "code",
   "execution_count": null,
   "metadata": {},
   "outputs": [],
   "source": [
    "NUMERO_SOCIOS_Regla_Numerico = ~col('NUMERO_SOCIOS').cast('bigint').rlike('^[0-9]+$')"
   ]
  },
  {
   "cell_type": "markdown",
   "metadata": {},
   "source": [
    "Regla 180 Debe ser mayor a CERO, si el valor de TIPO_EMPRESA está clasificado como SI en accionistas"
   ]
  },
  {
   "cell_type": "code",
   "execution_count": null,
   "metadata": {},
   "outputs": [],
   "source": [
    "from pyspark.sql.functions import col\n",
    "\n",
    "# Lista de valores para el campo \"TIPO_EMPRESA\" que deben ser considerados\n",
    "valores_tipo_empresa_permitidos = [\n",
    "    \"Comandita Simple\",\n",
    "    \"Comandita por Acciones\",\n",
    "    \"EMPRESAR SECTOR DEL GOBIERNO\",\n",
    "    \"ESTABLECIMIENTO PUBLICO\",\n",
    "    \"LIMITADA\",\n",
    "    \"Ninguno/No Definido\",\n",
    "    \"OTRO\",\n",
    "    \"SOCIEDAD ANONIMA\",\n",
    "    \"Sociedad Anonima Simplificada\",\n",
    "    \"SOCIEDAD DE ECONOMIA MIXTA\",\n",
    "    \"SOCIEDAD PRIVADA EXTRANJERA\",\n",
    "    \"SOCIEDAD PRIVADA NACIONAL\",\n",
    "    \"Unipersonal\"\n",
    "]\n",
    "\n",
    "# Crear el filtro\n",
    "NUMERO_SOCIOS_Regla_ValoresTipoEmpresaAccionista = (\n",
    "    (col(\"NUMERO_SOCIOS\").cast(\"bigint\").isNull()) |  # Verifica si el valor no es un número\n",
    "    (col(\"NUMERO_SOCIOS\").cast(\"bigint\") == 0)       # Verifica si el valor es cero\n",
    ") & (\n",
    "    col(\"TIPO_EMPRESA\").isin(valores_tipo_empresa_permitidos)  # Verifica si el tipo de empresa está en la lista permitida\n",
    ")\n"
   ]
  },
  {
   "cell_type": "markdown",
   "metadata": {},
   "source": [
    "## Campo IDENTIFICACION_SOCIO1"
   ]
  },
  {
   "cell_type": "markdown",
   "metadata": {},
   "source": [
    "Regla 181 Campo no debe ser vacío o nulo, si el valor de TIPO_EMPRESA esta clasificado como SI en accionistas\n"
   ]
  },
  {
   "cell_type": "code",
   "execution_count": null,
   "metadata": {},
   "outputs": [],
   "source": [
    "from pyspark.sql.functions import col\n",
    "\n",
    "# Lista de valores para el campo \"TIPO_EMPRESA\" que deben ser considerados\n",
    "valores_tipo_empresa_permitidos = [\n",
    "    \"Comandita Simple\",\n",
    "    \"Comandita por Acciones\",\n",
    "    \"EMPRESAR SECTOR DEL GOBIERNO\",\n",
    "    \"ESTABLECIMIENTO PUBLICO\",\n",
    "    \"LIMITADA\",\n",
    "    \"Ninguno/No Definido\",\n",
    "    \"OTRO\",\n",
    "    \"SOCIEDAD ANONIMA\",\n",
    "    \"Sociedad Anonima Simplificada\",\n",
    "    \"SOCIEDAD DE ECONOMIA MIXTA\",\n",
    "    \"SOCIEDAD PRIVADA EXTRANJERA\",\n",
    "    \"SOCIEDAD PRIVADA NACIONAL\",\n",
    "    \"Unipersonal\"\n",
    "]\n",
    "\n",
    "# Crear el filtro\n",
    "IDENTIFICACION_SOCIO1_Regla_NoVacioNulo = (\n",
    "    (col(\"TIPO_EMPRESA\").isin(valores_tipo_empresa_permitidos)) &  # Verifica si el tipo de empresa está en la lista permitida\n",
    "    ((col(\"IDENTIFICACION_SOCIO1\").isNull()) | (col(\"IDENTIFICACION_SOCIO1\") == \"\"))  # Verifica si la identificación del socio 1 es nula o vacía\n",
    ")\n"
   ]
  },
  {
   "cell_type": "markdown",
   "metadata": {},
   "source": [
    "Regla 182 Solo debe tener los códigos de tipo de documento TI, CC, CE, Pasaporte, NIT\n"
   ]
  },
  {
   "cell_type": "code",
   "execution_count": null,
   "metadata": {},
   "outputs": [],
   "source": [
    "# Lista de tipos de documento válidos\n",
    "tipos_documento_validos = [\"4\", \"1\", \"2\", \"5\", \"3\"]\n",
    "\n",
    "# Crear el filtro\n",
    "IDENTIFICACION_SOCIO1_Regla_TiposDeDocumentoValidos = (\n",
    "    ~col(\"TIPDOC\").isin(tipos_documento_validos)\n",
    ")"
   ]
  },
  {
   "cell_type": "markdown",
   "metadata": {},
   "source": [
    "Regla 183 Valida que el número de documento y tipo de documento estén completos en los dos campos, si uno de los dos campos hace falta se etiqueta como NO VALIDO.\n"
   ]
  },
  {
   "cell_type": "code",
   "execution_count": null,
   "metadata": {},
   "outputs": [],
   "source": [
    "# Crear el filtro\n",
    "# IDENTIFICACION_SOCIO1_Regla_campos_incompletos = (\n",
    "#    (col(\"IDENTIFICACION_SOCIO1\").isNull() | (col(\"IDENTIFICACION_SOCIO1\") == \"\")) |  # Verifica si el campo IDENTIFICACION_SOCIO1 es nulo o vacío\n",
    "#    (col(\"TIPDOC\").isNull() | (col(\"TIPDOC\") == \"\"))  # Verifica si el campo TIPDOC es nulo o vacío\n",
    "# )"
   ]
  },
  {
   "cell_type": "markdown",
   "metadata": {},
   "source": [
    "Regla 184 Si el tipo de documento es Cedula de ciudadanía se valida que el número de documento sea de 6, 7 u 8 dígitos y puede comenzar con cualquier valor numérico\n"
   ]
  },
  {
   "cell_type": "code",
   "execution_count": null,
   "metadata": {},
   "outputs": [],
   "source": [
    "from pyspark.sql.functions import col\n",
    "\n",
    "# Regla para validar el campo IDENTIFICACION_SOCIO1 si TIPDOC es igual a \"1\" pero el número de documento no tiene 6, 7, 8 u 10 dígitos\n",
    "IDENTIFICACION_SOCIO1_Regla_Tipdoc_1_NoTieneDigitosAdecuados = (\n",
    "    (col('TIPDOC') == \"1\") &  # Verifica si TIPDOC es igual a \"1\"\n",
    "    (\n",
    "        (~col('IDENTIFICACION_SOCIO1').rlike('^\\d{6}$')) |  # Verifica que la IDENTIFICACION_SOCIO1 no tenga 6 dígitos\n",
    "        (~col('IDENTIFICACION_SOCIO1').rlike('^\\d{7}$')) |  # Verifica que la IDENTIFICACION_SOCIO1 no tenga 7 dígitos\n",
    "        (~col('IDENTIFICACION_SOCIO1').rlike('^\\d{8}$')) |  # Verifica que la IDENTIFICACION_SOCIO1 no tenga 8 dígitos\n",
    "        (~col('IDENTIFICACION_SOCIO1').rlike('^\\d{10}$'))    # Verifica que la IDENTIFICACION_SOCIO1 no tenga 10 dígitos\n",
    "    )\n",
    ")"
   ]
  },
  {
   "cell_type": "markdown",
   "metadata": {},
   "source": [
    "Regla 185 Si el tipo de documento es Cedula de ciudadanía se valida que el número de documento sea de 10 dígitos siempre y cuando éste comience por el digito 1.\n"
   ]
  },
  {
   "cell_type": "code",
   "execution_count": null,
   "metadata": {},
   "outputs": [],
   "source": [
    "# Filtro para seleccionar los registros con TIPDOC \"1\", el primer valor del campo IDENTIFICACION_SOCIO1 es '1', pero no tiene 6, 7, 8 u 10 dígitos\n",
    "IDENTIFICACION_SOCIO1_Regla_Tipdoc_1_PrimerDigito1_NoTieneDigitosAdecuados = (\n",
    "    (col('TIPDOC') == '1') &  # Verifica si TIPDOC es igual a \"1\"\n",
    "    col('IDENTIFICACION_SOCIO1').rlike('^1') &  # Verifica si el primer valor del IDENTIFICACION_SOCIO1 es '1'\n",
    "    (~col('IDENTIFICACION_SOCIO1').rlike('^\\d{6}$') &  # Verifica que el IDENTIFICACION_SOCIO1 no tenga 6 dígitos\n",
    "     ~col('IDENTIFICACION_SOCIO1').rlike('^\\d{7}$') &  # Verifica que el IDENTIFICACION_SOCIO1 no tenga 7 dígitos\n",
    "     ~col('IDENTIFICACION_SOCIO1').rlike('^\\d{8}$') &  # Verifica que el IDENTIFICACION_SOCIO1 no tenga 8 dígitos\n",
    "     ~col('IDENTIFICACION_SOCIO1').rlike('^\\d{10}$')  # Verifica que el IDENTIFICACION_SOCIO1 no tenga 10 dígitos\n",
    "    )\n",
    ")"
   ]
  },
  {
   "cell_type": "markdown",
   "metadata": {},
   "source": [
    "Regla 186 Si Tipo de Identificacion es 'CE', el dato debe contener (6) caracteres alfanúmericos.\n"
   ]
  },
  {
   "cell_type": "code",
   "execution_count": null,
   "metadata": {},
   "outputs": [],
   "source": [
    "# Filtro para seleccionar los registros con TIPDOC \"2\" y el campo IDENTIFICACION_SOCIO1 no contiene 6 caracteres alfanuméricos\n",
    "IDENTIFICACION_SOCIO1_Regla_Tipdoc_2_No6Caracteres = (\n",
    "    (col('TIPDOC') == '2') &  # Verifica si TIPDOC es igual a \"2\"\n",
    "    ~(length('IDENTIFICACION_SOCIO1') == 6)  # Verifica si la longitud del campo IDENTIFICACION_SOCIO1 no es 6\n",
    ")"
   ]
  },
  {
   "cell_type": "markdown",
   "metadata": {},
   "source": [
    "Regla 187 Si el tipo de documento es cedula de Extranjería, puede tener la letra E al inicio, seguido de un digito de 1 a 9 y continuar con dígitos de 0 a 9 con una longitud total de 5, 6 o 7 dígitos, para un total máximo de 9 caracteres\n"
   ]
  },
  {
   "cell_type": "code",
   "execution_count": null,
   "metadata": {},
   "outputs": [],
   "source": [
    "from pyspark.sql.functions import length, col\n",
    "\n",
    "# Filtro para seleccionar los registros con TIPDOC \"2\" y el campo IDENTIFICACION_SOCIO1 no cumple con el patrón o longitud especificada\n",
    "IDENTIFICACION_SOCIO1_Regla_Tipdoc_CedulaExtranjeria_NoPatron = (\n",
    "    (col('TIPDOC') == '2') &  # Verifica si TIPDOC es igual a \"Cédula de Extranjería\"\n",
    "    ~col('IDENTIFICACION_SOCIO1').rlike('^[A-Za-z0-9][1-9][0-9]{4,6}$') |  # Verifica el patrón del IDENTIFICACION_SOCIO1 modificado\n",
    "    ~(length(col('IDENTIFICACION_SOCIO1')) >= 7) | ~(length(col('IDENTIFICACION_SOCIO1')) <= 9)  # Regla para longitud total\n",
    ")"
   ]
  },
  {
   "cell_type": "markdown",
   "metadata": {},
   "source": [
    "Regla 188 Si el tipo de documento es Pasaporte el número de documento puede tener o no dos letras al inicio y continuar con dígitos de 0 a 9 con una longitud total de 6, 7, 8, 9 o 10 dígitos\n"
   ]
  },
  {
   "cell_type": "code",
   "execution_count": null,
   "metadata": {},
   "outputs": [],
   "source": [
    "# Filtro para seleccionar los registros con TIPDOC \"5\" y el campo IDENTIFICACION_SOCIO1 no cumple con la longitud especificada\n",
    "IDENTIFICACION_SOCIO1_Regla_Longitud_PA_NoCumpleCondicion = (\n",
    "    (col('TIPDOC') == '5') &  # Verifica si TIPDOC es igual a \"PA\"\n",
    "    ~(col('IDENTIFICACION_SOCIO1').rlike('^[0-9A-Za-z]{6,16}$'))  # IDENTIFICACION_SOCIO1 contiene entre 6 y 16 caracteres alfanuméricos\n",
    ")\n"
   ]
  },
  {
   "cell_type": "markdown",
   "metadata": {},
   "source": [
    "Regla 189 Si el tipo de documento es NIT el número de documento debe comenzar por 8 o 9, seguido de 8 dígitos que pueden estar entre 0,9 y terminar con el digito de verificación.\n"
   ]
  },
  {
   "cell_type": "code",
   "execution_count": null,
   "metadata": {},
   "outputs": [],
   "source": [
    "from pyspark.sql.functions import col\n",
    "\n",
    "# Filtro para registros donde TIPDOC es igual a \"NIT\" pero el campo IDENTIFICACION_SOCIO1 no sigue el patrón específico\n",
    "IDENTIFICACION_SOCIO1_Regla_Tipdoc_NIT_NoCumplePatron = (\n",
    "    (col('TIPDOC') == '3') &  # Verifica si TIPDOC es igual a \"NIT\"\n",
    "    ~(col('IDENTIFICACION_SOCIO1').rlike('^[89]\\\\d{8}'))  # Verificación del patrón específico del IDENTIFICACION_SOCIO1 para NIT\n",
    ")\n"
   ]
  },
  {
   "cell_type": "markdown",
   "metadata": {},
   "source": [
    "Regla 190 Campo debe ser único en la combinación tipo de identificación + nitcli\n"
   ]
  },
  {
   "cell_type": "code",
   "execution_count": null,
   "metadata": {},
   "outputs": [],
   "source": [
    "from pyspark.sql import functions as F\n",
    "from pyspark.sql import DataFrame\n",
    "from pyspark.sql.functions import col\n",
    "\n",
    "def filtro_registros_duplicados_identificacion_tipdoc(df_spark: DataFrame) -> 'Column':\n",
    "    # Cálculo de registros con duplicados en la combinación de 'IDENTIFICACION_SOCIO1' y 'TIPDOC'\n",
    "    identificacion_Regla_unicidadCombinacionIdentificacionMasTipo = (\n",
    "        df_spark\n",
    "        .groupBy('IDENTIFICACION_SOCIO1', 'TIPDOC','FechaCorte')\n",
    "        .agg(F.count('*').alias('conteo'))\n",
    "        .filter(\"conteo > 1\")\n",
    "    )\n",
    "\n",
    "    # Obtener una lista de 'IDENTIFICACION_SOCIO1' que tienen duplicados en la combinación de 'IDENTIFICACION_SOCIO1' y 'TIPDOC'\n",
    "    identificaciones_con_duplicados = identificacion_Regla_unicidadCombinacionIdentificacionMasTipo.select('IDENTIFICACION_SOCIO1').collect()\n",
    "\n",
    "    # Convertir la lista de 'IDENTIFICACION_SOCIO1' en una lista de valores para filtrar\n",
    "    lista_identificaciones_con_duplicados = [row['IDENTIFICACION_SOCIO1'] for row in identificaciones_con_duplicados]\n",
    "\n",
    "    # Aplicar el filtro para seleccionar aquellos registros cuya 'IDENTIFICACION_SOCIO1' está en la lista de duplicados\n",
    "    filtro_unicidad = col('IDENTIFICACION_SOCIO1').isin(lista_identificaciones_con_duplicados)\n",
    "\n",
    "    return filtro_unicidad\n",
    "\n",
    "# Llamar a la función para obtener el filtro\n",
    "IDENTIFICACION_SOCIO1_Regla_unicidadCombinacionIdentificacionMasTipo = filtro_registros_duplicados_identificacion_tipdoc(df_spark)\n"
   ]
  },
  {
   "cell_type": "markdown",
   "metadata": {},
   "source": [
    "## Campo TIPO_EMPRESA "
   ]
  },
  {
   "cell_type": "markdown",
   "metadata": {},
   "source": [
    "Regla 191 El valor del campo debe corresponder al catálogo de datos TIPO_EMPRESAS"
   ]
  },
  {
   "cell_type": "code",
   "execution_count": null,
   "metadata": {},
   "outputs": [],
   "source": [
    "from pyspark.sql.functions import col\n",
    "\n",
    "# Lista de valores permitidos para el campo TIPO_EMPRESA\n",
    "valores_permitidos_tipo_empresa = [\n",
    "    \"ASOCIACION FONDO EMPLEADOS O GREMIAL\",\n",
    "    \"Comandita Simple\",\n",
    "    \"Comandito por Acciones\",\n",
    "    \"De Hecho\",\n",
    "    \"EMPRESAR SECTOR DEL GOBIERNO\",\n",
    "    \"ENTIDAD COOPERATIVA\",\n",
    "    \"ENTIDAD DEL ESTADO\",\n",
    "    \"ENTIDAD SIN ANIMO DE LUCRO\",\n",
    "    \"ESTABLECIMIENTO PUBLICO\",\n",
    "    \"LIMITADA\",\n",
    "    \"Ninguno/No Definido\",\n",
    "    \"OTRO\",\n",
    "    \"SOCIEDAD ANONIMA\",\n",
    "    \"Sociedad Anonima Simplificada\",\n",
    "    \"SOCIEDAD DE ECONOMIA MIXTA\",\n",
    "    \"SOCIEDAD PRIVADA EXTRANJERA\",\n",
    "    \"SOCIEDAD PRIVADA NACIONAL\",\n",
    "    \"Union Temporal Consorcio\",\n",
    "    \"Unipersonal\"\n",
    "]\n",
    "\n",
    "# Crear el filtro para seleccionar los registros que no están en la lista de valores permitidos para TIPO_EMPRESA\n",
    "TIPO_EMPRESA_Regla_valoresPermitidos = ~col(\"TIPO_EMPRESA\").isin(valores_permitidos_tipo_empresa)\n"
   ]
  },
  {
   "cell_type": "markdown",
   "metadata": {},
   "source": [
    "## Campo NOMBRE_SOCIO1"
   ]
  },
  {
   "cell_type": "markdown",
   "metadata": {},
   "source": [
    "Regla 386 Primer nombre y primer apellido deben ser obligatorios. Segundo nombre y segundo apellido pueden ser nulos."
   ]
  },
  {
   "cell_type": "code",
   "execution_count": null,
   "metadata": {},
   "outputs": [],
   "source": [
    "NOMBRE_SOCIO1_Regla_PrimerNombre_PrimerApellido = size(split(col('NOMBRE_SOCIO1'), ' ')) < 2"
   ]
  },
  {
   "cell_type": "markdown",
   "metadata": {},
   "source": [
    "Regla 387  Campo no debe contener números (el dato contenga caracteres alfabeticos)"
   ]
  },
  {
   "cell_type": "code",
   "execution_count": null,
   "metadata": {},
   "outputs": [],
   "source": [
    "NOMBRE_SOCIO1_Regla_NoNumeros = col('NOMBRE_SOCIO1').rlike(r'\\d')"
   ]
  },
  {
   "cell_type": "markdown",
   "metadata": {},
   "source": [
    "Regla 388 Campo no debe contener caracteres especiales (a excepción de la Ñ)"
   ]
  },
  {
   "cell_type": "code",
   "execution_count": null,
   "metadata": {},
   "outputs": [],
   "source": [
    "NOMBRE_SOCIO1_Regla_NoCaracteresEspeciales = col('NOMBRE_SOCIO1').rlike(r'[^a-zA-ZñÑ\\s]')"
   ]
  },
  {
   "cell_type": "markdown",
   "metadata": {},
   "source": [
    "Regla 389 Validación de espacios entre segmento de caracteres(palabras)"
   ]
  },
  {
   "cell_type": "code",
   "execution_count": null,
   "metadata": {},
   "outputs": [],
   "source": [
    "NOMBRE_SOCIO1_Regla_AlMenosUnEspacio = (\n",
    "    ~col('NOMBRE_SOCIO1').rlike(r'\\s')  # Verifica si hay al menos un espacio en el campo\n",
    ")"
   ]
  },
  {
   "cell_type": "markdown",
   "metadata": {},
   "source": [
    "Regla 390 Que no exista solo un punto (.), coma (,), asteriscos (*)\n"
   ]
  },
  {
   "cell_type": "code",
   "execution_count": null,
   "metadata": {},
   "outputs": [],
   "source": [
    "NOMBRE_SOCIO1_Regla_NoPuntosComasAsteriscos = col('NOMBRE_SOCIO1').rlike(r'[.,*]')"
   ]
  },
  {
   "cell_type": "markdown",
   "metadata": {},
   "source": [
    "Regla 391 No debe contener sucesion del mismo carácter mas de 3 veces (XXXX, AAAAAA,etc.)"
   ]
  },
  {
   "cell_type": "code",
   "execution_count": null,
   "metadata": {},
   "outputs": [],
   "source": [
    "NOMBRE_SOCIO1_Regla_NoSecuenciaRepetida = col('NOMBRE_SOCIO1').rlike(r'(.)\\1{3,}')"
   ]
  },
  {
   "cell_type": "markdown",
   "metadata": {},
   "source": [
    "Regla 391  El campo no debe contener  una sola letra minúscula o mayúscula\n"
   ]
  },
  {
   "cell_type": "code",
   "execution_count": null,
   "metadata": {},
   "outputs": [],
   "source": [
    "NOMBRE_SOCIO1_Regla_NoUnaSolaLetra = ~col('NOMBRE_SOCIO1').rlike(r'^(?![a-zA-Z]$).*$')"
   ]
  },
  {
   "cell_type": "markdown",
   "metadata": {},
   "source": [
    "Regla 392 El campo no debe tener con silabas compuestas por 2 letras, es decir, dos letras combinadas o repetidas de cualquier forma en minúscula o mayúscula\n"
   ]
  },
  {
   "cell_type": "code",
   "execution_count": null,
   "metadata": {},
   "outputs": [],
   "source": [
    "NOMBRE_SOCIO1_Regla_NoSilabasDosLetras = col('NOMBRE_SOCIO1').rlike(r'\\b([a-zA-Z])\\1\\b')"
   ]
  },
  {
   "cell_type": "markdown",
   "metadata": {},
   "source": [
    "## Campo TOT_PTRMNOB"
   ]
  },
  {
   "cell_type": "markdown",
   "metadata": {},
   "source": [
    "Regla No Debe contener ceros"
   ]
  },
  {
   "cell_type": "code",
   "execution_count": null,
   "metadata": {},
   "outputs": [],
   "source": [
    "TOT_PTRMNOB_Regla_Cero = (\n",
    "    col('TOT_GASTOSB').isin(0)  # Verifica que \"TOT_GASTOSB\" sea 0\n",
    ")"
   ]
  },
  {
   "cell_type": "markdown",
   "metadata": {},
   "source": [
    "Regla 393 El campo debe ser numérico\n"
   ]
  },
  {
   "cell_type": "code",
   "execution_count": null,
   "metadata": {},
   "outputs": [],
   "source": [
    "TOT_PTRMNOB_Regla_SerNumerico =  (\n",
    "    ~col('TOT_PTRMNOB').rlike('^[0-9]+([,][0-9]+)?([Ee][+-]?[0-9]+)?$')\n",
    ")"
   ]
  },
  {
   "cell_type": "markdown",
   "metadata": {},
   "source": [
    "Regla 394 No deben estar en 0 (cero), nulo, 1 (uno)\n"
   ]
  },
  {
   "cell_type": "code",
   "execution_count": null,
   "metadata": {},
   "outputs": [],
   "source": [
    "TOT_PTRMNOB_Regla_NoUnoNuloVacio = (\n",
    "    col('TOT_PTRMNOB').isNull() |               # Verifica que \"TOT_PTRMNOB\" no sea nulo\n",
    "    (col('TOT_PTRMNOB') == '') |                  # Verifica que \"TOT_PTRMNOB\" no esté vacío                   # Verifica que \"TOT_PTRMNOB\" no sea igual a 0\n",
    "    (col('TOT_PTRMNOB') == 1)                      # Verifica que \"TOT_PTRMNOB\" no sea igual a 1\n",
    ")"
   ]
  },
  {
   "cell_type": "markdown",
   "metadata": {},
   "source": [
    "Regla 395 No deben estar  < 10% SMMLV, es decir que no cuentan con ningún egreso\n"
   ]
  },
  {
   "cell_type": "code",
   "execution_count": null,
   "metadata": {},
   "outputs": [],
   "source": [
    "# Valor del Salario Mínimo Mensual Legal Vigente (SMMLV)\n",
    "#SMMLV = 1160000  # Por ejemplo, el SMMLV en Colombia es 1.160.000 pesos\n",
    "\n",
    "# Calcular el 10% del SMMLV\n",
    "limite_egreso = 0.1  # 10% del SMMLV\n",
    "\n",
    "# Regla para validar que \"TOT_PTRMNOB\" no esté por debajo del 10% del SMMLV\n",
    "TOT_PTRMNOB_Regla_NoMenorQueCienMil = (\n",
    "    col('TOT_PTRMNOB') <= limite_egreso  # Verifica que el valor sea mayor o igual al 10% del SMMLV\n",
    ")"
   ]
  },
  {
   "cell_type": "markdown",
   "metadata": {},
   "source": [
    "## Campo CAP_SOCIALB"
   ]
  },
  {
   "cell_type": "markdown",
   "metadata": {},
   "source": [
    "Regla 396 El campo debe ser numérico"
   ]
  },
  {
   "cell_type": "code",
   "execution_count": null,
   "metadata": {},
   "outputs": [],
   "source": [
    "CAP_SOCIALB_Regla_SerNumerico =  (\n",
    "    ~col('CAP_SOCIALB').rlike('^[0-9]+([,][0-9]+)?([Ee][+-]?[0-9]+)?$')\n",
    ")"
   ]
  },
  {
   "cell_type": "markdown",
   "metadata": {},
   "source": [
    "Regla No cero"
   ]
  },
  {
   "cell_type": "code",
   "execution_count": null,
   "metadata": {},
   "outputs": [],
   "source": [
    "CAP_SOCIALB_Regla_Cero = (\n",
    "    col('CAP_SOCIALB').isin(0)  # Verifica que \"TOT_GASTOSB\" sea 0\n",
    ")"
   ]
  },
  {
   "cell_type": "markdown",
   "metadata": {},
   "source": [
    "Regla 397 No deben estar en 0 (cero), nulo, 1 (uno)"
   ]
  },
  {
   "cell_type": "code",
   "execution_count": null,
   "metadata": {},
   "outputs": [],
   "source": [
    "CAP_SOCIALB_Regla_NoUnoNuloVacio = (\n",
    "    col('CAP_SOCIALB').isNull() |               # Verifica que \"CAP_SOCIALB\" no sea nulo\n",
    "    (col('CAP_SOCIALB') == '') |                  # Verifica que \"CAP_SOCIALB\" no esté vacío                   # Verifica que \"CAP_SOCIALB\" no sea igual a 0\n",
    "    (col('CAP_SOCIALB') == 1)                      # Verifica que \"CAP_SOCIALB\" no sea igual a 1\n",
    ")"
   ]
  },
  {
   "cell_type": "markdown",
   "metadata": {},
   "source": [
    "Regla 398 No deben estar  < 10% SMMLV, es decir que no cuentan con ningún egreso"
   ]
  },
  {
   "cell_type": "code",
   "execution_count": null,
   "metadata": {},
   "outputs": [],
   "source": [
    "# Valor del Salario Mínimo Mensual Legal Vigente (SMMLV)\n",
    "#SMMLV = 1160000  # Por ejemplo, el SMMLV en Colombia es 1.160.000 pesos\n",
    "\n",
    "# Calcular el 10% del SMMLV\n",
    "limite_egreso = 0.1  # 10% del SMMLV\n",
    "\n",
    "# Regla para validar que \"CAP_SOCIALB\" no esté por debajo del 10% del SMMLV\n",
    "CAP_SOCIALB_Regla_NoMenorQueLimiteCienMil = (\n",
    "    col('CAP_SOCIALB') <= limite_egreso  # Verifica que el valor sea mayor o igual al 10% del SMMLV\n",
    ")"
   ]
  },
  {
   "cell_type": "markdown",
   "metadata": {},
   "source": [
    "## Campo INGRESOS_MENSUALES"
   ]
  },
  {
   "cell_type": "markdown",
   "metadata": {},
   "source": [
    "Regla 399 El campo debe ser numérico"
   ]
  },
  {
   "cell_type": "code",
   "execution_count": null,
   "metadata": {},
   "outputs": [],
   "source": [
    "INGRESOS_MENSUALES_Regla_SerNumerico =  (\n",
    "    ~col('INGRESOS_MENSUALES').rlike('^[0-9]+([,][0-9]+)?([Ee][+-]?[0-9]+)?$')\n",
    ")"
   ]
  },
  {
   "cell_type": "markdown",
   "metadata": {},
   "source": [
    "Regla No ceros"
   ]
  },
  {
   "cell_type": "code",
   "execution_count": null,
   "metadata": {},
   "outputs": [],
   "source": [
    "INGRESOS_MENSUALES_Regla_Cero = (\n",
    "    col('INGRESOS_MENSUALES').isin(0)  # Verifica que \"TOT_GASTOSB\" sea 0\n",
    ")"
   ]
  },
  {
   "cell_type": "markdown",
   "metadata": {},
   "source": [
    "Regla 400 No deben estar en 0 (cero), nulo, 1 (uno)"
   ]
  },
  {
   "cell_type": "code",
   "execution_count": null,
   "metadata": {},
   "outputs": [],
   "source": [
    "# Regla para validar que \"INGRESOS_MENSUALES\" no sea 0, 1, nulo o vacío\n",
    "INGRESOS_MENSUALES_Regla_NoUnoNuloVacio = (\n",
    "    col('INGRESOS_MENSUALES').isNull() |               # Verifica que \"INGRESOS_MENSUALES\" no sea nulo\n",
    "    (col('INGRESOS_MENSUALES') == '') |                  # Verifica que \"INGRESOS_MENSUALES\" no esté vacío                   # Verifica que \"INGRESOS_MENSUALES\" no sea igual a 0\n",
    "    (col('INGRESOS_MENSUALES') == 1)                      # Verifica que \"INGRESOS_MENSUALES\" no sea igual a 1\n",
    ")"
   ]
  },
  {
   "cell_type": "markdown",
   "metadata": {},
   "source": [
    "Regla 401 No deben estar  < 10% SMMLV, es decir que no cuentan con ningún egreso"
   ]
  },
  {
   "cell_type": "code",
   "execution_count": null,
   "metadata": {},
   "outputs": [],
   "source": [
    "# Valor del Salario Mínimo Mensual Legal Vigente (SMMLV)\n",
    "#SMMLV = 1160000  # Por ejemplo, el SMMLV en Colombia es 1.160.000 pesos\n",
    "\n",
    "# Calcular el 10% del SMMLV\n",
    "limite_egreso =  0.1  # 10% del SMMLV\n",
    "\n",
    "# Regla para validar que \"INGRESOS_MENSUALES\" no esté por debajo del 10% del SMMLV\n",
    "INGRESOS_MENSUALES_Regla_NoMenorQueCienMil = (\n",
    "    col('INGRESOS_MENSUALES') <= limite_egreso  # Verifica que el valor sea mayor o igual al 10% del SMMLV\n",
    ")"
   ]
  },
  {
   "cell_type": "markdown",
   "metadata": {},
   "source": [
    "## Campo EGRESOS_MENSUALES"
   ]
  },
  {
   "cell_type": "markdown",
   "metadata": {},
   "source": [
    "Regla 402 El campo debe ser numérico\n"
   ]
  },
  {
   "cell_type": "code",
   "execution_count": null,
   "metadata": {},
   "outputs": [],
   "source": [
    "EGRESOS_MENSUALES_Regla_SerNumerico =  (\n",
    "    ~col('EGRESOS_MENSUALES').rlike('^[0-9]+([,][0-9]+)?([Ee][+-]?[0-9]+)?$')\n",
    ")"
   ]
  },
  {
   "cell_type": "markdown",
   "metadata": {},
   "source": [
    "Regla No Ceros"
   ]
  },
  {
   "cell_type": "code",
   "execution_count": null,
   "metadata": {},
   "outputs": [],
   "source": [
    "EGRESOS_MENSUALES_Regla_Cero = (\n",
    "    col('EGRESOS_MENSUALES').isin(0)  # Verifica que \"TOT_GASTOSB\" sea 0\n",
    ")"
   ]
  },
  {
   "cell_type": "markdown",
   "metadata": {},
   "source": [
    "Regla 403 No deben estar en 0 (cero), nulo, 1 (uno)"
   ]
  },
  {
   "cell_type": "code",
   "execution_count": null,
   "metadata": {},
   "outputs": [],
   "source": [
    "EGRESOS_MENSUALES_Regla_NoUnoNuloVacio = (\n",
    "    col('EGRESOS_MENSUALES').isNull() |               # Verifica que \"EGRESOS_MENSUALES\" no sea nulo\n",
    "    (col('EGRESOS_MENSUALES') == '') |                  # Verifica que \"EGRESOS_MENSUALES\" no esté vacío                   # Verifica que \"EGRESOS_MENSUALES\" no sea igual a 0\n",
    "    (col('EGRESOS_MENSUALES') == 1)                      # Verifica que \"EGRESOS_MENSUALES\" no sea igual a 1\n",
    ")"
   ]
  },
  {
   "cell_type": "markdown",
   "metadata": {},
   "source": [
    "Regla 404 No deben estar  < 10% SMMLV, es decir que no cuentan con ningún egreso"
   ]
  },
  {
   "cell_type": "code",
   "execution_count": null,
   "metadata": {},
   "outputs": [],
   "source": [
    "#SMMLV = 1160000  # Por ejemplo, el SMMLV en Colombia es 1.160.000 pesos\n",
    "\n",
    "# Calcular el 10% del SMMLV\n",
    "limite_egreso =  0.1  # 10% del SMMLV\n",
    "\n",
    "# Regla para validar que \"EGRESOS_MENSUALES\" no esté por debajo del 10% del SMMLV\n",
    "EGRESOS_MENSUALES_Regla_NoMenorQueCienMil = (\n",
    "    col('EGRESOS_MENSUALES') <= limite_egreso  # Verifica que el valor sea mayor o igual al 10% del SMMLV\n",
    ")"
   ]
  },
  {
   "cell_type": "markdown",
   "metadata": {},
   "source": [
    "## Campo MONTO_ME"
   ]
  },
  {
   "cell_type": "markdown",
   "metadata": {},
   "source": [
    "Regla 405 El campo debe ser numérico si MARCA SI en MONEDA EXTRANJERA"
   ]
  },
  {
   "cell_type": "code",
   "execution_count": null,
   "metadata": {},
   "outputs": [],
   "source": [
    "\n",
    "\n",
    "MONTO_ME_Regla_numericoSiMonedaExtranjera = (\n",
    "\n",
    "    (col('REALIZA_OPERACIONES_ME') == 'S') & \n",
    "                                        \n",
    "    (~col('MONTO_ME').rlike('^[0-9]+([,][0-9]+)?([Ee][+-]?[0-9]+)?$'))  \n",
    "          \n",
    ")"
   ]
  },
  {
   "cell_type": "markdown",
   "metadata": {},
   "source": [
    "Regla 406 No deben estar en 0 (cero), nulo, 1 (uno) si MARCA SI en MONEDA EXTRANJERA"
   ]
  },
  {
   "cell_type": "code",
   "execution_count": null,
   "metadata": {},
   "outputs": [],
   "source": [
    "MONTO_ME_Regla_numericoCeroUnoNulo = (\n",
    "    (col('REALIZA_OPERACIONES_ME') == 'S') &\n",
    "    (\n",
    "        (col('MONTO_ME').isNull()) | \n",
    "        (col('MONTO_ME') == 0) | \n",
    "        (col('MONTO_ME') == 1) |\n",
    "        (col('MONTO_ME') == '')\n",
    "    )\n",
    ")"
   ]
  },
  {
   "cell_type": "markdown",
   "metadata": {},
   "source": [
    "## Campo Posee_Cuentas_Ext"
   ]
  },
  {
   "cell_type": "markdown",
   "metadata": {},
   "source": [
    "Regla 407 Debe permitir solo el valor N o S"
   ]
  },
  {
   "cell_type": "code",
   "execution_count": null,
   "metadata": {},
   "outputs": [],
   "source": [
    "Posee_Cuentas_Ext_Regla_ValoresPermitidos = (\n",
    "    ~col('Posee_Cuentas_Ext').isin('S', 'N')  # Verifica si el valor está en la lista especificada\n",
    ")"
   ]
  },
  {
   "cell_type": "markdown",
   "metadata": {},
   "source": [
    "Regla 408 El campo no puede ser vacio"
   ]
  },
  {
   "cell_type": "code",
   "execution_count": null,
   "metadata": {},
   "outputs": [],
   "source": [
    "Posee_Cuentas_Ext_Regla_NoNuloNoVacio = (\n",
    "    col('Posee_Cuentas_Ext').isNull() |  # Verifica que \"Posee_Cuentas_Ext\" no sea nulo\n",
    "    (col('Posee_Cuentas_Ext') == '')       # Verifica que \"Posee_Cuentas_Ext\" no esté vacío\n",
    ")"
   ]
  },
  {
   "cell_type": "markdown",
   "metadata": {},
   "source": [
    "# Jerarquia De Analisis QA"
   ]
  },
  {
   "cell_type": "code",
   "execution_count": null,
   "metadata": {},
   "outputs": [],
   "source": [
    "## Diccionario con la Jerarquia Campo:Dimension:Regla\n",
    "\n",
    "from pyspark.sql import functions as F\n",
    "\n",
    "reglas_campos = {\n",
    "\n",
    "    'REP_LEGAL': {\n",
    "        'Completitud': [REP_LEGAL_Regla_PrimerNombre_PrimerApellido],\n",
    "        'Validez': [REP_LEGAL_Regla_NoNumeros, REP_LEGAL_Regla_NoCaracteresEspeciales, REP_LEGAL_Regla_AlMenosUnEspacio],\n",
    "        'Exactitud':[REP_LEGAL_Regla_NoPuntosComasAsteriscos,REP_LEGAL_Regla_NoSecuenciaRepetida,REP_LEGAL_Regla_NoUnaSolaLetra,\n",
    "                     REP_LEGAL_Regla_NoSilabasDosLetras] \n",
    "        # Otras dimensiones y sus respectivos filtros para el campo 'NOMCLI'\n",
    "    }, \n",
    "    \n",
    "\n",
    "    'FECHA_DE_CONSTITUCION': {\n",
    "        'Completitud': [FECHA_DE_CONSTITUCION_Regla_NoVacio],\n",
    "        'Exactitud': [FECHA_DE_CONSTITUCION_Regla_NoFuturo,FECHA_DE_CONSTITUCION_Regla_MenorIgualQue1900, FECHA_DE_CONSTITUCION_Regla_Mayor120Anios, \n",
    "                      FECHA_DE_CONSTITUCION_Regla_NoMayorFechaIngreso],\n",
    "        'Validez': [FECHA_DE_CONSTITUCION_Regla_FormatoDiaMesAnio],             \n",
    "    }, \n",
    "\n",
    "    'CODIGO_LUGAR_DE_CONSTITUCION': { \n",
    "        'Completitud': [CODIGO_LUGAR_DE_CONSTITUCION_Regla_NoVacioONulo],\n",
    "        'Consistencia': [CODIGO_LUGAR_DE_CONSTITUCION_Regla_ValorPerteneceListaDane],\n",
    "        'Validez': [CODIGO_LUGAR_DE_CONSTITUCION_Regla_SoloNumerico, CODIGO_LUGAR_DE_CONSTITUCION_Regla_IgualA01],\n",
    "    },\n",
    "\n",
    "    'TIPDOC': { \n",
    "        'Completitud': [TIPDOC_Regla_NuloOVacio_j]\n",
    "    },\n",
    "\n",
    "\n",
    "    'NIT': { \n",
    "        'Completitud': [NIT_Regla_NuloOVacio_j],\n",
    "        'Consistencia': [NIT_Regla_NoCompletosTIPDOC_j,NIT_Regla_Tipdoc_CC_NoTieneDigitosAdecuados_j, \n",
    "                         NIT_Regla_Tipdoc_CC_PrimerDigito1_NoTiene10Digitos_j, NIT_Regla_Tipdoc_TI_PatronEspecifico_siInicia1_j,\n",
    "                          NIT_Regla_Tipdoc_RegistroCivil_NoCumple_j, \n",
    "                         NIT_Regla_Longitud_CE_NoCumpleCondicion_j,NIT_Regla_Tipdoc_CedulaExtranjeria_NoPatron_j,                        \n",
    "                         NIT_Regla_Tipdoc_Pasaporte_NoCumplePatron_j,NIT_Regla_Tipdoc_NIT_NoCumplePatron_j, \n",
    "                         NIT_Regla_Tipdoc_PP_NoCumplePatron_j, NIT_Regla_Tipdoc_7_NoCumpleCondicion_j,\n",
    "                         NIT_Regla_Longitud_PA_NoCumpleCondicion_j],\n",
    "        'Unicidad': [NIT_Regla_unicidadCombinacionNitMasTipo_j],\n",
    "        'Validez': [NIT_Regla_Tipdoc_CC_LongitudExcedida_j]\n",
    "    },\n",
    "\n",
    "    'FECEXPREP': {\n",
    "        'Completitud': [FECEXPREP_Regla_NoVacio],    \n",
    "        'Validez': [FECEXPREP_Regla_NoEsTexto],\n",
    "        'Exactitud': [FECEXPREP_Regla_DiferenciaMayorIgual120,FECEXPREP_Regla_FechaAnterior1900]\n",
    "    }, \n",
    "\n",
    "    'CIUDAD_EXPEDICION': { \n",
    "        'Completitud': [CIUDAD_EXPEDICION_Regla_NoVacioONulo], \n",
    "        'Validez': [CIUDAD_EXPEDICION_Regla_No0o1,CIUDAD_EXPEDICION_Regla_SoloNumerico],\n",
    "        'Consistencia': [CIUDAD_EXPEDICION_Regla_ValorPerteneceListaDane]\n",
    "    }, \n",
    "\n",
    "    'DIRECCION_COMERCIO': {\n",
    "        'Completitud': [DIRECCION_COMERCIO_Regla_NoVacioONulo],\n",
    "        'Validez': [DIRECCION_COMERCIO_Regla_NoCaracteresEspeciales, DIRECCION_COMERCIO_Regla_ValorListaErrados],\n",
    "        'Exactitud': [DIRECCION_COMERCIO_Regla_NoSoloNumeros,DIRECCION_COMERCIO_Regla_NoSoloUnaPalabra,DIRECCION_COMERCIO_Regla_ContieneNoAplica],\n",
    "        'Consistencia': [DIRECCION_COMERCIO_Regla_LongitudMinima]\n",
    "    }, \n",
    "\n",
    "    'CODIGO_CIUDAD_DE_SEDE_PRINCIPAL': { \n",
    "        'Completitud': [CODIGO_CIUDAD_DE_SEDE_PRINCIPAL_Regla_NoVacioNiNulo, CODIGO_CIUDAD_DE_SEDE_PRINCIPAL_Regla_NoVacioNiNulo_SinDireccionBarrioDiligenciado],\n",
    "        'Validez': [CODIGO_CIUDAD_DE_SEDE_PRINCIPAL_Regla_EsNumerico, CODIGO_CIUDAD_DE_SEDE_PRINCIPAL_Regla_ValorListaDane],\n",
    "        'Exactitud': [CODIGO_CIUDAD_DE_SEDE_PRINCIPAL_Regla_ValorCodigoCero]\n",
    "    },\n",
    "\n",
    "\n",
    "    'TEL_REP': {\n",
    "        'Completitud': [TEL_REP_Regla_NoNuloOVacio],\n",
    "        'Validez': [TEL_REP_Regla_Numerico,TEL_REP_Regla_Longitud10],\n",
    "        'Exactitud': [TEL_REP_Regla_NoUnaSolaLetra,TEL_REP_Regla_NoNoAplica, TEL_REP_Regla_NoTexto],\n",
    "        'Consistencia': [TEL_REP_Regla_ValorListaErrados]\n",
    "    }, \n",
    "\n",
    "    'TEL_COMERC': {\n",
    "        'Completitud': [TEL_COMERC_Regla_VacioNuloSinTEL_REP, TEL_COMERC_Regla_vaciosConDirecciones],\n",
    "        'Validez': [TEL_COMERC_Regla_SoloNumeros,TEL_COMERC_Regla_Longitud,TEL_COMERC_Regla_NoMenorQue999999,\n",
    "                    TEL_COMERC_Regla_MayorQue1000000,TEL_COMERC_Regla_Patron],\n",
    "        'Exactitud': [TEL_COMERC_Regla_NoLetraSola,TEL_COMERC_Regla_NoSilabasRepetidas,TEL_COMERC_Regla_NoContieneNoAplica]\n",
    "    }, \n",
    "\n",
    "\n",
    "     'NOM_PAIS_CONSTITUCIÓN': {\n",
    "        'Completitud': [NOM_PAIS_CONSTITUCIÓN_Regla_NoVacioNulo],\n",
    "        'Validez': [NOM_PAIS_CONSTITUCIÓN_Regla_ValorListaDane]\n",
    "    }, \n",
    "\n",
    "    'NOMBRE': {  \n",
    "        'Validez': [NOMBRE_Regla_NoNumeros,NOMBRE_Regla_NoCaracteresEspeciales,NOMBRE_Regla_NoSoloPuntoComaAsterisco,NOMBRE_Regla_SinPuntosComas],\n",
    "        'Exactitud': [NOMBRE_Regla_NoSecuenciaRepetida,NOMBRE_Regla_NoSoloNumerosLetras],\n",
    "        'Consistencia': [NOMBRE_Regla_NoListaErrados]\n",
    "    }, \n",
    "\n",
    "    'Dir_Representante': {\n",
    "        'Validez': [Dir_Representante_Regla_CaracteresEspeciales],\n",
    "        'Exactitud': [Dir_Representante_Regla_NoSoloNumerico,Dir_Representante_Regla_NoSilabasEspecíficas, Dir_Representante_Regla_NoSoloUnaPalabra,\n",
    "                         Dir_Representante_Regla_ContieneNoAplica, Dir_Representante_Regla_NoSoloNumerosNiUnaLetra],\n",
    "        'Consistencia': [Dir_Representante_Regla_LongitudMayorA7]\n",
    "    }, \n",
    "\n",
    "    'CIU_REP': {\n",
    "        'Validez': [CIU_REP_Regla_ValorListaDane],\n",
    "    }, \n",
    "\n",
    "    'CIIU': {\n",
    "        'Completitud': [CIIU_Regla_NoCeroONuloOVacio],\n",
    "        'Consistencia': [CIIU_Regla_ValorListaCIIU]\n",
    "    }, \n",
    "\n",
    "    'TOT_VENTASB': {\n",
    "        'Completitud': [TOT_VENTASB_Regla_Cero,TOT_VENTASB_Regla_NoUnoNuloOVacio, TOT_VENTASB_Regla_NoVacioConActividadesEspecificas, \n",
    "                        TOT_VENTASB_Regla_NumeroConActividadesEspecificas],\n",
    "        'Validez': [TOT_VENTASB_Regla_EsNumerico,],\n",
    "        'Consistencia': [TOT_VENTASB_Regla_NoMenorQueCienMil]\n",
    "    }, \n",
    "\n",
    "    'OTR_INGRSOB': {\n",
    "        'Validez': [OTR_INGRSOB_Regla_EsNumerico],\n",
    "        'Consistencia': [OTR_INGRSOB_Regla_CumpleCondiciones],\n",
    "        'Exactitud': [OTR_INGRSOB_Regla_NoTexto],\n",
    "    }, \n",
    "\n",
    "    'DETALLE_DE_OTROS_INGRESOS_NO_OPERACIONALES': {\n",
    "        'Completitud': [DETALLE_DE_OTROS_INGRESOS_NO_OPERACIONALES_Regla_TextoSinDigitos],\n",
    "    }, \n",
    "\n",
    "    'TOT_GASTOSB': {\n",
    "        'Validez': [TOT_GASTOSB_Regla_SerNumerico],\n",
    "        'Completitud': [TOT_GASTOSB_Regla_Cero,TOT_GASTOSB_Regla_NoUnoNuloVacio],\n",
    "        'Consistencia': [TOT_GASTOSB_Regla_NoMenorQueCienMil]\n",
    "    }, \n",
    "\n",
    "    'TOT_PASIVOB': {\n",
    "        'Consistencia': [TOT_PASIVOB_Regla_MayorQueCero],\n",
    "        'Completitud': [TOT_PASIVOB_Regla_NoUnoNuloVacio]\n",
    "    }, \n",
    "\n",
    "    'TOT_ACTIVOB': {\n",
    "        'Validez': [TOT_ACTIVOB_Regla_SerNumerico],\n",
    "        'Completitud': [TOT_ACTIVOB_Regla_NoCeroNuloUnoVacio],\n",
    "        'Consistencia': [TOT_ACTIVOB_Regla_MayorQueCienMil],\n",
    "        'Exactitud': [TOT_ACTIVOB_Regla_NoSilabas]\n",
    "    }, \n",
    "\n",
    "    'REALIZA_OPERACIONES_ME': { \n",
    "        'Completitud': [REALIZA_OPERACIONES_ME_Regla_NoNuloNoVacio],\n",
    "        'Validez': [REALIZA_OPERACIONES_ME_Regla_ValoresPermitidos],\n",
    "    }, \n",
    "\n",
    "    'TIPO_PRODUCTO_ME': {\n",
    "        'Completitud': [TIPO_PRODUCTO_ME_Regla_NoNuloNoVacioConIndicadorSi],\n",
    "        'Validez': [TIPO_PRODUCTO_ME_Regla_ValoresPermitidos]\n",
    "    }, \n",
    "\n",
    "    'ENTIDAD_ME': {\n",
    "        'Completitud': [ENTIDAD_ME_Regla_NoNuloNoVacio],\n",
    "        'Validez': [ENTIDAD_ME_Regla_ListaISO, ENTIDAD_ME_Regla_NoTexto]\n",
    "    }, \n",
    "\n",
    "    'PAIS_ME': {\n",
    "        'Completitud': [PAIS_ME_Regla_TextoConIndicadorSi, PAIS_ME_Regla_NoNuloNoVacio],\n",
    "        'Validez': [PAIS_ME_Regla_ListaPaises]\n",
    "    }, \n",
    "\n",
    "    'COD_DEP_CONSTITUCIÓN': {\n",
    "        'Completitud': [COD_DEP_CONSTITUCIÓN_Regla_NoNuloNoVacio, COD_DEP_CONSTITUCIÓN_Regla_NoNuloNoVacio],\n",
    "        'Validez': [COD_DEP_CONSTITUCIÓN_Regla_TextoConIndicadorSi, COD_DEP_CONSTITUCIÓN_Regla_ListaDepartamentos]\n",
    "    }, \n",
    " \n",
    "\n",
    "    'CUAL_CARGO': {\n",
    "        'Completitud': [CUAL_CARGO_Regla_NoNuloVacio_PEPS_Juridicos],\n",
    "        'Validez': [CUAL_CARGO_Regla_NoListaErrados_Juridicos]\n",
    "    },\n",
    "\n",
    "    'FECINI_CARGO_PUBLICO': {\n",
    "        'Completitud': [FECINI_CARGO_PUBLICO_Regla_NoVacioPEPS_Juridicos],\n",
    "        'Consistencia': [FECINI_CARGO_PUBLICO_Regla_FechaDespues1900_Juridicos],\n",
    "        'Validez': [FECINI_CARGO_PUBLICO_Regla_FormatoDiaMesAnio_Juridicos]\n",
    "    }, \n",
    "\n",
    "    'FECFIN_CARGO_PUBLICO': {\n",
    "        \n",
    "        'Consistencia': [FECFIN_CARGO_PUBLICO_Regla_FechaDespues1900_Juridicos],\n",
    "        'Validez': [FECFIN_CARGO_PUBLICO_Regla_FormatoDiaMesAnio_Juridicos]\n",
    "    }, \n",
    "\n",
    "    'REP_LEGAL_ONG': {\n",
    "        'Completitud': [REP_LEGAL_ONG_Regla_NoVaciosNuloPEPS_Juridicos],\n",
    "        'Validez': [REP_LEGAL_ONG_Regla_ValoresPermitidos_Juridicos]\n",
    "    }, \n",
    "\n",
    "    'CARGO_PUBLICO': {\n",
    "        'Completitud': [CARGO_PUBLICO_Regla_ObligatorioPEPS_Juriicos],\n",
    "        'Validez': [CARGO_PUBLICO_Regla_ValoresPermitidos_Juridicos]\n",
    "    }, \n",
    "\n",
    "    'TIENE_VINCULO_PEPS': { \n",
    "        'Completitud': [TIENE_VINCULO_PEPS_Regla_NoVaciosNuloPEPS_Juridico],\n",
    "        'Validez': [TIENE_VINCULO_PEPS_Regla_ValoresPermitidos_Juridico]\n",
    "    }, \n",
    "\n",
    "\n",
    "    'SCORER': {\n",
    "        'Completitud': [SCORER_Regla_ValoresPermitidos_Juridico]\n",
    "    }, \n",
    "\n",
    "\n",
    "    'FEC_INGBCO': {\n",
    "        'Consistencia': [FEC_INGBCO_Regla_FechaDespues1900_Juridico],        \n",
    "        'Validez': [FEC_INGBCO_Regla_FormatoDiaMesAnio_Juridico]\n",
    "    }, \n",
    "\n",
    "    'FECUAC': {\n",
    "        'Validez': [FECUAC_Regla_FormatoAnioMesDia],\n",
    "        'Actualizacion': [FECUAC_Regla_CoherenciaSegunRiesgo],\n",
    "        'Consistencia': [FECUAC_Regla_MenorQueUltFecIng, FECUAC_Regla_MayorQue1964]\n",
    "    }, \n",
    "\n",
    "    'FECUAC_EF': {\n",
    "        'Consistencia': [FECUAC_EF_Regla_MayorQue1964, FECUAC_EF_Regla_NoMayorFechaFECUACT],\n",
    "        'Validez': [FECUAC_EF_Regla_FormatoDiaMesAnio]\n",
    "    },\n",
    "\n",
    "    'NOM_PAI_REP': {\n",
    "        'Completitud': [NOM_PAI_REP_Regla_NoNuloNoVacio],\n",
    "        'Validez': [NOM_PAI_REP_Regla_ListaPaises]\n",
    "    },\n",
    "\n",
    "    'COD_DEP_REP': {\n",
    "        'Completitud': [COD_DEP_REP_Regla_NoNuloNoVacio],\n",
    "        'Consistencia': [COD_DEP_REP_Regla_ListaDepartamentos],\n",
    "        'Validez': [COD_DEP_REP_Regla_SoloValoresNumericos, COD_DEP_REP_Regla_DiferenteCeroUno]\n",
    "    },\n",
    "\n",
    "    'ESTGESCOM': {\n",
    "        'Completitud': [ESTGESCOM_Regla_NoNuloNoVacio_jurididico],\n",
    "        'Consistencia': [ESTGESCOM_Regla_EsActivoInactivo_Juridico],\n",
    "        'Validez': [ESTGESCOM_Regla_NoEsNumerico_Juridico, ESTGESCOM_Regla_EsDiferenteCeroUno_Juridico]\n",
    "    },\n",
    "\n",
    "    'NOM_DEP_EXPEDICIÓN': {\n",
    "        'Validez': [NOM_DEP_EXPEDICIÓN_Regla_ListaDepartamentos]\n",
    "    },\n",
    "\n",
    "    'TIPCLI': {\n",
    "        'Completitud': [TIPCLI_Regla_NoNuloNoVacio],\n",
    "        'Exactitud': [TIPCLI_Regla_PerteneceLista,]\n",
    "    },\n",
    "\n",
    "    'TIP_VINCLC': {\n",
    "        'Completitud': [TIP_VINCLC_Regla_NoNuloNoVacio],\n",
    "        'Exactitud': [TIP_VINCLC_Regla_PerteneceLista]\n",
    "    },\n",
    "\n",
    "    'REGIONAL': {\n",
    "        'Completitud': [REGIONAL_Regla_NoNuloNoVacio_Juridico],\n",
    "        'Exactitud': [REGIONAL_Regla_PerteneceLista_Juridico]\n",
    "    },\n",
    "\n",
    "    'AGEHOMO': {\n",
    "        'Completitud': [AGEHOMO_Regla_NoNuloNoVacio_Juridico]\n",
    "    },\n",
    "\n",
    "    'DESEMP_CARGO_ACTUAL': {\n",
    "        'Completitud': [DESEMP_CARGO_ACTUAL_Regla_ObligatorioPEPS_Juridico]\n",
    "    },\n",
    "\n",
    "    'NUMERO_SOCIOS': {\n",
    "    'Consistencia': [NUMERO_SOCIOS_Regla_Numerico],\n",
    "    'Validez': [NUMERO_SOCIOS_Regla_ValoresTipoEmpresaAccionista] \n",
    "    },\n",
    "\n",
    "    'IDENTIFICACION_SOCIO1': {\n",
    "    'Completitud': [IDENTIFICACION_SOCIO1_Regla_NoVacioNulo],    \n",
    "    'Consistencia': [IDENTIFICACION_SOCIO1_Regla_TiposDeDocumentoValidos],    \n",
    "    'Validez': [IDENTIFICACION_SOCIO1_Regla_Tipdoc_1_NoTieneDigitosAdecuados,IDENTIFICACION_SOCIO1_Regla_Tipdoc_1_PrimerDigito1_NoTieneDigitosAdecuados,\n",
    "                IDENTIFICACION_SOCIO1_Regla_Tipdoc_2_No6Caracteres, IDENTIFICACION_SOCIO1_Regla_Tipdoc_CedulaExtranjeria_NoPatron, IDENTIFICACION_SOCIO1_Regla_Longitud_PA_NoCumpleCondicion,\n",
    "                IDENTIFICACION_SOCIO1_Regla_Tipdoc_NIT_NoCumplePatron,IDENTIFICACION_SOCIO1_Regla_unicidadCombinacionIdentificacionMasTipo]         \n",
    "    },\n",
    "\n",
    "    'TIPO_EMPRESA': {\n",
    "    'Consistencia': [TIPO_EMPRESA_Regla_valoresPermitidos]\n",
    "    },\n",
    "\n",
    "    'NOMBRE_SOCIO1': {\n",
    "    'Completitud': [NOMBRE_SOCIO1_Regla_PrimerNombre_PrimerApellido],\n",
    "    'Validez':[NOMBRE_SOCIO1_Regla_NoNumeros, NOMBRE_SOCIO1_Regla_NoCaracteresEspeciales,NOMBRE_SOCIO1_Regla_AlMenosUnEspacio] , \n",
    "    'Exactitud': [NOMBRE_SOCIO1_Regla_NoPuntosComasAsteriscos, NOMBRE_SOCIO1_Regla_NoSecuenciaRepetida, NOMBRE_SOCIO1_Regla_NoUnaSolaLetra, NOMBRE_SOCIO1_Regla_NoSilabasDosLetras]  \n",
    "    },\n",
    "\n",
    "    'TOT_PTRMNOB': {\n",
    "    'Validez': [TOT_PTRMNOB_Regla_SerNumerico],\n",
    "    'Completitud': [TOT_PTRMNOB_Regla_Cero,TOT_PTRMNOB_Regla_NoUnoNuloVacio],\n",
    "    'Consistencia': [TOT_PTRMNOB_Regla_NoMenorQueCienMil]\n",
    "    },\n",
    "\n",
    "    'CAP_SOCIALB': {\n",
    "    'Validez': [CAP_SOCIALB_Regla_SerNumerico],\n",
    "    'Completitud': [CAP_SOCIALB_Regla_Cero,CAP_SOCIALB_Regla_NoUnoNuloVacio],\n",
    "    'Consistencia': [CAP_SOCIALB_Regla_NoMenorQueLimiteCienMil]\n",
    "    },\n",
    "\n",
    "    'INGRESOS_MENSUALES': {\n",
    "    'Validez': [INGRESOS_MENSUALES_Regla_SerNumerico],\n",
    "    'Completitud': [INGRESOS_MENSUALES_Regla_Cero,INGRESOS_MENSUALES_Regla_NoUnoNuloVacio],\n",
    "    'Consistencia': [INGRESOS_MENSUALES_Regla_NoMenorQueCienMil]\n",
    "    },   \n",
    "\n",
    "    'EGRESOS_MENSUALES': {\n",
    "    'Validez': [EGRESOS_MENSUALES_Regla_SerNumerico],\n",
    "    'Completitud': [EGRESOS_MENSUALES_Regla_Cero,EGRESOS_MENSUALES_Regla_NoUnoNuloVacio],\n",
    "    'Consistencia': [EGRESOS_MENSUALES_Regla_NoMenorQueCienMil]\n",
    "    }, \n",
    "\n",
    "    'MONTO_ME': {\n",
    "    'Validez': [MONTO_ME_Regla_numericoSiMonedaExtranjera],\n",
    "    'Completitud': [MONTO_ME_Regla_numericoCeroUnoNulo]    \n",
    "    },\n",
    "\n",
    "    'Posee_Cuentas_Ext': {\n",
    "    'Validez': [Posee_Cuentas_Ext_Regla_ValoresPermitidos],\n",
    "    'Completitud': [Posee_Cuentas_Ext_Regla_NoNuloNoVacio]    \n",
    "    },    \n",
    "    \n",
    "}"
   ]
  },
  {
   "cell_type": "markdown",
   "metadata": {},
   "source": [
    "# Ejecución automatizada de Calidad"
   ]
  },
  {
   "cell_type": "code",
   "execution_count": null,
   "metadata": {},
   "outputs": [],
   "source": [
    "from pyspark.sql import functions as F\n",
    "\n",
    "def get_variable_name(variable):\n",
    "    for name in globals():\n",
    "        if id(globals()[name]) == id(variable):\n",
    "            return name\n",
    "    for name in locals():\n",
    "        if id(locals()[name]) == id(variable):\n",
    "            return name\n",
    "    return None\n",
    "\n",
    "from pyspark.sql import functions as F\n",
    "\n",
    "def generar_dataframe_desde_campo(campo,dataframe):\n",
    "    # Obtener las reglas y filtros para el campo especificado\n",
    "    reglas_campo = reglas_campos.get(campo, {})\n",
    "\n",
    "    # Obtener el DataFrame original solo con las columnas del campo y 'NIT'\n",
    "    df_campo = dataframe.select(campo, 'NIT', 'FechaCorte')\n",
    "\n",
    "    # Lista para almacenar los DataFrames filtrados\n",
    "    dataframes_concatenados = []\n",
    "\n",
    "    # Iterar sobre las dimensiones y filtros del campo especificado\n",
    "    for dimension, filtros in reglas_campo.items():\n",
    "        # Iterar sobre los filtros\n",
    "        for filtro in filtros:\n",
    "            # Aplicar el filtro al DataFrame del campo\n",
    "            df_filtrado = df_campo.filter(filtro)\n",
    "            \n",
    "            # Obtener el nombre del filtro como cadena\n",
    "            nombre_filtro = get_variable_name(filtro)\n",
    "            \n",
    "            # Agregar la columna 'Regla' con el nombre de la regla aplicada\n",
    "            regla_column = F.lit(f\"{nombre_filtro}\")\n",
    "            df_filtrado = df_filtrado.withColumn('Regla', regla_column)\n",
    "            \n",
    "            # Cambiar el nombre de la columna del campo a 'Registro'\n",
    "            df_filtrado = df_filtrado.withColumnRenamed(campo, 'Registro')\n",
    "            \n",
    "            # Agregar la columna 'Dimension' con el nombre de la dimensión\n",
    "            df_filtrado = df_filtrado.withColumn('Dimension', F.lit(dimension))\n",
    "            \n",
    "            # Agregar la columna 'Campo' con el nombre del campo\n",
    "            df_filtrado = df_filtrado.withColumn('Campo', F.lit(campo))\n",
    "            \n",
    "            # Agregar el DataFrame filtrado a la lista\n",
    "            dataframes_concatenados.append(df_filtrado)\n",
    "\n",
    "    # Concatenar todos los DataFrames en la lista\n",
    "    df_concatenado = dataframes_concatenados[0] if dataframes_concatenados else None\n",
    "    for i in range(1, len(dataframes_concatenados)):\n",
    "        df_concatenado = df_concatenado.union(dataframes_concatenados[i])\n",
    "\n",
    "    return df_concatenado\n"
   ]
  },
  {
   "cell_type": "markdown",
   "metadata": {},
   "source": [
    "Se hace el bucle"
   ]
  },
  {
   "cell_type": "code",
   "execution_count": null,
   "metadata": {},
   "outputs": [],
   "source": [
    "# Obtener la lista de campos desde el diccionario de reglas_campos\n",
    "lista_campos_reglas = list(reglas_campos.keys())\n",
    "\n",
    "# DataFrame vacío para almacenar los resultados concatenados\n",
    "resultado_concatenado = None\n",
    "\n",
    "# Iterar sobre cada campo en la lista\n",
    "for campo in lista_campos_reglas:\n",
    "    try:\n",
    "        # Llamar al método 'generar_dataframe_desde_campo' con el campo actual\n",
    "        df_actual = generar_dataframe_desde_campo(campo,df_spark)\n",
    "        \n",
    "        # Verificar si es el primer DataFrame, si es así, asignar directamente el resultado\n",
    "        if resultado_concatenado is None:\n",
    "            resultado_concatenado = df_actual\n",
    "        else:\n",
    "            # Concatenar el DataFrame actual con el DataFrame acumulado\n",
    "            resultado_concatenado = resultado_concatenado.union(df_actual)\n",
    "    \n",
    "    except Exception as e:\n",
    "        # Manejar la excepción (puedes imprimir un mensaje de error o simplemente omitirlo)\n",
    "        print(f\"Error al procesar el campo '{campo}': {str(e)}\")\n",
    "        \n",
    "        continue  # Ir al siguiente campo si ocurre una excepción"
   ]
  },
  {
   "cell_type": "markdown",
   "metadata": {},
   "source": [
    "# Poblamiento "
   ]
  },
  {
   "cell_type": "markdown",
   "metadata": {},
   "source": [
    "## Tabla CampoActivo "
   ]
  },
  {
   "cell_type": "code",
   "execution_count": null,
   "metadata": {},
   "outputs": [],
   "source": [
    "from pyspark.sql import SparkSession\n",
    "from pyspark.sql.functions import lit, row_number\n",
    "from pyspark.sql.window import Window\n",
    "\n",
    "\n",
    "lista_campos_reglas = list(reglas_campos.keys())\n",
    "elementos_a_eliminar = ('BARRIO')\n",
    "\n",
    "# Eliminar elementos de la lista\n",
    "lista_campos_reglas = [campo for campo in lista_campos_reglas if campo not in elementos_a_eliminar]\n",
    "df_pob_campoActivo = df_spark.select(lista_campos_reglas)\n",
    "\n",
    "# Obtener información sobre nombre, tipo de dato y longitud de cada columna en df_pob_campoActivo\n",
    "column_info = [(col.name, str(col.dataType), len(col.name)) for col in df_pob_campoActivo.schema]\n",
    "\n",
    "# Crear DataFrame en PySpark con la información obtenida\n",
    "df_campoActivo = spark.createDataFrame(column_info, [\"Campo\", \"tipo\", \"longitud\"])\n",
    "\n",
    "# Agregar las columnas adicionales\n",
    "df_campoActivo = df_campoActivo.withColumn(\"descripcion\", lit(\"descripción del campo\"))\n",
    "df_campoActivo = df_campoActivo.withColumn(\"id_activo\", lit(2))\n",
    "\n",
    "# Agregar una columna 'id_campoActivo' con valores incrementales secuenciales\n",
    "windowSpec = Window.orderBy(lit(1))\n",
    "df_campoActivo = df_campoActivo.withColumn(\"id_campoActivo\", row_number().over(windowSpec))"
   ]
  },
  {
   "cell_type": "code",
   "execution_count": null,
   "metadata": {},
   "outputs": [],
   "source": [
    "import pandas as pd\n",
    "\n",
    "# Convertir el DataFrame de PySpark a DataFrame de Pandas\n",
    "df_pandas = df_campoActivo.toPandas()\n",
    "\n",
    "# Especificar la ruta donde se guardará el archivo Excel\n",
    "ruta_excel = \"informacionCamposPanda.xlsx\"  # Reemplaza con la ruta deseada y el nombre del archivo\n",
    "\n",
    "# Guardar el DataFrame de Pandas en un archivo Excel\n",
    "df_pandas.to_excel(ruta_excel, index=False)\n"
   ]
  },
  {
   "cell_type": "markdown",
   "metadata": {},
   "source": [
    "## Tabla Regla"
   ]
  },
  {
   "cell_type": "code",
   "execution_count": null,
   "metadata": {},
   "outputs": [],
   "source": [
    "from pyspark.sql import SparkSession\n",
    "from pyspark.sql.functions import lit, row_number\n",
    "from pyspark.sql.window import Window\n",
    "\n",
    "# Lista para almacenar todas las reglas\n",
    "lista_reglas = []\n",
    "lista_reglasTecnicas= []\n",
    "\n",
    "# Iterar sobre el diccionario para obtener las reglas\n",
    "for campo, dimensiones in reglas_campos.items():\n",
    "    for dimension, reglas in dimensiones.items():\n",
    "        lista_reglas.extend([get_variable_name(regla) for regla in reglas])\n",
    "        lista_reglasTecnicas.extend([f\"{campo}.{str(regla)}\" for regla in reglas])\n",
    "\n",
    "# Lista para almacenar los datos para el DataFrame\n",
    "data = []\n",
    "\n",
    "# Iterar sobre el diccionario para obtener las reglas\n",
    "for campo, dimensiones in reglas_campos.items():\n",
    "    for dimension, reglas in dimensiones.items():\n",
    "        for regla in reglas:\n",
    "            regla_tecnica= lista_reglasTecnicas.pop(0)\n",
    "            regla_nombre = lista_reglas.pop(0)\n",
    "            data.append({'Regla': regla_nombre, 'nombre Campo': campo, 'dimension': dimension, 'regla Tecnica': regla_tecnica})\n",
    "\n",
    "# Crear el DataFrame df_regla con los datos\n",
    "df_regla = spark.createDataFrame(data)\n",
    "\n",
    "# Asignar un ID único y secuencial a cada regla como identificador primario\n",
    "windowSpec = Window.orderBy(lit(1))\n",
    "df_regla = df_regla.withColumn(\"id_regla\", row_number().over(windowSpec) + 203)  # Comenzando desde \"204\"\n",
    "\n",
    "# Agregar una columna 'id_activo' con el valor constante 1\n",
    "df_regla = df_regla.withColumn(\"id_activo\", lit(2))\n"
   ]
  },
  {
   "cell_type": "code",
   "execution_count": null,
   "metadata": {},
   "outputs": [
    {
     "name": "stdout",
     "output_type": "stream",
     "text": [
      "+--------------------+--------+\n",
      "|    DescripcionRegla|id_regla|\n",
      "+--------------------+--------+\n",
      "|Primer nombre y p...|     204|\n",
      "|Campo no debe con...|     205|\n",
      "|Campo no debe con...|     206|\n",
      "|Validación de esp...|     207|\n",
      "|Que no exista sol...|     208|\n",
      "|No debe contener ...|     209|\n",
      "| El campo no debe...|     210|\n",
      "|El campo no debe ...|     211|\n",
      "|Campo no debe ser...|     212|\n",
      "|No debe ser mayor...|     213|\n",
      "|Debe ser mayor a ...|     214|\n",
      "|(FECHA NACIMIENTO...|     215|\n",
      "|No debe ser mayor...|     216|\n",
      "|Estándar ISO8601F...|     217|\n",
      "|Campo no debe ser...|     218|\n",
      "|\"\"\"El código de l...|     219|\n",
      "|       Sólo Numérico|     220|\n",
      "|  Diferente de 0 a 1|     221|\n",
      "|Campo no debe ser...|     222|\n",
      "|Campo no debe ser...|     223|\n",
      "+--------------------+--------+\n",
      "only showing top 20 rows\n",
      "\n"
     ]
    }
   ],
   "source": [
    "from pyspark.sql import SparkSession\n",
    "from pyspark.sql.functions import lit, row_number\n",
    "from pyspark.sql.window import Window\n",
    "\n",
    "# Ruta del archivo CSV\n",
    "ruta_csv = \"/home/jovyan/code/Bancoomeva_Oficial/ReglasNegocioVersion2.csv\"\n",
    "\n",
    "# Leer el archivo CSV en un DataFrame de PySpark\n",
    "df_csv = spark.read.option(\"header\", \"true\").option(\"delimiter\", \";\").csv(ruta_csv)\n",
    "\n",
    "# Selecciona la columna DescripcionRegla\n",
    "df_reglasNegocio = df_csv.select('DescripcionRegla')\n",
    "\n",
    "# Añadir columna 'ID' con identificadores únicos al DataFrame\n",
    "windowSpec = Window.orderBy(lit(1))\n",
    "df_reglasNegocio = df_reglasNegocio.withColumn(\"id_regla\", row_number().over(windowSpec) + 203)  # Comenzando desde \"204\"\n",
    "\n",
    "# Asegúrate de tener la columna 'id_regla' como tipo Integer\n",
    "df_reglasNegocio = df_reglasNegocio.withColumn(\"id_regla\", col(\"id_regla\").cast(\"int\"))\n",
    "\n",
    "# Muestra el DataFrame resultante\n",
    "df_reglasNegocio.show()\n",
    "\n",
    "# Unir los DataFrames por la columna 'id_regla'\n",
    "df_unido = df_reglasNegocio.join(df_regla, \"id_regla\")\n"
   ]
  },
  {
   "cell_type": "code",
   "execution_count": null,
   "metadata": {},
   "outputs": [],
   "source": [
    "#cargar_dataframe_a_tabla(df_unido, \"Calidad.ReglaPj\")"
   ]
  },
  {
   "cell_type": "markdown",
   "metadata": {},
   "source": [
    "## Tabla RegistrosNoConformes"
   ]
  },
  {
   "cell_type": "code",
   "execution_count": null,
   "metadata": {},
   "outputs": [],
   "source": [
    "from pyspark.sql import Window\n",
    "from pyspark.sql.functions import row_number\n",
    "from pyspark.sql.functions import to_date\n",
    "\n",
    "# Agregar la columna \"ID_analisisQA\" con valor constante \"1\" al DataFrame \"resultado_concatenado\"\n",
    "RegistroNoConforme = resultado_concatenado.withColumn(\"ID_analisisQA\", lit(1))\n",
    "\n",
    "\n",
    "# Crear una ventana de partición para ordenar los registros y generar un ID único\n",
    "windowSpec = Window.orderBy(lit(1))\n",
    "RegistroNoConforme = RegistroNoConforme.withColumn(\"ID_Registro\", row_number().over(windowSpec))\n",
    "\n",
    "df_reordenado = RegistroNoConforme.select('ID_Registro', 'NIT', 'Registro', 'Regla', 'Dimension', 'Campo','ID_analisisQA', 'FechaCorte')\n",
    "\n",
    "df_resultadoReg = df_reordenado.join(df_regla.select(\"Regla\", \"id_regla\"), on=\"Regla\", how=\"left\")\n",
    "df_resultadoReg = df_resultadoReg.join(df_campoActivo.select(\"Campo\", \"id_campoActivo\"), on=\"Campo\", how=\"left\")"
   ]
  },
  {
   "cell_type": "code",
   "execution_count": null,
   "metadata": {},
   "outputs": [],
   "source": [
    "df_resultadoReg = df_resultadoReg.withColumn(\"id_activo\", lit(2))"
   ]
  },
  {
   "cell_type": "code",
   "execution_count": null,
   "metadata": {},
   "outputs": [
    {
     "name": "stdout",
     "output_type": "stream",
     "text": [
      "El DataFrame tiene 390909 filas y 11 columnas.\n",
      "root\n",
      " |-- Campo: string (nullable = false)\n",
      " |-- Regla: string (nullable = false)\n",
      " |-- ID_Registro: integer (nullable = false)\n",
      " |-- NIT: long (nullable = true)\n",
      " |-- Registro: string (nullable = true)\n",
      " |-- Dimension: string (nullable = false)\n",
      " |-- ID_analisisQA: integer (nullable = false)\n",
      " |-- FechaCorte: string (nullable = true)\n",
      " |-- id_regla: integer (nullable = true)\n",
      " |-- id_campoActivo: integer (nullable = true)\n",
      " |-- id_activo: integer (nullable = false)\n",
      "\n"
     ]
    }
   ],
   "source": [
    "\n",
    "\n",
    "num_filas = df_resultadoReg.count()\n",
    "\n",
    "# Obtener el número de columnas\n",
    "num_columnas = len(df_resultadoReg.columns)\n",
    "\n",
    "print(f\"El DataFrame tiene {num_filas} filas y {num_columnas} columnas.\")\n",
    "\n",
    "# Mostrar el esquema del DataFrame obtenido\n",
    "df_resultadoReg.printSchema()"
   ]
  },
  {
   "cell_type": "code",
   "execution_count": null,
   "metadata": {},
   "outputs": [],
   "source": [
    "cargar_dataframe_a_tabla(df_resultadoReg,\"Calidad.RegCortesRemPJ\")"
   ]
  },
  {
   "cell_type": "markdown",
   "metadata": {},
   "source": [
    "# PRUEBAS"
   ]
  },
  {
   "cell_type": "code",
   "execution_count": null,
   "metadata": {},
   "outputs": [],
   "source": [
    "#from pyspark.sql.functions import col\n",
    "\n",
    "\n",
    "#[TEL_REP_Regla_NoNuloOVacio],\n",
    "#[TEL_REP_Regla_Numerico,TEL_REP_Regla_Longitud10],\n",
    "#[TEL_REP_Regla_NoUnaSolaLetra,TEL_REP_Regla_NoNoAplica, TEL_REP_Regla_NoTexto],\n",
    "#[TEL_REP_Regla_ValorListaErrados \n",
    "\n",
    "#df_campo = df_spark.select('NIT','TEL_REP')\n",
    "#df_campo = df_remediado.select('TEL_RESIDE')\n",
    "\n",
    "# Aplicar el filtro y mostrar los resultados\n",
    "#df1 = df_campo.filter(TEL_REP_Regla_Longitud10)\n",
    "#df1.show(truncate=True)\n",
    "\n",
    "#num_filas = df1.count()\n",
    "\n",
    "# Obtener el número de columnas\n",
    "#num_columnas = len(df1.columns)\n",
    "\n",
    "#print(f\"El DataFrame tiene {num_filas} filas y {num_columnas} columnas.\")"
   ]
  }
 ],
 "metadata": {
  "colab": {
   "collapsed_sections": [
    "qxN27II0Pn3T",
    "GnAScmClPn3W",
    "UuZspay3Pn3Z",
    "ZHLs1H0hPn3b",
    "QgkzeSm4Pn3b",
    "LZyQcqCvPn3c",
    "eDf54JyKPn3d",
    "ltTluhtIPn3e",
    "IPhtXcD1Pn3g",
    "-axExLnhPn3g",
    "YfSMeXZQPn3g"
   ],
   "name": "MISW-ETL-Entendimiento.ipynb",
   "provenance": []
  },
  "kernelspec": {
   "display_name": "vscode_pyspark",
   "language": "python",
   "name": "python3"
  },
  "language_info": {
   "codemirror_mode": {
    "name": "ipython",
    "version": 3
   },
   "file_extension": ".py",
   "mimetype": "text/x-python",
   "name": "python",
   "nbconvert_exporter": "python",
   "pygments_lexer": "ipython3",
   "version": "3.11.6"
  },
  "toc-autonumbering": true,
  "toc-showcode": true
 },
 "nbformat": 4,
 "nbformat_minor": 4
}
